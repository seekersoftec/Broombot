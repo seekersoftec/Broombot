{
  "cells": [
    {
      "cell_type": "markdown",
      "metadata": {
        "id": "5Ah7GbtVVltc"
      },
      "source": [
        "# EXPLORATORY DATA ANALYSIS (EDA)\n",
        "---\n"
      ]
    },
    {
      "cell_type": "code",
      "execution_count": 1,
      "metadata": {},
      "outputs": [],
      "source": [
        "import pandas as pd\n",
        "import numpy as np\n",
        "import seaborn as sns\n",
        "import matplotlib.pyplot as plt\n",
        "%matplotlib inline\n",
        "\n",
        "# sns.set()"
      ]
    },
    {
      "cell_type": "code",
      "execution_count": 2,
      "metadata": {},
      "outputs": [],
      "source": [
        "def warn(*args, **kwargs):\n",
        "    pass\n",
        "import warnings\n",
        "warnings.warn = warn"
      ]
    },
    {
      "cell_type": "code",
      "execution_count": 3,
      "metadata": {
        "colab": {
          "base_uri": "https://localhost:8080/"
        },
        "id": "jCRAzZowVltd",
        "outputId": "5749d660-5785-4711-f1ca-de58fd3f8bbf"
      },
      "outputs": [],
      "source": [
        "# file_path =  'https://www.oasis-brains.org/files/oasis_longitudinal.csv'\n",
        "file_path =  'risk_factors_cervical_cancer.csv'\n",
        "df = pd.read_csv(file_path)\n"
      ]
    },
    {
      "cell_type": "code",
      "execution_count": 4,
      "metadata": {},
      "outputs": [
        {
          "data": {
            "text/html": [
              "<div>\n",
              "<style scoped>\n",
              "    .dataframe tbody tr th:only-of-type {\n",
              "        vertical-align: middle;\n",
              "    }\n",
              "\n",
              "    .dataframe tbody tr th {\n",
              "        vertical-align: top;\n",
              "    }\n",
              "\n",
              "    .dataframe thead th {\n",
              "        text-align: right;\n",
              "    }\n",
              "</style>\n",
              "<table border=\"1\" class=\"dataframe\">\n",
              "  <thead>\n",
              "    <tr style=\"text-align: right;\">\n",
              "      <th></th>\n",
              "      <th>Age</th>\n",
              "      <th>STDs: Number of diagnosis</th>\n",
              "      <th>Dx:Cancer</th>\n",
              "      <th>Dx:CIN</th>\n",
              "      <th>Dx:HPV</th>\n",
              "      <th>Dx</th>\n",
              "      <th>Hinselmann</th>\n",
              "      <th>Schiller</th>\n",
              "      <th>Citology</th>\n",
              "      <th>Biopsy</th>\n",
              "    </tr>\n",
              "  </thead>\n",
              "  <tbody>\n",
              "    <tr>\n",
              "      <th>count</th>\n",
              "      <td>858.000000</td>\n",
              "      <td>858.000000</td>\n",
              "      <td>858.000000</td>\n",
              "      <td>858.000000</td>\n",
              "      <td>858.000000</td>\n",
              "      <td>858.000000</td>\n",
              "      <td>858.000000</td>\n",
              "      <td>858.000000</td>\n",
              "      <td>858.000000</td>\n",
              "      <td>858.000000</td>\n",
              "    </tr>\n",
              "    <tr>\n",
              "      <th>mean</th>\n",
              "      <td>26.820513</td>\n",
              "      <td>0.087413</td>\n",
              "      <td>0.020979</td>\n",
              "      <td>0.010490</td>\n",
              "      <td>0.020979</td>\n",
              "      <td>0.027972</td>\n",
              "      <td>0.040793</td>\n",
              "      <td>0.086247</td>\n",
              "      <td>0.051282</td>\n",
              "      <td>0.064103</td>\n",
              "    </tr>\n",
              "    <tr>\n",
              "      <th>std</th>\n",
              "      <td>8.497948</td>\n",
              "      <td>0.302545</td>\n",
              "      <td>0.143398</td>\n",
              "      <td>0.101939</td>\n",
              "      <td>0.143398</td>\n",
              "      <td>0.164989</td>\n",
              "      <td>0.197925</td>\n",
              "      <td>0.280892</td>\n",
              "      <td>0.220701</td>\n",
              "      <td>0.245078</td>\n",
              "    </tr>\n",
              "    <tr>\n",
              "      <th>min</th>\n",
              "      <td>13.000000</td>\n",
              "      <td>0.000000</td>\n",
              "      <td>0.000000</td>\n",
              "      <td>0.000000</td>\n",
              "      <td>0.000000</td>\n",
              "      <td>0.000000</td>\n",
              "      <td>0.000000</td>\n",
              "      <td>0.000000</td>\n",
              "      <td>0.000000</td>\n",
              "      <td>0.000000</td>\n",
              "    </tr>\n",
              "    <tr>\n",
              "      <th>25%</th>\n",
              "      <td>20.000000</td>\n",
              "      <td>0.000000</td>\n",
              "      <td>0.000000</td>\n",
              "      <td>0.000000</td>\n",
              "      <td>0.000000</td>\n",
              "      <td>0.000000</td>\n",
              "      <td>0.000000</td>\n",
              "      <td>0.000000</td>\n",
              "      <td>0.000000</td>\n",
              "      <td>0.000000</td>\n",
              "    </tr>\n",
              "    <tr>\n",
              "      <th>50%</th>\n",
              "      <td>25.000000</td>\n",
              "      <td>0.000000</td>\n",
              "      <td>0.000000</td>\n",
              "      <td>0.000000</td>\n",
              "      <td>0.000000</td>\n",
              "      <td>0.000000</td>\n",
              "      <td>0.000000</td>\n",
              "      <td>0.000000</td>\n",
              "      <td>0.000000</td>\n",
              "      <td>0.000000</td>\n",
              "    </tr>\n",
              "    <tr>\n",
              "      <th>75%</th>\n",
              "      <td>32.000000</td>\n",
              "      <td>0.000000</td>\n",
              "      <td>0.000000</td>\n",
              "      <td>0.000000</td>\n",
              "      <td>0.000000</td>\n",
              "      <td>0.000000</td>\n",
              "      <td>0.000000</td>\n",
              "      <td>0.000000</td>\n",
              "      <td>0.000000</td>\n",
              "      <td>0.000000</td>\n",
              "    </tr>\n",
              "    <tr>\n",
              "      <th>max</th>\n",
              "      <td>84.000000</td>\n",
              "      <td>3.000000</td>\n",
              "      <td>1.000000</td>\n",
              "      <td>1.000000</td>\n",
              "      <td>1.000000</td>\n",
              "      <td>1.000000</td>\n",
              "      <td>1.000000</td>\n",
              "      <td>1.000000</td>\n",
              "      <td>1.000000</td>\n",
              "      <td>1.000000</td>\n",
              "    </tr>\n",
              "  </tbody>\n",
              "</table>\n",
              "</div>"
            ],
            "text/plain": [
              "              Age  STDs: Number of diagnosis   Dx:Cancer      Dx:CIN  \\\n",
              "count  858.000000                 858.000000  858.000000  858.000000   \n",
              "mean    26.820513                   0.087413    0.020979    0.010490   \n",
              "std      8.497948                   0.302545    0.143398    0.101939   \n",
              "min     13.000000                   0.000000    0.000000    0.000000   \n",
              "25%     20.000000                   0.000000    0.000000    0.000000   \n",
              "50%     25.000000                   0.000000    0.000000    0.000000   \n",
              "75%     32.000000                   0.000000    0.000000    0.000000   \n",
              "max     84.000000                   3.000000    1.000000    1.000000   \n",
              "\n",
              "           Dx:HPV          Dx  Hinselmann    Schiller    Citology      Biopsy  \n",
              "count  858.000000  858.000000  858.000000  858.000000  858.000000  858.000000  \n",
              "mean     0.020979    0.027972    0.040793    0.086247    0.051282    0.064103  \n",
              "std      0.143398    0.164989    0.197925    0.280892    0.220701    0.245078  \n",
              "min      0.000000    0.000000    0.000000    0.000000    0.000000    0.000000  \n",
              "25%      0.000000    0.000000    0.000000    0.000000    0.000000    0.000000  \n",
              "50%      0.000000    0.000000    0.000000    0.000000    0.000000    0.000000  \n",
              "75%      0.000000    0.000000    0.000000    0.000000    0.000000    0.000000  \n",
              "max      1.000000    1.000000    1.000000    1.000000    1.000000    1.000000  "
            ]
          },
          "execution_count": 4,
          "metadata": {},
          "output_type": "execute_result"
        }
      ],
      "source": [
        "df.describe()"
      ]
    },
    {
      "cell_type": "code",
      "execution_count": 5,
      "metadata": {},
      "outputs": [],
      "source": [
        "df = df.replace('?', np.nan)"
      ]
    },
    {
      "cell_type": "code",
      "execution_count": 6,
      "metadata": {},
      "outputs": [
        {
          "data": {
            "text/plain": [
              "Age                                     0\n",
              "Number of sexual partners              26\n",
              "First sexual intercourse                7\n",
              "Num of pregnancies                     56\n",
              "Smokes                                 13\n",
              "Smokes (years)                         13\n",
              "Smokes (packs/year)                    13\n",
              "Hormonal Contraceptives               108\n",
              "Hormonal Contraceptives (years)       108\n",
              "IUD                                   117\n",
              "IUD (years)                           117\n",
              "STDs                                  105\n",
              "STDs (number)                         105\n",
              "STDs:condylomatosis                   105\n",
              "STDs:cervical condylomatosis          105\n",
              "STDs:vaginal condylomatosis           105\n",
              "STDs:vulvo-perineal condylomatosis    105\n",
              "STDs:syphilis                         105\n",
              "STDs:pelvic inflammatory disease      105\n",
              "STDs:genital herpes                   105\n",
              "STDs:molluscum contagiosum            105\n",
              "STDs:AIDS                             105\n",
              "STDs:HIV                              105\n",
              "STDs:Hepatitis B                      105\n",
              "STDs:HPV                              105\n",
              "STDs: Number of diagnosis               0\n",
              "STDs: Time since first diagnosis      787\n",
              "STDs: Time since last diagnosis       787\n",
              "Dx:Cancer                               0\n",
              "Dx:CIN                                  0\n",
              "Dx:HPV                                  0\n",
              "Dx                                      0\n",
              "Hinselmann                              0\n",
              "Schiller                                0\n",
              "Citology                                0\n",
              "Biopsy                                  0\n",
              "dtype: int64"
            ]
          },
          "execution_count": 6,
          "metadata": {},
          "output_type": "execute_result"
        }
      ],
      "source": [
        "df.isna().sum()"
      ]
    },
    {
      "cell_type": "code",
      "execution_count": 7,
      "metadata": {},
      "outputs": [
        {
          "data": {
            "text/plain": [
              "Age                                    int64\n",
              "Number of sexual partners             object\n",
              "First sexual intercourse              object\n",
              "Num of pregnancies                    object\n",
              "Smokes                                object\n",
              "Smokes (years)                        object\n",
              "Smokes (packs/year)                   object\n",
              "Hormonal Contraceptives               object\n",
              "Hormonal Contraceptives (years)       object\n",
              "IUD                                   object\n",
              "IUD (years)                           object\n",
              "STDs                                  object\n",
              "STDs (number)                         object\n",
              "STDs:condylomatosis                   object\n",
              "STDs:cervical condylomatosis          object\n",
              "STDs:vaginal condylomatosis           object\n",
              "STDs:vulvo-perineal condylomatosis    object\n",
              "STDs:syphilis                         object\n",
              "STDs:pelvic inflammatory disease      object\n",
              "STDs:genital herpes                   object\n",
              "STDs:molluscum contagiosum            object\n",
              "STDs:AIDS                             object\n",
              "STDs:HIV                              object\n",
              "STDs:Hepatitis B                      object\n",
              "STDs:HPV                              object\n",
              "STDs: Number of diagnosis              int64\n",
              "STDs: Time since first diagnosis      object\n",
              "STDs: Time since last diagnosis       object\n",
              "Dx:Cancer                              int64\n",
              "Dx:CIN                                 int64\n",
              "Dx:HPV                                 int64\n",
              "Dx                                     int64\n",
              "Hinselmann                             int64\n",
              "Schiller                               int64\n",
              "Citology                               int64\n",
              "Biopsy                                 int64\n",
              "dtype: object"
            ]
          },
          "execution_count": 7,
          "metadata": {},
          "output_type": "execute_result"
        }
      ],
      "source": [
        "df.dtypes"
      ]
    },
    {
      "cell_type": "code",
      "execution_count": 8,
      "metadata": {},
      "outputs": [
        {
          "data": {
            "text/plain": [
              "Age                                   float64\n",
              "Number of sexual partners             float64\n",
              "First sexual intercourse              float64\n",
              "Num of pregnancies                    float64\n",
              "Smokes                                float64\n",
              "Smokes (years)                        float64\n",
              "Smokes (packs/year)                   float64\n",
              "Hormonal Contraceptives               float64\n",
              "Hormonal Contraceptives (years)       float64\n",
              "IUD                                   float64\n",
              "IUD (years)                           float64\n",
              "STDs                                  float64\n",
              "STDs (number)                         float64\n",
              "STDs:condylomatosis                   float64\n",
              "STDs:cervical condylomatosis          float64\n",
              "STDs:vaginal condylomatosis           float64\n",
              "STDs:vulvo-perineal condylomatosis    float64\n",
              "STDs:syphilis                         float64\n",
              "STDs:pelvic inflammatory disease      float64\n",
              "STDs:genital herpes                   float64\n",
              "STDs:molluscum contagiosum            float64\n",
              "STDs:AIDS                             float64\n",
              "STDs:HIV                              float64\n",
              "STDs:Hepatitis B                      float64\n",
              "STDs:HPV                              float64\n",
              "STDs: Number of diagnosis             float64\n",
              "STDs: Time since first diagnosis      float64\n",
              "STDs: Time since last diagnosis       float64\n",
              "Dx:Cancer                             float64\n",
              "Dx:CIN                                float64\n",
              "Dx:HPV                                float64\n",
              "Dx                                    float64\n",
              "Hinselmann                            float64\n",
              "Schiller                              float64\n",
              "Citology                              float64\n",
              "Biopsy                                float64\n",
              "dtype: object"
            ]
          },
          "execution_count": 8,
          "metadata": {},
          "output_type": "execute_result"
        }
      ],
      "source": [
        "df = df.astype('float64')\n",
        "df.dtypes"
      ]
    },
    {
      "cell_type": "code",
      "execution_count": 9,
      "metadata": {},
      "outputs": [],
      "source": [
        "df['Number of sexual partners'] = df['Number of sexual partners'].fillna(df['Number of sexual partners'].median())\n",
        "df['First sexual intercourse'] = df['First sexual intercourse'].fillna(df['First sexual intercourse'].median())\n",
        "df['Num of pregnancies'] = df['Num of pregnancies'].fillna(df['Num of pregnancies'].median())\n",
        "df['Smokes'] = df['Smokes'].fillna(df['Smokes'].median())\n",
        "df['Smokes (years)'] = df['Smokes (years)'].fillna(df['Smokes (years)'].median())\n",
        "df['Smokes (packs/year)'] = df['Smokes (packs/year)'].fillna(df['Smokes (packs/year)'].median())\n",
        "df['Hormonal Contraceptives (years)'] = df['Hormonal Contraceptives (years)'].fillna(df['Hormonal Contraceptives (years)'].median())\n",
        "df['IUD'] = df['IUD'].fillna(df['IUD'].median())\n",
        "df['IUD (years)'] = df['IUD (years)'].fillna(df['IUD (years)'].median())\n",
        "df['STDs'] = df['STDs'].fillna(df['STDs'].median())\n",
        "df['STDs (number)'] = df['STDs (number)'].fillna(df['STDs (number)'].median())\n",
        "df['STDs:condylomatosis'] = df['STDs:condylomatosis'].fillna(df['STDs:condylomatosis'].median())\n",
        "df['STDs:cervical condylomatosis'] = df['STDs:cervical condylomatosis'].fillna(df['STDs:cervical condylomatosis'].median())\n",
        "df['STDs:vaginal condylomatosis'] = df['STDs:vaginal condylomatosis'].fillna(df['STDs:vaginal condylomatosis'].median())\n",
        "df['STDs:vulvo-perineal condylomatosis'] = df['STDs:vulvo-perineal condylomatosis'].fillna(df['STDs:vulvo-perineal condylomatosis'].median())\n",
        "df['STDs:syphilis'] = df['STDs:syphilis'].fillna(df['STDs:syphilis'].median())\n",
        "df['STDs:pelvic inflammatory disease'] = df['STDs:pelvic inflammatory disease'].fillna(df['STDs:pelvic inflammatory disease'].median())\n",
        "df['STDs:genital herpes'] = df['STDs:genital herpes'].fillna(df['STDs:genital herpes'].median())\n",
        "df['STDs:molluscum contagiosum'] = df['STDs:molluscum contagiosum'].fillna(df['STDs:molluscum contagiosum'].median())\n",
        "df['STDs:AIDS'] = df['STDs:AIDS'].fillna(df['STDs:AIDS'].median())\n",
        "df['STDs:HIV'] = df['STDs:HIV'].fillna(df['STDs:HIV'].median())\n",
        "df['STDs:Hepatitis B'] = df['STDs:Hepatitis B'].fillna(df['STDs:Hepatitis B'].median())\n",
        "df['STDs:HPV'] = df['STDs:HPV'].fillna(df['STDs:HPV'].median())\n",
        "df['STDs: Time since first diagnosis'] = df['STDs: Time since first diagnosis'].fillna(df['STDs: Time since first diagnosis'].median())\n",
        "df['STDs: Time since last diagnosis'] = df['STDs: Time since last diagnosis'].fillna(df['STDs: Time since last diagnosis'].median())"
      ]
    },
    {
      "cell_type": "code",
      "execution_count": 10,
      "metadata": {},
      "outputs": [
        {
          "data": {
            "text/html": [
              "<div>\n",
              "<style scoped>\n",
              "    .dataframe tbody tr th:only-of-type {\n",
              "        vertical-align: middle;\n",
              "    }\n",
              "\n",
              "    .dataframe tbody tr th {\n",
              "        vertical-align: top;\n",
              "    }\n",
              "\n",
              "    .dataframe thead th {\n",
              "        text-align: right;\n",
              "    }\n",
              "</style>\n",
              "<table border=\"1\" class=\"dataframe\">\n",
              "  <thead>\n",
              "    <tr style=\"text-align: right;\">\n",
              "      <th></th>\n",
              "      <th>Age</th>\n",
              "      <th>Number of sexual partners</th>\n",
              "      <th>First sexual intercourse</th>\n",
              "      <th>Num of pregnancies</th>\n",
              "      <th>Smokes</th>\n",
              "      <th>Smokes (years)</th>\n",
              "      <th>Smokes (packs/year)</th>\n",
              "      <th>Hormonal Contraceptives</th>\n",
              "      <th>Hormonal Contraceptives (years)</th>\n",
              "      <th>IUD</th>\n",
              "      <th>...</th>\n",
              "      <th>STDs: Time since first diagnosis</th>\n",
              "      <th>STDs: Time since last diagnosis</th>\n",
              "      <th>Dx:Cancer</th>\n",
              "      <th>Dx:CIN</th>\n",
              "      <th>Dx:HPV</th>\n",
              "      <th>Dx</th>\n",
              "      <th>Hinselmann</th>\n",
              "      <th>Schiller</th>\n",
              "      <th>Citology</th>\n",
              "      <th>Biopsy</th>\n",
              "    </tr>\n",
              "  </thead>\n",
              "  <tbody>\n",
              "    <tr>\n",
              "      <th>0</th>\n",
              "      <td>18.0</td>\n",
              "      <td>4.0</td>\n",
              "      <td>15.0</td>\n",
              "      <td>1.0</td>\n",
              "      <td>0.0</td>\n",
              "      <td>0.0</td>\n",
              "      <td>0.0</td>\n",
              "      <td>0.0</td>\n",
              "      <td>0.0</td>\n",
              "      <td>0.0</td>\n",
              "      <td>...</td>\n",
              "      <td>4.0</td>\n",
              "      <td>3.0</td>\n",
              "      <td>0.0</td>\n",
              "      <td>0.0</td>\n",
              "      <td>0.0</td>\n",
              "      <td>0.0</td>\n",
              "      <td>0.0</td>\n",
              "      <td>0.0</td>\n",
              "      <td>0.0</td>\n",
              "      <td>0.0</td>\n",
              "    </tr>\n",
              "    <tr>\n",
              "      <th>1</th>\n",
              "      <td>15.0</td>\n",
              "      <td>1.0</td>\n",
              "      <td>14.0</td>\n",
              "      <td>1.0</td>\n",
              "      <td>0.0</td>\n",
              "      <td>0.0</td>\n",
              "      <td>0.0</td>\n",
              "      <td>0.0</td>\n",
              "      <td>0.0</td>\n",
              "      <td>0.0</td>\n",
              "      <td>...</td>\n",
              "      <td>4.0</td>\n",
              "      <td>3.0</td>\n",
              "      <td>0.0</td>\n",
              "      <td>0.0</td>\n",
              "      <td>0.0</td>\n",
              "      <td>0.0</td>\n",
              "      <td>0.0</td>\n",
              "      <td>0.0</td>\n",
              "      <td>0.0</td>\n",
              "      <td>0.0</td>\n",
              "    </tr>\n",
              "    <tr>\n",
              "      <th>2</th>\n",
              "      <td>34.0</td>\n",
              "      <td>1.0</td>\n",
              "      <td>17.0</td>\n",
              "      <td>1.0</td>\n",
              "      <td>0.0</td>\n",
              "      <td>0.0</td>\n",
              "      <td>0.0</td>\n",
              "      <td>0.0</td>\n",
              "      <td>0.0</td>\n",
              "      <td>0.0</td>\n",
              "      <td>...</td>\n",
              "      <td>4.0</td>\n",
              "      <td>3.0</td>\n",
              "      <td>0.0</td>\n",
              "      <td>0.0</td>\n",
              "      <td>0.0</td>\n",
              "      <td>0.0</td>\n",
              "      <td>0.0</td>\n",
              "      <td>0.0</td>\n",
              "      <td>0.0</td>\n",
              "      <td>0.0</td>\n",
              "    </tr>\n",
              "    <tr>\n",
              "      <th>3</th>\n",
              "      <td>52.0</td>\n",
              "      <td>5.0</td>\n",
              "      <td>16.0</td>\n",
              "      <td>4.0</td>\n",
              "      <td>1.0</td>\n",
              "      <td>37.0</td>\n",
              "      <td>37.0</td>\n",
              "      <td>1.0</td>\n",
              "      <td>3.0</td>\n",
              "      <td>0.0</td>\n",
              "      <td>...</td>\n",
              "      <td>4.0</td>\n",
              "      <td>3.0</td>\n",
              "      <td>1.0</td>\n",
              "      <td>0.0</td>\n",
              "      <td>1.0</td>\n",
              "      <td>0.0</td>\n",
              "      <td>0.0</td>\n",
              "      <td>0.0</td>\n",
              "      <td>0.0</td>\n",
              "      <td>0.0</td>\n",
              "    </tr>\n",
              "    <tr>\n",
              "      <th>4</th>\n",
              "      <td>46.0</td>\n",
              "      <td>3.0</td>\n",
              "      <td>21.0</td>\n",
              "      <td>4.0</td>\n",
              "      <td>0.0</td>\n",
              "      <td>0.0</td>\n",
              "      <td>0.0</td>\n",
              "      <td>1.0</td>\n",
              "      <td>15.0</td>\n",
              "      <td>0.0</td>\n",
              "      <td>...</td>\n",
              "      <td>4.0</td>\n",
              "      <td>3.0</td>\n",
              "      <td>0.0</td>\n",
              "      <td>0.0</td>\n",
              "      <td>0.0</td>\n",
              "      <td>0.0</td>\n",
              "      <td>0.0</td>\n",
              "      <td>0.0</td>\n",
              "      <td>0.0</td>\n",
              "      <td>0.0</td>\n",
              "    </tr>\n",
              "  </tbody>\n",
              "</table>\n",
              "<p>5 rows × 36 columns</p>\n",
              "</div>"
            ],
            "text/plain": [
              "    Age  Number of sexual partners  First sexual intercourse  \\\n",
              "0  18.0                        4.0                      15.0   \n",
              "1  15.0                        1.0                      14.0   \n",
              "2  34.0                        1.0                      17.0   \n",
              "3  52.0                        5.0                      16.0   \n",
              "4  46.0                        3.0                      21.0   \n",
              "\n",
              "   Num of pregnancies  Smokes  Smokes (years)  Smokes (packs/year)  \\\n",
              "0                 1.0     0.0             0.0                  0.0   \n",
              "1                 1.0     0.0             0.0                  0.0   \n",
              "2                 1.0     0.0             0.0                  0.0   \n",
              "3                 4.0     1.0            37.0                 37.0   \n",
              "4                 4.0     0.0             0.0                  0.0   \n",
              "\n",
              "   Hormonal Contraceptives  Hormonal Contraceptives (years)  IUD  ...  \\\n",
              "0                      0.0                              0.0  0.0  ...   \n",
              "1                      0.0                              0.0  0.0  ...   \n",
              "2                      0.0                              0.0  0.0  ...   \n",
              "3                      1.0                              3.0  0.0  ...   \n",
              "4                      1.0                             15.0  0.0  ...   \n",
              "\n",
              "   STDs: Time since first diagnosis  STDs: Time since last diagnosis  \\\n",
              "0                               4.0                              3.0   \n",
              "1                               4.0                              3.0   \n",
              "2                               4.0                              3.0   \n",
              "3                               4.0                              3.0   \n",
              "4                               4.0                              3.0   \n",
              "\n",
              "   Dx:Cancer  Dx:CIN  Dx:HPV   Dx  Hinselmann  Schiller  Citology  Biopsy  \n",
              "0        0.0     0.0     0.0  0.0         0.0       0.0       0.0     0.0  \n",
              "1        0.0     0.0     0.0  0.0         0.0       0.0       0.0     0.0  \n",
              "2        0.0     0.0     0.0  0.0         0.0       0.0       0.0     0.0  \n",
              "3        1.0     0.0     1.0  0.0         0.0       0.0       0.0     0.0  \n",
              "4        0.0     0.0     0.0  0.0         0.0       0.0       0.0     0.0  \n",
              "\n",
              "[5 rows x 36 columns]"
            ]
          },
          "execution_count": 10,
          "metadata": {},
          "output_type": "execute_result"
        }
      ],
      "source": [
        "df.head(5)"
      ]
    },
    {
      "cell_type": "markdown",
      "metadata": {
        "id": "BrSa1geqVlt1"
      },
      "source": [
        "# Data Preprocessing\n",
        "---\n",
        "We identified 8 rows with missing values in SES column. We deal with this issue with 2 approaches. One is just to drop the rows with missing values. The other is to replace the missing values with the corresponing values, also known as 'Imputation'. Since we have only 150 data, I assume imputation would help the performance of our model."
      ]
    },
    {
      "cell_type": "code",
      "execution_count": 11,
      "metadata": {
        "colab": {
          "base_uri": "https://localhost:8080/"
        },
        "id": "Fgzbib08Vlt1",
        "outputId": "17b46aa8-0d0f-4c89-d828-eb6f702e769a"
      },
      "outputs": [
        {
          "data": {
            "text/plain": [
              "Age                                     0\n",
              "Number of sexual partners               0\n",
              "First sexual intercourse                0\n",
              "Num of pregnancies                      0\n",
              "Smokes                                  0\n",
              "Smokes (years)                          0\n",
              "Smokes (packs/year)                     0\n",
              "Hormonal Contraceptives               108\n",
              "Hormonal Contraceptives (years)         0\n",
              "IUD                                     0\n",
              "IUD (years)                             0\n",
              "STDs                                    0\n",
              "STDs (number)                           0\n",
              "STDs:condylomatosis                     0\n",
              "STDs:cervical condylomatosis            0\n",
              "STDs:vaginal condylomatosis             0\n",
              "STDs:vulvo-perineal condylomatosis      0\n",
              "STDs:syphilis                           0\n",
              "STDs:pelvic inflammatory disease        0\n",
              "STDs:genital herpes                     0\n",
              "STDs:molluscum contagiosum              0\n",
              "STDs:AIDS                               0\n",
              "STDs:HIV                                0\n",
              "STDs:Hepatitis B                        0\n",
              "STDs:HPV                                0\n",
              "STDs: Number of diagnosis               0\n",
              "STDs: Time since first diagnosis        0\n",
              "STDs: Time since last diagnosis         0\n",
              "Dx:Cancer                               0\n",
              "Dx:CIN                                  0\n",
              "Dx:HPV                                  0\n",
              "Dx                                      0\n",
              "Hinselmann                              0\n",
              "Schiller                                0\n",
              "Citology                                0\n",
              "Biopsy                                  0\n",
              "dtype: int64"
            ]
          },
          "execution_count": 11,
          "metadata": {},
          "output_type": "execute_result"
        }
      ],
      "source": [
        "# Check missing values by each column\n",
        "pd.isnull(df).sum()\n"
      ]
    },
    {
      "cell_type": "markdown",
      "metadata": {
        "id": "0Qpo3G4xVlt2"
      },
      "source": [
        "## Removing rows with missing values"
      ]
    },
    {
      "cell_type": "code",
      "execution_count": 12,
      "metadata": {
        "colab": {
          "base_uri": "https://localhost:8080/"
        },
        "id": "DIt4XBRDVlt2",
        "outputId": "31f195ea-a63c-4dcb-b3ad-aecef1b852ee"
      },
      "outputs": [
        {
          "data": {
            "text/plain": [
              "Age                                   0\n",
              "Number of sexual partners             0\n",
              "First sexual intercourse              0\n",
              "Num of pregnancies                    0\n",
              "Smokes                                0\n",
              "Smokes (years)                        0\n",
              "Smokes (packs/year)                   0\n",
              "Hormonal Contraceptives               0\n",
              "Hormonal Contraceptives (years)       0\n",
              "IUD                                   0\n",
              "IUD (years)                           0\n",
              "STDs                                  0\n",
              "STDs (number)                         0\n",
              "STDs:condylomatosis                   0\n",
              "STDs:cervical condylomatosis          0\n",
              "STDs:vaginal condylomatosis           0\n",
              "STDs:vulvo-perineal condylomatosis    0\n",
              "STDs:syphilis                         0\n",
              "STDs:pelvic inflammatory disease      0\n",
              "STDs:genital herpes                   0\n",
              "STDs:molluscum contagiosum            0\n",
              "STDs:AIDS                             0\n",
              "STDs:HIV                              0\n",
              "STDs:Hepatitis B                      0\n",
              "STDs:HPV                              0\n",
              "STDs: Number of diagnosis             0\n",
              "STDs: Time since first diagnosis      0\n",
              "STDs: Time since last diagnosis       0\n",
              "Dx:Cancer                             0\n",
              "Dx:CIN                                0\n",
              "Dx:HPV                                0\n",
              "Dx                                    0\n",
              "Hinselmann                            0\n",
              "Schiller                              0\n",
              "Citology                              0\n",
              "Biopsy                                0\n",
              "dtype: int64"
            ]
          },
          "execution_count": 12,
          "metadata": {},
          "output_type": "execute_result"
        }
      ],
      "source": [
        "# Dropped the rows with missing values in the columns, \n",
        "df_dropna = df.dropna(axis=0, how='any')\n",
        "pd.isnull(df_dropna).sum()"
      ]
    },
    {
      "cell_type": "markdown",
      "metadata": {
        "id": "EyAlIOZaVlt7"
      },
      "source": [
        "## 5.C Splitting Train_Validation/Test Sets"
      ]
    },
    {
      "cell_type": "code",
      "execution_count": null,
      "metadata": {
        "id": "Q7zRK4IlVlt8"
      },
      "outputs": [],
      "source": [
        "from sklearn.model_selection import train_test_split"
      ]
    },
    {
      "cell_type": "code",
      "execution_count": null,
      "metadata": {
        "id": "e_8-GshHVlt8"
      },
      "outputs": [],
      "source": [
        "# Dataset after dropping missing value rows\n",
        "Y = df_dropna['Group'].values # Target for the model\n",
        "X = df_dropna[['M/F', 'Age', 'EDUC', 'SES', 'MMSE', 'eTIV', 'nWBV', 'ASF']] # Features we use\n",
        "\n",
        "# splitting into three sets\n",
        "X_trainval_dna, X_test_dna, Y_trainval_dna, Y_test_dna = train_test_split(\n",
        "    X, Y, random_state=0 , test_size= 0.20) #train = 80, test = 20"
      ]
    },
    {
      "cell_type": "markdown",
      "metadata": {
        "id": "3FgGJ7ukVlt-"
      },
      "source": [
        "## 5.D Standardization|Normalization"
      ]
    },
    {
      "cell_type": "code",
      "execution_count": null,
      "metadata": {
        "id": "8eznCi-dVlt-"
      },
      "outputs": [],
      "source": [
        "\n",
        "from sklearn import preprocessing\n",
        "from sklearn.preprocessing import MinMaxScaler # Normalization (MinMax[0-1])\n",
        "from sklearn.preprocessing import StandardScaler # Standardization (Z-Score)"
      ]
    },
    {
      "cell_type": "code",
      "execution_count": null,
      "metadata": {
        "id": "XOEknblYVlt-"
      },
      "outputs": [],
      "source": [
        "# Dataset after dropping missing value rows\n",
        "# Feature scaling\n",
        "# scaler = MinMaxScaler().fit(X_trainval_dna)\n",
        "scaler = StandardScaler().fit(X_trainval_dna)\n",
        "X_trainval_scaled_dna = scaler.transform(X_trainval_dna)\n",
        "X_test_scaled_dna = scaler.transform(X_test_dna)\n"
      ]
    },
    {
      "cell_type": "markdown",
      "metadata": {
        "id": "ElfnSWHlVluA"
      },
      "source": [
        "## 5.E Cross-validation\n",
        "We conduct 5-fold cross-validation to figure out the best parameters for each model, Logistic Regression, SVM, Decision Tree, Random Forests, and AdaBoost. Since our performance metric is accuracy, we find the best tuning parameters by *accuracy*. In the end, we compare the accuracy, recall and AUC for each model."
      ]
    },
    {
      "cell_type": "code",
      "execution_count": null,
      "metadata": {
        "id": "mSBih8K-VluA"
      },
      "outputs": [],
      "source": [
        "from sklearn.model_selection import cross_val_score\n"
      ]
    },
    {
      "cell_type": "markdown",
      "metadata": {
        "id": "beg1vA1oVluB"
      },
      "source": [
        "# 6. Feature Selection\n",
        "\n",
        "> Indented block\n",
        "\n",
        "\n",
        "---\n",
        "In machine learning and data science in general, Feature selection (also known as variable selection, attribute selection or subset selection) is the process by which a data scientist selects automatically or manually a subset of relevant features to use in machine learning model building.\n",
        "In fact, it is one of the core concepts in machine learning which has a huge impact on your models’ performance, as it is the key to make reliable machine learning models.\n",
        "Given a pool of features, the process will select the best subset of attributes that are most important and have high contribution at the time of prediction making.\n",
        "\n",
        "<b>Why should we select features?</b><br/>\n",
        "\n",
        "It’s not always true that the more data features you have, the better the resulting model is going to be.\n",
        "Data sometimes include irrelevant features that don’t result in better predictions, and sometimes redundant features that are irrelevant in the presence of others will make the learning process difficult and can result in overfitting.\n",
        "Therefore, we need some techniques that will eliminate any attribute that’s could adversely affect learning.\n"
      ]
    },
    {
      "cell_type": "markdown",
      "metadata": {
        "id": "LgWrin4PVluC"
      },
      "source": [
        "## 6.A Filter Methods\n",
        "\n",
        "\n",
        "\n",
        "\n",
        "Filter methods select features from a dataset independently for any machine learning algorithm. These methods rely only on the characteristics of these variables, so features are filtered out of the data before learning begins.\n",
        "These methods are powerful and simple and help to quickly remove features— and they are generally the first step in any feature selection pipeline.\n",
        "\n",
        "We will make use of only 2 of those methods: <br/>\n",
        "\n",
        "1. Correlation methods\n",
        "2. Statistical Measures\n",
        "    - [Mutual Information](https://machinelearningmastery.com/information-gain-and-mutual-information/)\n",
        "    - [Chi Squared Score](https://towardsdatascience.com/chi-square-test-for-feature-selection-in-machine-learning-206b1f0b8223)\n"
      ]
    },
    {
      "cell_type": "markdown",
      "metadata": {
        "id": "kgkM80OqVluD"
      },
      "source": [
        "### Correlation methods"
      ]
    },
    {
      "cell_type": "code",
      "execution_count": null,
      "metadata": {
        "id": "IF4sxJmN6w5z"
      },
      "outputs": [],
      "source": [
        "# Make copies\n",
        "# X_trainval_dna, X_test_dna, Y_trainval_dna, Y_test_dna \n",
        "X_trainval_dna_corr, X_test_dna_corr = X_trainval_dna.copy(), X_test_dna.copy()\n",
        "# \n",
        "# X_trainval, X_test, Y_trainval, Y_test\n",
        "X_trainval_corr, X_test_corr = X_trainval.copy(), X_test.copy()"
      ]
    },
    {
      "cell_type": "code",
      "execution_count": null,
      "metadata": {
        "id": "lLtxuuRk_FyM"
      },
      "outputs": [],
      "source": [
        "\n",
        "def get_correlated_features(X):\n",
        "  correlated_features = set()\n",
        "  correlation_matrix = X.corr()\n",
        "\n",
        "  for i in range(len(correlation_matrix.columns)):\n",
        "    for j in range(i):\n",
        "        if abs(correlation_matrix.iloc[i, j]) > 0.8:\n",
        "            colname = correlation_matrix.columns[i]\n",
        "            correlated_features.add(colname)\n",
        "\n",
        "  return correlation_matrix, correlated_features\n"
      ]
    },
    {
      "cell_type": "markdown",
      "metadata": {
        "id": "YFM6TKT0boZh"
      },
      "source": [
        "##### Dataset after dropping missing value rows"
      ]
    },
    {
      "cell_type": "code",
      "execution_count": null,
      "metadata": {
        "id": "SSymxPDebkRg"
      },
      "outputs": [],
      "source": [
        "# X_trainval_dna, X_test_dna, Y_trainval_dna, Y_test_dna \n",
        "correlation_matrix, correlated_features = get_correlated_features(X_trainval_dna_corr)"
      ]
    },
    {
      "cell_type": "code",
      "execution_count": null,
      "metadata": {
        "colab": {
          "base_uri": "https://localhost:8080/",
          "height": 669
        },
        "id": "1tlYdwHkAm47",
        "outputId": "0f0b7206-4b60-4f07-c9f2-db8314c8f366"
      },
      "outputs": [
        {
          "data": {
            "text/plain": [
              "<matplotlib.axes._subplots.AxesSubplot at 0x7fb5fafa6f50>"
            ]
          },
          "execution_count": 106,
          "metadata": {
            "tags": []
          },
          "output_type": "execute_result"
        },
        {
          "data": {
            "image/png": "[encoded data removed]",
            "text/plain": [
              "<Figure size 792x792 with 2 Axes>"
            ]
          },
          "metadata": {
            "tags": []
          },
          "output_type": "display_data"
        }
      ],
      "source": [
        "plt.figure(figsize=(11,11))\n",
        "sns.heatmap(correlation_matrix)"
      ]
    },
    {
      "cell_type": "code",
      "execution_count": null,
      "metadata": {
        "colab": {
          "base_uri": "https://localhost:8080/"
        },
        "id": "_L8HqN8CAiUQ",
        "outputId": "8c6cba36-eff9-4871-dff2-df7ae0124fe3"
      },
      "outputs": [
        {
          "data": {
            "text/plain": [
              "{'ASF'}"
            ]
          },
          "execution_count": 29,
          "metadata": {
            "tags": []
          },
          "output_type": "execute_result"
        }
      ],
      "source": [
        "correlated_features"
      ]
    },
    {
      "cell_type": "code",
      "execution_count": null,
      "metadata": {
        "id": "EFqIB7hEX6UV"
      },
      "outputs": [],
      "source": [
        "X_trainval_dna_corr.drop(labels=correlated_features, axis=1, inplace=True)\n",
        "X_test_dna_corr.drop(labels=correlated_features, axis=1, inplace=True)"
      ]
    },
    {
      "cell_type": "code",
      "execution_count": null,
      "metadata": {
        "colab": {
          "base_uri": "https://localhost:8080/",
          "height": 204
        },
        "id": "JSVbMyNb6mVq",
        "outputId": "63713db9-7ffb-4f57-a3d4-4c85deaa287c"
      },
      "outputs": [
        {
          "data": {
            "text/html": [
              "<div>\n",
              "<style scoped>\n",
              "    .dataframe tbody tr th:only-of-type {\n",
              "        vertical-align: middle;\n",
              "    }\n",
              "\n",
              "    .dataframe tbody tr th {\n",
              "        vertical-align: top;\n",
              "    }\n",
              "\n",
              "    .dataframe thead th {\n",
              "        text-align: right;\n",
              "    }\n",
              "</style>\n",
              "<table border=\"1\" class=\"dataframe\">\n",
              "  <thead>\n",
              "    <tr style=\"text-align: right;\">\n",
              "      <th></th>\n",
              "      <th>M/F</th>\n",
              "      <th>Age</th>\n",
              "      <th>EDUC</th>\n",
              "      <th>SES</th>\n",
              "      <th>MMSE</th>\n",
              "      <th>eTIV</th>\n",
              "      <th>nWBV</th>\n",
              "    </tr>\n",
              "  </thead>\n",
              "  <tbody>\n",
              "    <tr>\n",
              "      <th>66</th>\n",
              "      <td>1</td>\n",
              "      <td>66</td>\n",
              "      <td>15</td>\n",
              "      <td>2.0</td>\n",
              "      <td>25.0</td>\n",
              "      <td>1548</td>\n",
              "      <td>0.727</td>\n",
              "    </tr>\n",
              "    <tr>\n",
              "      <th>89</th>\n",
              "      <td>1</td>\n",
              "      <td>77</td>\n",
              "      <td>18</td>\n",
              "      <td>1.0</td>\n",
              "      <td>25.0</td>\n",
              "      <td>1604</td>\n",
              "      <td>0.781</td>\n",
              "    </tr>\n",
              "    <tr>\n",
              "      <th>63</th>\n",
              "      <td>1</td>\n",
              "      <td>69</td>\n",
              "      <td>16</td>\n",
              "      <td>2.0</td>\n",
              "      <td>28.0</td>\n",
              "      <td>1848</td>\n",
              "      <td>0.737</td>\n",
              "    </tr>\n",
              "    <tr>\n",
              "      <th>28</th>\n",
              "      <td>1</td>\n",
              "      <td>82</td>\n",
              "      <td>12</td>\n",
              "      <td>4.0</td>\n",
              "      <td>27.0</td>\n",
              "      <td>1477</td>\n",
              "      <td>0.729</td>\n",
              "    </tr>\n",
              "    <tr>\n",
              "      <th>65</th>\n",
              "      <td>0</td>\n",
              "      <td>69</td>\n",
              "      <td>12</td>\n",
              "      <td>4.0</td>\n",
              "      <td>23.0</td>\n",
              "      <td>1447</td>\n",
              "      <td>0.759</td>\n",
              "    </tr>\n",
              "  </tbody>\n",
              "</table>\n",
              "</div>"
            ],
            "text/plain": [
              "    M/F  Age  EDUC  SES  MMSE  eTIV   nWBV\n",
              "66    1   66    15  2.0  25.0  1548  0.727\n",
              "89    1   77    18  1.0  25.0  1604  0.781\n",
              "63    1   69    16  2.0  28.0  1848  0.737\n",
              "28    1   82    12  4.0  27.0  1477  0.729\n",
              "65    0   69    12  4.0  23.0  1447  0.759"
            ]
          },
          "execution_count": 109,
          "metadata": {
            "tags": []
          },
          "output_type": "execute_result"
        }
      ],
      "source": [
        "X_trainval_dna_corr.head(5)"
      ]
    },
    {
      "cell_type": "code",
      "execution_count": null,
      "metadata": {
        "colab": {
          "base_uri": "https://localhost:8080/",
          "height": 204
        },
        "id": "Qhcpzfpa7uYR",
        "outputId": "12d6d1d1-4c92-4bf0-f17d-4463d7b43fb2"
      },
      "outputs": [
        {
          "data": {
            "text/html": [
              "<div>\n",
              "<style scoped>\n",
              "    .dataframe tbody tr th:only-of-type {\n",
              "        vertical-align: middle;\n",
              "    }\n",
              "\n",
              "    .dataframe tbody tr th {\n",
              "        vertical-align: top;\n",
              "    }\n",
              "\n",
              "    .dataframe thead th {\n",
              "        text-align: right;\n",
              "    }\n",
              "</style>\n",
              "<table border=\"1\" class=\"dataframe\">\n",
              "  <thead>\n",
              "    <tr style=\"text-align: right;\">\n",
              "      <th></th>\n",
              "      <th>M/F</th>\n",
              "      <th>Age</th>\n",
              "      <th>EDUC</th>\n",
              "      <th>SES</th>\n",
              "      <th>MMSE</th>\n",
              "      <th>eTIV</th>\n",
              "      <th>nWBV</th>\n",
              "    </tr>\n",
              "  </thead>\n",
              "  <tbody>\n",
              "    <tr>\n",
              "      <th>47</th>\n",
              "      <td>0</td>\n",
              "      <td>81</td>\n",
              "      <td>12</td>\n",
              "      <td>2.0</td>\n",
              "      <td>30.0</td>\n",
              "      <td>1599</td>\n",
              "      <td>0.755</td>\n",
              "    </tr>\n",
              "    <tr>\n",
              "      <th>71</th>\n",
              "      <td>1</td>\n",
              "      <td>78</td>\n",
              "      <td>12</td>\n",
              "      <td>4.0</td>\n",
              "      <td>21.0</td>\n",
              "      <td>1477</td>\n",
              "      <td>0.672</td>\n",
              "    </tr>\n",
              "    <tr>\n",
              "      <th>18</th>\n",
              "      <td>1</td>\n",
              "      <td>82</td>\n",
              "      <td>12</td>\n",
              "      <td>3.0</td>\n",
              "      <td>27.0</td>\n",
              "      <td>1420</td>\n",
              "      <td>0.713</td>\n",
              "    </tr>\n",
              "    <tr>\n",
              "      <th>59</th>\n",
              "      <td>0</td>\n",
              "      <td>83</td>\n",
              "      <td>13</td>\n",
              "      <td>2.0</td>\n",
              "      <td>27.0</td>\n",
              "      <td>1391</td>\n",
              "      <td>0.705</td>\n",
              "    </tr>\n",
              "    <tr>\n",
              "      <th>24</th>\n",
              "      <td>1</td>\n",
              "      <td>90</td>\n",
              "      <td>12</td>\n",
              "      <td>3.0</td>\n",
              "      <td>21.0</td>\n",
              "      <td>1307</td>\n",
              "      <td>0.679</td>\n",
              "    </tr>\n",
              "  </tbody>\n",
              "</table>\n",
              "</div>"
            ],
            "text/plain": [
              "    M/F  Age  EDUC  SES  MMSE  eTIV   nWBV\n",
              "47    0   81    12  2.0  30.0  1599  0.755\n",
              "71    1   78    12  4.0  21.0  1477  0.672\n",
              "18    1   82    12  3.0  27.0  1420  0.713\n",
              "59    0   83    13  2.0  27.0  1391  0.705\n",
              "24    1   90    12  3.0  21.0  1307  0.679"
            ]
          },
          "execution_count": 110,
          "metadata": {
            "tags": []
          },
          "output_type": "execute_result"
        }
      ],
      "source": [
        "X_test_dna_corr.head(5)"
      ]
    },
    {
      "cell_type": "markdown",
      "metadata": {
        "id": "1iEK_8qMbwbx"
      },
      "source": [
        "##### Dataset with imputation"
      ]
    },
    {
      "cell_type": "code",
      "execution_count": null,
      "metadata": {
        "id": "d4Q0G2Yob9kO"
      },
      "outputs": [],
      "source": [
        "# X_trainval, X_test, Y_trainval, Y_test\n",
        "correlation_matrix, correlated_features = get_correlated_features(X_trainval_corr)"
      ]
    },
    {
      "cell_type": "code",
      "execution_count": null,
      "metadata": {
        "colab": {
          "base_uri": "https://localhost:8080/",
          "height": 669
        },
        "id": "ttgFfYEWcTL6",
        "outputId": "ba95bfa0-03a8-435f-e332-9eb4fb3c4a17"
      },
      "outputs": [
        {
          "data": {
            "text/plain": [
              "<matplotlib.axes._subplots.AxesSubplot at 0x7fb5fae29250>"
            ]
          },
          "execution_count": 112,
          "metadata": {
            "tags": []
          },
          "output_type": "execute_result"
        },
        {
          "data": {
            "image/png": "[encoded data removed]",
            "text/plain": [
              "<Figure size 792x792 with 2 Axes>"
            ]
          },
          "metadata": {
            "tags": []
          },
          "output_type": "display_data"
        }
      ],
      "source": [
        "plt.figure(figsize=(11,11))\n",
        "sns.heatmap(correlation_matrix)"
      ]
    },
    {
      "cell_type": "code",
      "execution_count": null,
      "metadata": {
        "colab": {
          "base_uri": "https://localhost:8080/"
        },
        "id": "5OH9QsX2dizn",
        "outputId": "482311aa-2a85-449c-e147-8a6bd28d029c"
      },
      "outputs": [
        {
          "data": {
            "text/plain": [
              "{'ASF'}"
            ]
          },
          "execution_count": 32,
          "metadata": {
            "tags": []
          },
          "output_type": "execute_result"
        }
      ],
      "source": [
        "correlated_features"
      ]
    },
    {
      "cell_type": "code",
      "execution_count": null,
      "metadata": {
        "id": "3YyHtUe-dmJq"
      },
      "outputs": [],
      "source": [
        "X_trainval_corr.drop(labels=correlated_features, axis=1, inplace=True)\n",
        "X_test_corr.drop(labels=correlated_features, axis=1, inplace=True)"
      ]
    },
    {
      "cell_type": "code",
      "execution_count": null,
      "metadata": {
        "colab": {
          "base_uri": "https://localhost:8080/",
          "height": 204
        },
        "id": "FaTyhQvh73iC",
        "outputId": "505bf640-dfee-4227-eb0b-7425eaa13698"
      },
      "outputs": [
        {
          "data": {
            "text/html": [
              "<div>\n",
              "<style scoped>\n",
              "    .dataframe tbody tr th:only-of-type {\n",
              "        vertical-align: middle;\n",
              "    }\n",
              "\n",
              "    .dataframe tbody tr th {\n",
              "        vertical-align: top;\n",
              "    }\n",
              "\n",
              "    .dataframe thead th {\n",
              "        text-align: right;\n",
              "    }\n",
              "</style>\n",
              "<table border=\"1\" class=\"dataframe\">\n",
              "  <thead>\n",
              "    <tr style=\"text-align: right;\">\n",
              "      <th></th>\n",
              "      <th>M/F</th>\n",
              "      <th>Age</th>\n",
              "      <th>EDUC</th>\n",
              "      <th>SES</th>\n",
              "      <th>MMSE</th>\n",
              "      <th>eTIV</th>\n",
              "      <th>nWBV</th>\n",
              "    </tr>\n",
              "  </thead>\n",
              "  <tbody>\n",
              "    <tr>\n",
              "      <th>24</th>\n",
              "      <td>1</td>\n",
              "      <td>90</td>\n",
              "      <td>12</td>\n",
              "      <td>3.0</td>\n",
              "      <td>21.0</td>\n",
              "      <td>1307</td>\n",
              "      <td>0.679</td>\n",
              "    </tr>\n",
              "    <tr>\n",
              "      <th>8</th>\n",
              "      <td>0</td>\n",
              "      <td>78</td>\n",
              "      <td>16</td>\n",
              "      <td>2.0</td>\n",
              "      <td>29.0</td>\n",
              "      <td>1333</td>\n",
              "      <td>0.748</td>\n",
              "    </tr>\n",
              "    <tr>\n",
              "      <th>126</th>\n",
              "      <td>0</td>\n",
              "      <td>78</td>\n",
              "      <td>18</td>\n",
              "      <td>1.0</td>\n",
              "      <td>30.0</td>\n",
              "      <td>1243</td>\n",
              "      <td>0.748</td>\n",
              "    </tr>\n",
              "    <tr>\n",
              "      <th>22</th>\n",
              "      <td>0</td>\n",
              "      <td>60</td>\n",
              "      <td>18</td>\n",
              "      <td>1.0</td>\n",
              "      <td>30.0</td>\n",
              "      <td>1402</td>\n",
              "      <td>0.822</td>\n",
              "    </tr>\n",
              "    <tr>\n",
              "      <th>44</th>\n",
              "      <td>0</td>\n",
              "      <td>85</td>\n",
              "      <td>18</td>\n",
              "      <td>1.0</td>\n",
              "      <td>29.0</td>\n",
              "      <td>1264</td>\n",
              "      <td>0.701</td>\n",
              "    </tr>\n",
              "  </tbody>\n",
              "</table>\n",
              "</div>"
            ],
            "text/plain": [
              "     M/F  Age  EDUC  SES  MMSE  eTIV   nWBV\n",
              "24     1   90    12  3.0  21.0  1307  0.679\n",
              "8      0   78    16  2.0  29.0  1333  0.748\n",
              "126    0   78    18  1.0  30.0  1243  0.748\n",
              "22     0   60    18  1.0  30.0  1402  0.822\n",
              "44     0   85    18  1.0  29.0  1264  0.701"
            ]
          },
          "execution_count": 115,
          "metadata": {
            "tags": []
          },
          "output_type": "execute_result"
        }
      ],
      "source": [
        "X_trainval_corr.head(5)"
      ]
    },
    {
      "cell_type": "code",
      "execution_count": null,
      "metadata": {
        "colab": {
          "base_uri": "https://localhost:8080/",
          "height": 204
        },
        "id": "Fu6H4M2q74Nk",
        "outputId": "81477d1f-f0ec-4635-f274-1e9abe08e7c6"
      },
      "outputs": [
        {
          "data": {
            "text/html": [
              "<div>\n",
              "<style scoped>\n",
              "    .dataframe tbody tr th:only-of-type {\n",
              "        vertical-align: middle;\n",
              "    }\n",
              "\n",
              "    .dataframe tbody tr th {\n",
              "        vertical-align: top;\n",
              "    }\n",
              "\n",
              "    .dataframe thead th {\n",
              "        text-align: right;\n",
              "    }\n",
              "</style>\n",
              "<table border=\"1\" class=\"dataframe\">\n",
              "  <thead>\n",
              "    <tr style=\"text-align: right;\">\n",
              "      <th></th>\n",
              "      <th>M/F</th>\n",
              "      <th>Age</th>\n",
              "      <th>EDUC</th>\n",
              "      <th>SES</th>\n",
              "      <th>MMSE</th>\n",
              "      <th>eTIV</th>\n",
              "      <th>nWBV</th>\n",
              "    </tr>\n",
              "  </thead>\n",
              "  <tbody>\n",
              "    <tr>\n",
              "      <th>114</th>\n",
              "      <td>0</td>\n",
              "      <td>76</td>\n",
              "      <td>16</td>\n",
              "      <td>3.0</td>\n",
              "      <td>26.0</td>\n",
              "      <td>1391</td>\n",
              "      <td>0.705</td>\n",
              "    </tr>\n",
              "    <tr>\n",
              "      <th>62</th>\n",
              "      <td>0</td>\n",
              "      <td>66</td>\n",
              "      <td>18</td>\n",
              "      <td>2.0</td>\n",
              "      <td>30.0</td>\n",
              "      <td>1504</td>\n",
              "      <td>0.725</td>\n",
              "    </tr>\n",
              "    <tr>\n",
              "      <th>33</th>\n",
              "      <td>0</td>\n",
              "      <td>72</td>\n",
              "      <td>12</td>\n",
              "      <td>4.0</td>\n",
              "      <td>26.0</td>\n",
              "      <td>1453</td>\n",
              "      <td>0.777</td>\n",
              "    </tr>\n",
              "    <tr>\n",
              "      <th>107</th>\n",
              "      <td>0</td>\n",
              "      <td>65</td>\n",
              "      <td>12</td>\n",
              "      <td>2.0</td>\n",
              "      <td>30.0</td>\n",
              "      <td>1340</td>\n",
              "      <td>0.754</td>\n",
              "    </tr>\n",
              "    <tr>\n",
              "      <th>7</th>\n",
              "      <td>0</td>\n",
              "      <td>66</td>\n",
              "      <td>12</td>\n",
              "      <td>3.0</td>\n",
              "      <td>30.0</td>\n",
              "      <td>1447</td>\n",
              "      <td>0.769</td>\n",
              "    </tr>\n",
              "  </tbody>\n",
              "</table>\n",
              "</div>"
            ],
            "text/plain": [
              "     M/F  Age  EDUC  SES  MMSE  eTIV   nWBV\n",
              "114    0   76    16  3.0  26.0  1391  0.705\n",
              "62     0   66    18  2.0  30.0  1504  0.725\n",
              "33     0   72    12  4.0  26.0  1453  0.777\n",
              "107    0   65    12  2.0  30.0  1340  0.754\n",
              "7      0   66    12  3.0  30.0  1447  0.769"
            ]
          },
          "execution_count": 116,
          "metadata": {
            "tags": []
          },
          "output_type": "execute_result"
        }
      ],
      "source": [
        "X_test_corr.head(5)"
      ]
    },
    {
      "cell_type": "markdown",
      "metadata": {
        "id": "IaMktY_1VluE"
      },
      "source": [
        "### Statistical Measures"
      ]
    },
    {
      "cell_type": "code",
      "execution_count": null,
      "metadata": {
        "id": "Tbvlv9dCVluF"
      },
      "outputs": [],
      "source": [
        "from sklearn.feature_selection import mutual_info_classif, chi2\n",
        "from sklearn.feature_selection import SelectKBest, SelectPercentile\n",
        "from sklearn.tree import DecisionTreeClassifier, DecisionTreeRegressor\n",
        "from sklearn.metrics import roc_auc_score, mean_squared_error\n"
      ]
    },
    {
      "cell_type": "markdown",
      "metadata": {
        "id": "v48QXICbVluF"
      },
      "source": [
        "#### Mutual Information"
      ]
    },
    {
      "cell_type": "code",
      "execution_count": null,
      "metadata": {
        "id": "wzxT978AmSND"
      },
      "outputs": [],
      "source": [
        "# select the number of features you want to retain.\n",
        "MI_select_k = 8"
      ]
    },
    {
      "cell_type": "code",
      "execution_count": null,
      "metadata": {
        "id": "N0uVe9L39cxa"
      },
      "outputs": [],
      "source": [
        "def mutual_info(X_train, y_train):\n",
        "  # X_trainval_dna, X_test_dna, Y_trainval_dna, Y_test_dna\n",
        "  # get only the numerical features.\n",
        "  MI_numerical_X_train = X_train[X_train.select_dtypes([np.number]).columns]\n",
        "\n",
        "  # create the SelectKBest with the mutual info strategy.\n",
        "  MI_selection_dna = SelectKBest(mutual_info_classif, k=MI_select_k).fit(MI_numerical_X_train, y_train)\n",
        "\n",
        "  # return the retained features.\n",
        "  MI_features_dna = X_train.columns[MI_selection_dna.get_support()]\n",
        "  return MI_features_dna"
      ]
    },
    {
      "cell_type": "markdown",
      "metadata": {
        "id": "EPhbMLJPiUu0"
      },
      "source": [
        "##### Dataset after dropping missing value rows"
      ]
    },
    {
      "cell_type": "code",
      "execution_count": null,
      "metadata": {
        "colab": {
          "base_uri": "https://localhost:8080/"
        },
        "id": "7ukx0FW1jmbj",
        "outputId": "fa4dcf8c-dec9-46f2-fe36-f966ab01466a"
      },
      "outputs": [
        {
          "data": {
            "text/plain": [
              "Index(['M/F', 'Age', 'EDUC', 'SES', 'MMSE', 'eTIV', 'nWBV', 'ASF'], dtype='object')"
            ]
          },
          "execution_count": 37,
          "metadata": {
            "tags": []
          },
          "output_type": "execute_result"
        }
      ],
      "source": [
        "MI_retained_features_dna = mutual_info(X_trainval_dna, Y_trainval_dna)\n",
        "MI_retained_features_dna"
      ]
    },
    {
      "cell_type": "markdown",
      "metadata": {
        "id": "rc-t-a8jiZhu"
      },
      "source": [
        "##### Dataset with imputation"
      ]
    },
    {
      "cell_type": "code",
      "execution_count": null,
      "metadata": {
        "colab": {
          "base_uri": "https://localhost:8080/"
        },
        "id": "FaxVJcPPk7T7",
        "outputId": "f233496d-a6f8-4658-d24d-676fceea1c8d"
      },
      "outputs": [
        {
          "data": {
            "text/plain": [
              "Index(['M/F', 'Age', 'EDUC', 'SES', 'MMSE', 'eTIV', 'nWBV', 'ASF'], dtype='object')"
            ]
          },
          "execution_count": 38,
          "metadata": {
            "tags": []
          },
          "output_type": "execute_result"
        }
      ],
      "source": [
        "MI_retained_features = mutual_info(X_trainval, Y_trainval)\n",
        "MI_retained_features"
      ]
    },
    {
      "cell_type": "markdown",
      "metadata": {
        "id": "7JcXq7CyVluG"
      },
      "source": [
        "#### Chi Squared Score"
      ]
    },
    {
      "cell_type": "code",
      "execution_count": null,
      "metadata": {
        "id": "xWKl-WoOmyd2"
      },
      "outputs": [],
      "source": [
        "# change this to how much features you want to keep from the top ones.\n",
        "CS_select_k = 8"
      ]
    },
    {
      "cell_type": "code",
      "execution_count": null,
      "metadata": {
        "id": "BKAqKF1JB89x"
      },
      "outputs": [],
      "source": [
        "def chi_square(X_train, y_train):\n",
        "  # apply the chi2 score on the data and target (target should be binary).  \n",
        "  CS_selection = SelectKBest(chi2, k=CS_select_k).fit(X_train, y_train)\n",
        "\n",
        "  # return the k selected features.\n",
        "  CS_features = X_trainval_dna.columns[CS_selection.get_support()]\n",
        "  return CS_features"
      ]
    },
    {
      "cell_type": "markdown",
      "metadata": {
        "id": "Wa_ZWlzaijyn"
      },
      "source": [
        "##### Dataset after dropping missing value rows"
      ]
    },
    {
      "cell_type": "code",
      "execution_count": null,
      "metadata": {
        "colab": {
          "base_uri": "https://localhost:8080/"
        },
        "id": "hXPbBgY9inQy",
        "outputId": "d98c65a8-f0c5-4aa6-f6af-cb30bb9df9c3"
      },
      "outputs": [
        {
          "name": "stdout",
          "output_type": "stream",
          "text": [
            "Index(['M/F', 'Age', 'EDUC', 'SES', 'MMSE', 'eTIV', 'nWBV', 'ASF'], dtype='object')\n"
          ]
        }
      ],
      "source": [
        "# X_trainval_dna, X_test_dna, Y_trainval_dna, Y_test_dna\n",
        "\n",
        "# display the k selected features.\n",
        "CS_features_dna = chi_square(X_trainval_dna, Y_trainval_dna)\n",
        "print(CS_features_dna)"
      ]
    },
    {
      "cell_type": "markdown",
      "metadata": {
        "id": "zhhKYyNzimUA"
      },
      "source": [
        "##### Dataset with imputation"
      ]
    },
    {
      "cell_type": "code",
      "execution_count": null,
      "metadata": {
        "colab": {
          "base_uri": "https://localhost:8080/"
        },
        "id": "hKAKaZPyilLf",
        "outputId": "fe4c2ade-9835-4ba2-9bd3-d6630226a062"
      },
      "outputs": [
        {
          "name": "stdout",
          "output_type": "stream",
          "text": [
            "Index(['M/F', 'Age', 'EDUC', 'SES', 'MMSE', 'eTIV', 'nWBV', 'ASF'], dtype='object')\n"
          ]
        }
      ],
      "source": [
        "# X_trainval, X_test, Y_trainval, Y_test\n",
        "\n",
        "# display the k selected features.\n",
        "CS_features = chi_square(X_trainval, Y_trainval)\n",
        "print(CS_features)"
      ]
    },
    {
      "cell_type": "markdown",
      "metadata": {
        "id": "cIROQZDnVluH"
      },
      "source": [
        "## 6.B Embedded Methods\n",
        "\n",
        "> Indented block\n",
        "\n",
        "\n",
        "Embedded methods combine the qualities' of filter and wrapper methods. It's implemented by algorithms that have their own built-in feature selection methods.\n",
        "We use SVM-RFE for the embedded Method\n",
        "\n",
        "#### SVM-RFE\n",
        "--Support Vector Machine Recursive Feature Elimination (SVM-RFE) ... SVM-RFE is an SVM-based feature selection algorithm created. Using SVM-RFE, selected key and important feature sets. In addition to reducing classification computational time, it can improve the classification accuracy rate ]. \n",
        "\n"
      ]
    },
    {
      "cell_type": "code",
      "execution_count": null,
      "metadata": {
        "id": "5vqz9yKbzOO0"
      },
      "outputs": [],
      "source": [
        "# from sklearn.feature_selection import RFECV\n",
        "from sklearn.feature_selection import RFE\n",
        "\n",
        "# Support Vector Machines [Classification]\n",
        "from sklearn.svm import SVC"
      ]
    },
    {
      "cell_type": "code",
      "execution_count": null,
      "metadata": {
        "id": "LeW2UK4mB3nL"
      },
      "outputs": [],
      "source": [
        "# Bloom filter (custom implementation)\n",
        "def bloom_filter(feature_selectors: list):\n",
        "  filtered_features = []\n",
        "\n",
        "  for feature_selector in feature_selectors:\n",
        "    for feature in feature_selector:\n",
        "      if feature not in filtered_features:\n",
        "        filtered_features.append(feature)\n",
        "\n",
        "  return filtered_features\n",
        "\n",
        "\n",
        "# RFE_SVM [Classification]\n",
        "def rfe_svm(X, y, n_features_to_select=6, step=1,verbose=1):\n",
        "  # WARNING: RFE can take A LOT of time to complete.\n",
        "  rfe_svc = RFE(estimator=SVC(kernel='linear'), n_features_to_select=n_features_to_select, verbose=verbose, step=step)\n",
        "  rfe_svc.fit(X, y)\n",
        "  feature_indices = rfe_svc.get_support(indices=True)  \n",
        "  # print(feature_indices)\n",
        "  # \n",
        "  return feature_indices\n",
        "\n"
      ]
    },
    {
      "cell_type": "markdown",
      "metadata": {
        "id": "W6QWPKKjsTQS"
      },
      "source": [
        "##### Dataset after dropping missing value rows"
      ]
    },
    {
      "cell_type": "code",
      "execution_count": null,
      "metadata": {
        "colab": {
          "base_uri": "https://localhost:8080/",
          "height": 453
        },
        "id": "i9hIUHipVluI",
        "outputId": "807c40ab-20d3-43f5-d7db-baeea4156e4b"
      },
      "outputs": [
        {
          "name": "stdout",
          "output_type": "stream",
          "text": [
            "Fitting estimator with 8 features.\n",
            "Fitting estimator with 7 features.\n"
          ]
        },
        {
          "data": {
            "text/html": [
              "<div>\n",
              "<style scoped>\n",
              "    .dataframe tbody tr th:only-of-type {\n",
              "        vertical-align: middle;\n",
              "    }\n",
              "\n",
              "    .dataframe tbody tr th {\n",
              "        vertical-align: top;\n",
              "    }\n",
              "\n",
              "    .dataframe thead th {\n",
              "        text-align: right;\n",
              "    }\n",
              "</style>\n",
              "<table border=\"1\" class=\"dataframe\">\n",
              "  <thead>\n",
              "    <tr style=\"text-align: right;\">\n",
              "      <th></th>\n",
              "      <th>M/F</th>\n",
              "      <th>EDUC</th>\n",
              "      <th>SES</th>\n",
              "      <th>MMSE</th>\n",
              "      <th>nWBV</th>\n",
              "      <th>ASF</th>\n",
              "    </tr>\n",
              "  </thead>\n",
              "  <tbody>\n",
              "    <tr>\n",
              "      <th>66</th>\n",
              "      <td>1</td>\n",
              "      <td>15</td>\n",
              "      <td>2.0</td>\n",
              "      <td>25.0</td>\n",
              "      <td>0.727</td>\n",
              "      <td>1.134</td>\n",
              "    </tr>\n",
              "    <tr>\n",
              "      <th>89</th>\n",
              "      <td>1</td>\n",
              "      <td>18</td>\n",
              "      <td>1.0</td>\n",
              "      <td>25.0</td>\n",
              "      <td>0.781</td>\n",
              "      <td>1.094</td>\n",
              "    </tr>\n",
              "    <tr>\n",
              "      <th>63</th>\n",
              "      <td>1</td>\n",
              "      <td>16</td>\n",
              "      <td>2.0</td>\n",
              "      <td>28.0</td>\n",
              "      <td>0.737</td>\n",
              "      <td>0.950</td>\n",
              "    </tr>\n",
              "    <tr>\n",
              "      <th>28</th>\n",
              "      <td>1</td>\n",
              "      <td>12</td>\n",
              "      <td>4.0</td>\n",
              "      <td>27.0</td>\n",
              "      <td>0.729</td>\n",
              "      <td>1.188</td>\n",
              "    </tr>\n",
              "    <tr>\n",
              "      <th>65</th>\n",
              "      <td>0</td>\n",
              "      <td>12</td>\n",
              "      <td>4.0</td>\n",
              "      <td>23.0</td>\n",
              "      <td>0.759</td>\n",
              "      <td>1.213</td>\n",
              "    </tr>\n",
              "    <tr>\n",
              "      <th>...</th>\n",
              "      <td>...</td>\n",
              "      <td>...</td>\n",
              "      <td>...</td>\n",
              "      <td>...</td>\n",
              "      <td>...</td>\n",
              "      <td>...</td>\n",
              "    </tr>\n",
              "    <tr>\n",
              "      <th>11</th>\n",
              "      <td>1</td>\n",
              "      <td>8</td>\n",
              "      <td>4.0</td>\n",
              "      <td>25.0</td>\n",
              "      <td>0.660</td>\n",
              "      <td>1.063</td>\n",
              "    </tr>\n",
              "    <tr>\n",
              "      <th>108</th>\n",
              "      <td>0</td>\n",
              "      <td>12</td>\n",
              "      <td>3.0</td>\n",
              "      <td>29.0</td>\n",
              "      <td>0.731</td>\n",
              "      <td>1.190</td>\n",
              "    </tr>\n",
              "    <tr>\n",
              "      <th>70</th>\n",
              "      <td>0</td>\n",
              "      <td>17</td>\n",
              "      <td>1.0</td>\n",
              "      <td>26.0</td>\n",
              "      <td>0.683</td>\n",
              "      <td>1.198</td>\n",
              "    </tr>\n",
              "    <tr>\n",
              "      <th>122</th>\n",
              "      <td>0</td>\n",
              "      <td>13</td>\n",
              "      <td>2.0</td>\n",
              "      <td>29.0</td>\n",
              "      <td>0.737</td>\n",
              "      <td>1.305</td>\n",
              "    </tr>\n",
              "    <tr>\n",
              "      <th>49</th>\n",
              "      <td>1</td>\n",
              "      <td>13</td>\n",
              "      <td>4.0</td>\n",
              "      <td>29.0</td>\n",
              "      <td>0.766</td>\n",
              "      <td>1.239</td>\n",
              "    </tr>\n",
              "  </tbody>\n",
              "</table>\n",
              "<p>122 rows × 6 columns</p>\n",
              "</div>"
            ],
            "text/plain": [
              "     M/F  EDUC  SES  MMSE   nWBV    ASF\n",
              "66     1    15  2.0  25.0  0.727  1.134\n",
              "89     1    18  1.0  25.0  0.781  1.094\n",
              "63     1    16  2.0  28.0  0.737  0.950\n",
              "28     1    12  4.0  27.0  0.729  1.188\n",
              "65     0    12  4.0  23.0  0.759  1.213\n",
              "..   ...   ...  ...   ...    ...    ...\n",
              "11     1     8  4.0  25.0  0.660  1.063\n",
              "108    0    12  3.0  29.0  0.731  1.190\n",
              "70     0    17  1.0  26.0  0.683  1.198\n",
              "122    0    13  2.0  29.0  0.737  1.305\n",
              "49     1    13  4.0  29.0  0.766  1.239\n",
              "\n",
              "[122 rows x 6 columns]"
            ]
          },
          "execution_count": 128,
          "metadata": {
            "tags": []
          },
          "output_type": "execute_result"
        }
      ],
      "source": [
        "# Combine features from different filter-based feature selectors\n",
        "X_train_list_dna = [list(X_trainval_dna_corr), list(MI_retained_features_dna), list(CS_features_dna)] \n",
        "X_trainval_dna = X_trainval_dna[[col for col in bloom_filter(X_train_list_dna)]]\n",
        "# \n",
        "# Feed features to RFE_SVM\n",
        "feature_loc_dna = rfe_svm(X_trainval_dna, Y_trainval_dna)\n",
        "# \n",
        "# get selected features from dataset\n",
        "X_trainval_dna.iloc[:, feature_loc_dna]\n"
      ]
    },
    {
      "cell_type": "markdown",
      "metadata": {
        "id": "MWp6zAjksVac"
      },
      "source": [
        "##### Dataset with imputation"
      ]
    },
    {
      "cell_type": "code",
      "execution_count": null,
      "metadata": {
        "colab": {
          "base_uri": "https://localhost:8080/",
          "height": 453
        },
        "id": "5pxMDuRosZBI",
        "outputId": "d297c976-a0cf-4e2e-ae61-3217667986ff"
      },
      "outputs": [
        {
          "name": "stdout",
          "output_type": "stream",
          "text": [
            "Fitting estimator with 8 features.\n",
            "Fitting estimator with 7 features.\n"
          ]
        },
        {
          "data": {
            "text/html": [
              "<div>\n",
              "<style scoped>\n",
              "    .dataframe tbody tr th:only-of-type {\n",
              "        vertical-align: middle;\n",
              "    }\n",
              "\n",
              "    .dataframe tbody tr th {\n",
              "        vertical-align: top;\n",
              "    }\n",
              "\n",
              "    .dataframe thead th {\n",
              "        text-align: right;\n",
              "    }\n",
              "</style>\n",
              "<table border=\"1\" class=\"dataframe\">\n",
              "  <thead>\n",
              "    <tr style=\"text-align: right;\">\n",
              "      <th></th>\n",
              "      <th>M/F</th>\n",
              "      <th>EDUC</th>\n",
              "      <th>SES</th>\n",
              "      <th>MMSE</th>\n",
              "      <th>nWBV</th>\n",
              "      <th>ASF</th>\n",
              "    </tr>\n",
              "  </thead>\n",
              "  <tbody>\n",
              "    <tr>\n",
              "      <th>24</th>\n",
              "      <td>1</td>\n",
              "      <td>12</td>\n",
              "      <td>3.0</td>\n",
              "      <td>21.0</td>\n",
              "      <td>0.679</td>\n",
              "      <td>1.342</td>\n",
              "    </tr>\n",
              "    <tr>\n",
              "      <th>8</th>\n",
              "      <td>0</td>\n",
              "      <td>16</td>\n",
              "      <td>2.0</td>\n",
              "      <td>29.0</td>\n",
              "      <td>0.748</td>\n",
              "      <td>1.316</td>\n",
              "    </tr>\n",
              "    <tr>\n",
              "      <th>126</th>\n",
              "      <td>0</td>\n",
              "      <td>18</td>\n",
              "      <td>1.0</td>\n",
              "      <td>30.0</td>\n",
              "      <td>0.748</td>\n",
              "      <td>1.412</td>\n",
              "    </tr>\n",
              "    <tr>\n",
              "      <th>22</th>\n",
              "      <td>0</td>\n",
              "      <td>18</td>\n",
              "      <td>1.0</td>\n",
              "      <td>30.0</td>\n",
              "      <td>0.822</td>\n",
              "      <td>1.252</td>\n",
              "    </tr>\n",
              "    <tr>\n",
              "      <th>44</th>\n",
              "      <td>0</td>\n",
              "      <td>18</td>\n",
              "      <td>1.0</td>\n",
              "      <td>29.0</td>\n",
              "      <td>0.701</td>\n",
              "      <td>1.388</td>\n",
              "    </tr>\n",
              "    <tr>\n",
              "      <th>...</th>\n",
              "      <td>...</td>\n",
              "      <td>...</td>\n",
              "      <td>...</td>\n",
              "      <td>...</td>\n",
              "      <td>...</td>\n",
              "      <td>...</td>\n",
              "    </tr>\n",
              "    <tr>\n",
              "      <th>9</th>\n",
              "      <td>0</td>\n",
              "      <td>12</td>\n",
              "      <td>4.0</td>\n",
              "      <td>30.0</td>\n",
              "      <td>0.715</td>\n",
              "      <td>1.427</td>\n",
              "    </tr>\n",
              "    <tr>\n",
              "      <th>103</th>\n",
              "      <td>0</td>\n",
              "      <td>12</td>\n",
              "      <td>3.0</td>\n",
              "      <td>29.0</td>\n",
              "      <td>0.739</td>\n",
              "      <td>1.306</td>\n",
              "    </tr>\n",
              "    <tr>\n",
              "      <th>67</th>\n",
              "      <td>0</td>\n",
              "      <td>12</td>\n",
              "      <td>4.0</td>\n",
              "      <td>26.0</td>\n",
              "      <td>0.695</td>\n",
              "      <td>1.381</td>\n",
              "    </tr>\n",
              "    <tr>\n",
              "      <th>117</th>\n",
              "      <td>0</td>\n",
              "      <td>18</td>\n",
              "      <td>2.0</td>\n",
              "      <td>30.0</td>\n",
              "      <td>0.746</td>\n",
              "      <td>1.023</td>\n",
              "    </tr>\n",
              "    <tr>\n",
              "      <th>47</th>\n",
              "      <td>0</td>\n",
              "      <td>12</td>\n",
              "      <td>2.0</td>\n",
              "      <td>30.0</td>\n",
              "      <td>0.755</td>\n",
              "      <td>1.098</td>\n",
              "    </tr>\n",
              "  </tbody>\n",
              "</table>\n",
              "<p>128 rows × 6 columns</p>\n",
              "</div>"
            ],
            "text/plain": [
              "     M/F  EDUC  SES  MMSE   nWBV    ASF\n",
              "24     1    12  3.0  21.0  0.679  1.342\n",
              "8      0    16  2.0  29.0  0.748  1.316\n",
              "126    0    18  1.0  30.0  0.748  1.412\n",
              "22     0    18  1.0  30.0  0.822  1.252\n",
              "44     0    18  1.0  29.0  0.701  1.388\n",
              "..   ...   ...  ...   ...    ...    ...\n",
              "9      0    12  4.0  30.0  0.715  1.427\n",
              "103    0    12  3.0  29.0  0.739  1.306\n",
              "67     0    12  4.0  26.0  0.695  1.381\n",
              "117    0    18  2.0  30.0  0.746  1.023\n",
              "47     0    12  2.0  30.0  0.755  1.098\n",
              "\n",
              "[128 rows x 6 columns]"
            ]
          },
          "execution_count": 129,
          "metadata": {
            "tags": []
          },
          "output_type": "execute_result"
        }
      ],
      "source": [
        "# Combine features from different filter-based feature selectors\n",
        "X_train_list = [list(X_trainval_corr), list(MI_retained_features), list(CS_features)] \n",
        "X_trainval = X_trainval[[col for col in bloom_filter(X_train_list)]]\n",
        "# \n",
        "# Feed features to RFE_SVM\n",
        "feature_loc = rfe_svm(X_trainval, Y_trainval)\n",
        "# \n",
        "# get selected features from dataset\n",
        "X_trainval.iloc[:, feature_loc] \n"
      ]
    },
    {
      "cell_type": "markdown",
      "metadata": {
        "id": "Uw3lNxxOVluI"
      },
      "source": [
        "# 7. Ensemble Methods \n",
        "\n",
        "---\n",
        "Ensemble methods are techniques that create multiple models and then combine them to produce improved results.\n",
        "We utilize these essemble methods \n",
        "\n",
        "\n",
        "1.   Bagging\n",
        "2.   Boosting\n",
        "3.   Stacking\n",
        "4.   Random Forest\n",
        "\n"
      ]
    },
    {
      "cell_type": "code",
      "execution_count": null,
      "metadata": {
        "id": "76-U1Dn2zHpo"
      },
      "outputs": [],
      "source": [
        "# \n",
        "from sklearn.neural_network import MLPClassifier #[MLP classification]\n",
        "from sklearn.neighbors import KNeighborsClassifier #[KNN classification]\n",
        "from sklearn.tree import DecisionTreeClassifier #[DT classification]\n",
        "from sklearn.naive_bayes import GaussianNB # [Naive Bayes{Normal distribution}]\n",
        "from sklearn.linear_model import LogisticRegression # [Logistic Regression]\n",
        "from sklearn.ensemble import RandomForestClassifier # [Random Forest classification]\n",
        "from sklearn.ensemble import BaggingClassifier #[Bagging classification]\n",
        "from sklearn.ensemble import AdaBoostClassifier #[Adaboost classification]\n",
        "from sklearn.ensemble import StackingClassifier #[Stacking classification]\n",
        "#  \n",
        "# from xgboost import XGBRegressor #[Xgboost]\n",
        "# \n",
        "# Init the classifier object\n",
        "svm_classifier = SVC(C=0.8, kernel='poly', random_state=45)\n",
        "mlp_classifier = MLPClassifier(activation='relu', random_state=200)\n",
        "knn_classifier = KNeighborsClassifier(n_neighbors=3)\n",
        "rf_classifier = RandomForestClassifier(n_estimators=63, random_state=63, max_depth=6)\n",
        "dt_classifier = DecisionTreeClassifier(max_depth=5, random_state=4)\n",
        "nb_classifier = GaussianNB()"
      ]
    },
    {
      "cell_type": "markdown",
      "metadata": {
        "id": "tKc7D0fGyaPi"
      },
      "source": [
        "###Bagging"
      ]
    },
    {
      "cell_type": "code",
      "execution_count": null,
      "metadata": {
        "id": "Oqi-lITQyZKN"
      },
      "outputs": [],
      "source": [
        "# Bagging using [SVM, MLP, KNN, RF, DT]\n",
        "def comb_bagging(X_train, y_train, estimators, **kwargs):\n",
        "  classifiers = []\n",
        "  for estimator in estimators:\n",
        "     clf = BaggingClassifier(base_estimator=estimator, **kwargs).fit(X_train, y_train)\n",
        "     classifiers.append(clf)\n",
        "  return classifiers\n"
      ]
    },
    {
      "cell_type": "markdown",
      "metadata": {
        "id": "Ntf6nJJ1v8g7"
      },
      "source": [
        "##### Dataset after dropping missing value rows"
      ]
    },
    {
      "cell_type": "code",
      "execution_count": null,
      "metadata": {
        "colab": {
          "base_uri": "https://localhost:8080/"
        },
        "id": "l6Ii0FDcv7cD",
        "outputId": "1b3ce13b-7afb-427e-ea87-59fd0188bc48"
      },
      "outputs": [
        {
          "name": "stdout",
          "output_type": "stream",
          "text": [
            "Number of mislabeled points out of a total of 20 points : 10\n",
            "Number of mislabeled points out of a total of 20 points : 7\n",
            "Number of mislabeled points out of a total of 20 points : 3\n",
            "Number of mislabeled points out of a total of 20 points : 4\n"
          ]
        }
      ],
      "source": [
        "# X_trainval_dna, X_test_dna, Y_trainval_dna, Y_test_dna\n",
        "classifiers_bag_dna = comb_bagging(X_trainval_dna, Y_trainval_dna, estimators=[svm_classifier, knn_classifier, DecisionTreeClassifier(max_depth=3, random_state=200), rf_classifier])\n",
        "# \n",
        "for clf in classifiers_bag_dna:\n",
        "  y_pred_bag_dna = clf.predict(X_test_dna)\n",
        "  # print(y_pred_bag_dna)\n",
        "  print(\"Number of mislabeled points out of a total of %d points : %d\" % (X_test_dna.shape[0], (Y_test_dna != y_pred_bag_dna).sum()))\n"
      ]
    },
    {
      "cell_type": "markdown",
      "metadata": {
        "id": "0ABFmFQgwMop"
      },
      "source": [
        "##### Dataset with imputation"
      ]
    },
    {
      "cell_type": "code",
      "execution_count": null,
      "metadata": {
        "colab": {
          "base_uri": "https://localhost:8080/"
        },
        "id": "71mlOXWOwPXm",
        "outputId": "300e73c2-d877-4dc3-d43a-f39e3790d0da"
      },
      "outputs": [
        {
          "name": "stdout",
          "output_type": "stream",
          "text": [
            "Number of mislabeled points out of a total of 22 points : 12\n",
            "Number of mislabeled points out of a total of 22 points : 1\n",
            "Number of mislabeled points out of a total of 22 points : 1\n",
            "Number of mislabeled points out of a total of 22 points : 0\n"
          ]
        }
      ],
      "source": [
        "# X_trainval, X_test, Y_trainval, Y_test\n",
        "classifiers_bag= comb_bagging(X_trainval_dna, Y_trainval_dna, estimators=[svm_classifier, knn_classifier, DecisionTreeClassifier(max_depth=3, random_state=200), rf_classifier])\n",
        "# \n",
        "for clf in classifiers_bag:\n",
        "  y_pred_bag = clf.predict(X_test)\n",
        "  # print(y_pred_bag)\n",
        "  print(\"Number of mislabeled points out of a total of %d points : %d\" % (X_test.shape[0], (Y_test != y_pred_bag).sum()))\n"
      ]
    },
    {
      "cell_type": "markdown",
      "metadata": {
        "id": "C1n1TGsw0BIu"
      },
      "source": [
        "###Boosting"
      ]
    },
    {
      "cell_type": "code",
      "execution_count": null,
      "metadata": {
        "id": "9J1Zsk9nxgEl"
      },
      "outputs": [],
      "source": [
        "# Adaboost [using DT, NB]\n",
        "def comb_ada_boost(X_train, y_train, estimators, **kwargs):\n",
        "  classifiers = []\n",
        "  for estimator in estimators:\n",
        "    # base_estimator=None, *, n_estimators=50, learning_rate=1.0, algorithm='SAMME.R', random_state=None\n",
        "    # SAMME.R = M1\n",
        "     clf = AdaBoostClassifier(base_estimator=estimator, **kwargs).fit(X_train, y_train) \n",
        "     classifiers.append(clf)\n",
        "  return classifiers\n",
        "  "
      ]
    },
    {
      "cell_type": "markdown",
      "metadata": {
        "id": "BCjWvN8kx6ME"
      },
      "source": [
        "##### Dataset after dropping missing value rows"
      ]
    },
    {
      "cell_type": "code",
      "execution_count": null,
      "metadata": {
        "colab": {
          "base_uri": "https://localhost:8080/"
        },
        "id": "aMoT06yBVluJ",
        "outputId": "c86a61fb-1195-4648-ce42-217c355af610"
      },
      "outputs": [
        {
          "name": "stdout",
          "output_type": "stream",
          "text": [
            "Number of mislabeled points out of a total of 20 points : 4\n",
            "Number of mislabeled points out of a total of 20 points : 5\n"
          ]
        }
      ],
      "source": [
        "# X_trainval_dna, X_test_dna, Y_trainval_dna, Y_test_dna\n",
        "classifiers_ada_boost_dna = comb_ada_boost(X_trainval_dna, Y_trainval_dna, estimators=[DecisionTreeClassifier(max_depth=5, random_state=4), nb_classifier]) \n",
        "# \n",
        "for clf in classifiers_ada_boost_dna:\n",
        "  y_pred_ada_boost_dna = clf.predict(X_test_dna)\n",
        "  # print(y_pred_ada_boost_dna)\n",
        "  print(\"Number of mislabeled points out of a total of %d points : %d\" % (X_test_dna.shape[0], (Y_test_dna != y_pred_ada_boost_dna).sum()))\n",
        "# "
      ]
    },
    {
      "cell_type": "markdown",
      "metadata": {
        "id": "ziMxQAyQx_XT"
      },
      "source": [
        "##### Dataset with imputation"
      ]
    },
    {
      "cell_type": "code",
      "execution_count": null,
      "metadata": {
        "colab": {
          "base_uri": "https://localhost:8080/"
        },
        "id": "_jRmX0AnyAXe",
        "outputId": "b040955d-a371-466b-cd76-949994190b76"
      },
      "outputs": [
        {
          "name": "stdout",
          "output_type": "stream",
          "text": [
            "Number of mislabeled points out of a total of 22 points : 4\n",
            "Number of mislabeled points out of a total of 22 points : 5\n"
          ]
        }
      ],
      "source": [
        "# X_trainval, X_test, Y_trainval, Y_test\n",
        "classifiers_ada_boost = comb_ada_boost(X_trainval, Y_trainval, estimators=[DecisionTreeClassifier(max_depth=5, random_state=4), nb_classifier]) \n",
        "# \n",
        "for clf in classifiers_ada_boost:\n",
        "  y_pred_ada_boost = clf.predict(X_test)\n",
        "  # print(y_pred_ada_boost)\n",
        "  print(\"Number of mislabeled points out of a total of %d points : %d\" % (X_test.shape[0], (Y_test != y_pred_ada_boost).sum()))\n",
        "# "
      ]
    },
    {
      "cell_type": "markdown",
      "metadata": {
        "id": "Ma7m38lh0GRl"
      },
      "source": [
        "###Stacking"
      ]
    },
    {
      "cell_type": "code",
      "execution_count": null,
      "metadata": {
        "id": "LiwVTcIMygX9"
      },
      "outputs": [],
      "source": [
        "# Stacking [using KNN, SVM, NB]\n",
        "def comb_stacking(X_train, y_train, **kwargs):\n",
        "    clf = StackingClassifier(**kwargs).fit(X_train, y_train) \n",
        "    return clf"
      ]
    },
    {
      "cell_type": "markdown",
      "metadata": {
        "id": "h8OLPuDZytAn"
      },
      "source": [
        "##### Dataset after dropping missing value rows"
      ]
    },
    {
      "cell_type": "code",
      "execution_count": null,
      "metadata": {
        "colab": {
          "base_uri": "https://localhost:8080/"
        },
        "id": "YfAaP8lKVluJ",
        "outputId": "295c0e76-926f-436c-c6f9-22f0409a8cdc"
      },
      "outputs": [
        {
          "name": "stdout",
          "output_type": "stream",
          "text": [
            "Number of mislabeled points out of a total of 20 points : 4\n"
          ]
        }
      ],
      "source": [
        "# X_trainval_dna, X_test_dna, Y_trainval_dna, Y_test_dna\n",
        "stack_classifiers_dna = comb_stacking(X_trainval_dna, Y_trainval_dna, estimators = [\n",
        "       ('knn', knn_classifier),\n",
        "       ('svc', svm_classifier),\n",
        "       ('nb', nb_classifier)\n",
        "     ], final_estimator=LogisticRegression()) \n",
        "# \n",
        "y_pred_stack_dna = stack_classifiers_dna.predict(X_test_dna)\n",
        "# print(y_pred_stack_dna)\n",
        "print(\"Number of mislabeled points out of a total of %d points : %d\" % (X_test_dna.shape[0], (Y_test_dna != y_pred_stack_dna).sum()))\n",
        "# "
      ]
    },
    {
      "cell_type": "markdown",
      "metadata": {
        "id": "A0NMA9Coyxea"
      },
      "source": [
        "##### Dataset with imputation"
      ]
    },
    {
      "cell_type": "code",
      "execution_count": null,
      "metadata": {
        "colab": {
          "base_uri": "https://localhost:8080/"
        },
        "id": "6amAqvexyyQT",
        "outputId": "e6b5dccc-4ad1-481b-e147-2a3a6311c295"
      },
      "outputs": [
        {
          "name": "stdout",
          "output_type": "stream",
          "text": [
            "Number of mislabeled points out of a total of 22 points : 4\n"
          ]
        }
      ],
      "source": [
        "# X_trainval, X_test, Y_trainval, Y_test\n",
        "stack_classifiers = comb_stacking(X_trainval, Y_trainval, estimators = [\n",
        "       ('knn', knn_classifier),\n",
        "       ('svc', svm_classifier),\n",
        "       ('nb', nb_classifier)\n",
        "     ], final_estimator=LogisticRegression()) \n",
        "# \n",
        "y_pred_stack = stack_classifiers.predict(X_test)\n",
        "# print(y_pred_stack)\n",
        "print(\"Number of mislabeled points out of a total of %d points : %d\" % (X_test.shape[0], (Y_test != y_pred_stack).sum()))\n",
        "# "
      ]
    },
    {
      "cell_type": "markdown",
      "metadata": {
        "id": "tJsJf_mN0J7L"
      },
      "source": [
        "###Random Forest"
      ]
    },
    {
      "cell_type": "code",
      "execution_count": null,
      "metadata": {
        "id": "BCdSP-Ba0PS6"
      },
      "outputs": [],
      "source": [
        "# RF\n",
        "def random_forest(X_train, y_train, **kwargs):\n",
        "  rf_clf = RandomForestClassifier(**kwargs).fit(X_train, y_train)\n",
        "  return rf_clf\n"
      ]
    },
    {
      "cell_type": "markdown",
      "metadata": {
        "id": "deYfmc8xzqfw"
      },
      "source": [
        "##### Dataset after dropping missing value rows"
      ]
    },
    {
      "cell_type": "code",
      "execution_count": null,
      "metadata": {
        "colab": {
          "base_uri": "https://localhost:8080/"
        },
        "id": "Z3BwCdb4zrdH",
        "outputId": "18cdfc73-ac1d-4aaa-f698-b81662384063"
      },
      "outputs": [
        {
          "name": "stdout",
          "output_type": "stream",
          "text": [
            "Number of mislabeled points out of a total of 20 points : 4\n"
          ]
        }
      ],
      "source": [
        "# X_trainval_dna, X_test_dna, Y_trainval_dna, Y_test_dna\n",
        "rf_dna = random_forest(X_trainval_dna, Y_trainval_dna, n_estimators=63, oob_score=True, max_depth=6, random_state=63)\n",
        "# print(rf_dna.oob_score_)\n",
        " \n",
        "y_pred_rf_dna = rf_dna.predict(X_test_dna)\n",
        "# print(y_pred_rf_dna)\n",
        "print(\"Number of mislabeled points out of a total of %d points : %d\" % (X_test_dna.shape[0], (Y_test_dna != y_pred_rf_dna).sum()))\n",
        "#"
      ]
    },
    {
      "cell_type": "markdown",
      "metadata": {
        "id": "6YfvKFu-zuKH"
      },
      "source": [
        "##### Dataset with imputation"
      ]
    },
    {
      "cell_type": "code",
      "execution_count": null,
      "metadata": {
        "colab": {
          "base_uri": "https://localhost:8080/"
        },
        "id": "DVvr488Rzujx",
        "outputId": "63ed726b-7d63-4019-e87e-47e8cd8dae07"
      },
      "outputs": [
        {
          "name": "stdout",
          "output_type": "stream",
          "text": [
            "Number of mislabeled points out of a total of 22 points : 4\n"
          ]
        }
      ],
      "source": [
        "# X_trainval, X_test, Y_trainval, Y_test\n",
        "rf = random_forest(X_trainval, Y_trainval, n_estimators=63, oob_score=True, max_depth=6, random_state=63)\n",
        "# print(rf.oob_score_)\n",
        " \n",
        "y_pred_rf = rf.predict(X_test)\n",
        "# print(y_pred_rf)\n",
        "print(\"Number of mislabeled points out of a total of %d points : %d\" % (X_test.shape[0], (Y_test != y_pred_rf).sum()))\n",
        "#"
      ]
    },
    {
      "cell_type": "markdown",
      "metadata": {
        "id": "FFc9P2HiHjNI"
      },
      "source": [
        "# 8. Voting Scheme\n",
        "\n",
        "> Indented block\n",
        "\n",
        "\n",
        "---\n",
        "A voting ensemble (or a “majority voting ensemble“) is an ensemble machine learning model that combines the predictions from multiple other models.\n",
        "\n",
        "It is a technique that may be used to improve model performance, ideally achieving better performance than any single model used in the ensemble.\n",
        "\n",
        "There are two approaches to the majority vote prediction for classification; they are:\n",
        "\n",
        "- Hard Voting: Predict the class with the largest sum of votes from models\n",
        "- Soft Voting: Predict the class with the largest summed probability from models.\n"
      ]
    },
    {
      "cell_type": "code",
      "execution_count": null,
      "metadata": {
        "id": "2bsNkkUZbhvR"
      },
      "outputs": [],
      "source": [
        "from numpy import mean\n",
        "from numpy import std\n",
        "from sklearn.datasets import make_classification\n",
        "from sklearn.model_selection import cross_val_score\n",
        "from sklearn.model_selection import RepeatedStratifiedKFold\n",
        "from sklearn.ensemble import VotingClassifier\n",
        "from matplotlib import pyplot\n"
      ]
    },
    {
      "cell_type": "markdown",
      "metadata": {
        "id": "1xOq-58TIpIl"
      },
      "source": [
        "###Hard Voting"
      ]
    },
    {
      "cell_type": "markdown",
      "metadata": {
        "id": "vErZfvfUHJkD"
      },
      "source": [
        "##### Dataset after dropping missing value rows"
      ]
    },
    {
      "cell_type": "code",
      "execution_count": null,
      "metadata": {
        "colab": {
          "base_uri": "https://localhost:8080/"
        },
        "id": "VE84sTasHhmU",
        "outputId": "cae0fec2-ed1b-4e59-f9be-1377f20b6bfc"
      },
      "outputs": [
        {
          "name": "stdout",
          "output_type": "stream",
          "text": [
            ">bag[SVC] 0.475 (0.065)\n",
            ">bag[KNeighborsClassifier] 0.475 (0.108)\n",
            ">bag[DecisionTreeClassifier] 0.727 (0.086)\n",
            ">bag[RandomForestClassifier] 0.719 (0.088)\n",
            ">boost[DecisionTreeClassifier] 0.686 (0.079)\n",
            ">boost[GaussianNB] 0.562 (0.135)\n",
            ">stack 0.707 (0.101)\n",
            ">rf 0.727 (0.094)\n",
            ">hard_voting 0.729 (0.093)\n"
          ]
        }
      ],
      "source": [
        "#DNA\n",
        "# classifiers_bag_dna: comb_bagging(X_trainval_dna, Y_trainval_dna, estimators=[svm_classifier, mlp_classifier, knn_classifier, rf_classifier, dt_classifier], n_estimators=2, random_state=45)\n",
        "# classifiers_ada_boost_dna = comb_ada_boost(X_trainval_dna, Y_trainval_dna, estimators=[dt_classifier, nb_classifier]) \n",
        "# stack_classifiers_dna\n",
        "# rf_dna\n",
        "# \n",
        "# define the models\n",
        "models = list()\n",
        " \n",
        "# bagging\n",
        "for clf in classifiers_bag_dna:\n",
        "  models.append((f'bag[{clf.estimators_[0].__class__.__name__}]', clf))\n",
        " \n",
        "# boosting\n",
        "for clf in classifiers_ada_boost_dna:\n",
        "  models.append((f'boost[{clf.estimators_[0].__class__.__name__}]', clf))\n",
        " \n",
        "# stacking\n",
        "models.append(('stack', stack_classifiers_dna))\n",
        " \n",
        "# random forest\n",
        "models.append(('rf', rf_dna))\n",
        "# \n",
        "# \n",
        "# get a voting ensemble of models\n",
        "def get_voting(**kwargs):\n",
        "    # define the voting ensemble\n",
        "    ensemble = VotingClassifier(**kwargs)\n",
        "    return ensemble\n",
        " \n",
        "# get a list of models to evaluate\n",
        "def get_all_models():\n",
        "  _models = dict(models)\n",
        "  _models['hard_voting'] = get_voting(estimators=models, voting='hard')\n",
        "  # \n",
        "  return _models\n",
        " \n",
        "# evaluate a give model using cross-validation\n",
        "def evaluate_model(model, X_train, y_train):\n",
        "    cv = RepeatedStratifiedKFold(n_splits=10, n_repeats=3, random_state=1)\n",
        "    scores = cross_val_score(model, X_train, y_train, scoring='accuracy', cv=cv, n_jobs=-1, error_score='raise')\n",
        "    return scores\n",
        "#  \n",
        "# Compare hard voting to standalone classifiers\n",
        "#\n",
        "# get the models to evaluate\n",
        "models_dna = get_all_models()\n",
        " \n",
        "# evaluate the models and store results\n",
        "results_dna, names_dna = list(), list()\n",
        "for name, model in models_dna.items():\n",
        "  scores = evaluate_model(model, X_trainval_dna, Y_trainval_dna)\n",
        "  results_dna.append(scores)\n",
        "  names_dna.append(name)\n",
        "  # print('>%s %.3f (%.3f)' % (name, scores[0], std(scores)))\n",
        "  print('>%s %.3f (%.3f)' % (name, mean(scores), std(scores)))\n",
        "#"
      ]
    },
    {
      "cell_type": "markdown",
      "metadata": {
        "id": "t6hYER9iHS3c"
      },
      "source": [
        "##### Dataset with imputation"
      ]
    },
    {
      "cell_type": "code",
      "execution_count": null,
      "metadata": {
        "colab": {
          "base_uri": "https://localhost:8080/"
        },
        "id": "A5eHIxlLHUC0",
        "outputId": "6113cc0b-5350-42fe-e226-1432a51c0f60"
      },
      "outputs": [
        {
          "name": "stdout",
          "output_type": "stream",
          "text": [
            ">bag[SVC] 0.528 (0.061)\n",
            ">bag[KNeighborsClassifier] 0.521 (0.130)\n",
            ">bag[DecisionTreeClassifier] 0.746 (0.110)\n",
            ">bag[RandomForestClassifier] 0.727 (0.125)\n",
            ">boost[DecisionTreeClassifier] 0.675 (0.140)\n",
            ">boost[GaussianNB] 0.541 (0.096)\n",
            ">stack 0.742 (0.141)\n",
            ">rf 0.732 (0.130)\n",
            ">hard_voting 0.725 (0.128)\n"
          ]
        }
      ],
      "source": [
        "# classifiers_bag: comb_bagging(X_trainval, Y_trainval, estimators=[svm_classifier, mlp_classifier, knn_classifier, rf_classifier, dt_classifier], n_estimators=2, random_state=45)\n",
        "# classifiers_ada_boost = comb_ada_boost(X_trainval, Y_trainval, estimators=[dt_classifier, nb_classifier]) \n",
        "# stack_classifiers\n",
        "# rf\n",
        "# \n",
        "# define the models\n",
        "models = list()\n",
        "\n",
        "# bagging\n",
        "for clf in classifiers_bag:\n",
        "  models.append((f'bag[{clf.estimators_[0].__class__.__name__}]', clf))\n",
        "\n",
        "# boosting\n",
        "for clf in classifiers_ada_boost:\n",
        "  models.append((f'boost[{clf.estimators_[0].__class__.__name__}]', clf))\n",
        "\n",
        "# stacking\n",
        "models.append(('stack', stack_classifiers))\n",
        "\n",
        "# random forest\n",
        "models.append(('rf', rf))\n",
        "# \n",
        "# \n",
        "# get a voting ensemble of models\n",
        "def get_voting(**kwargs):\n",
        "\t# define the voting ensemble\n",
        "\tensemble = VotingClassifier(**kwargs)\n",
        "\treturn ensemble\n",
        " \n",
        "# get a list of models to evaluate\n",
        "def get_all_models():\n",
        "  _models = dict(models)\n",
        "  _models['hard_voting'] = get_voting(estimators=models, voting='hard')\n",
        "  # \n",
        "  return _models\n",
        "\n",
        "# evaluate a give model using cross-validation\n",
        "def evaluate_model(model, X_train, y_train):\n",
        "\tcv = RepeatedStratifiedKFold(n_splits=10, n_repeats=3, random_state=1)\n",
        "\tscores = cross_val_score(model, X_train, y_train, scoring='accuracy', cv=cv, n_jobs=-1, error_score='raise')\n",
        "\treturn scores\n",
        "#  \n",
        "# Compare hard voting to standalone classifiers\n",
        "#\n",
        "# get the models to evaluate\n",
        "models = get_all_models()\n",
        "\n",
        "# evaluate the models and store results\n",
        "results, names = list(), list()\n",
        "for name, model in models.items():\n",
        "  scores = evaluate_model(model, X_trainval, Y_trainval)\n",
        "  results.append(scores)\n",
        "  names.append(name)\n",
        "  # print('>%s %.3f (%.3f)' % (name, scores[0], std(scores)))\n",
        "  print('>%s %.3f (%.3f)' % (name, mean(scores), std(scores)))\n",
        "\n"
      ]
    },
    {
      "cell_type": "markdown",
      "metadata": {
        "id": "c-IP-aH1VluJ"
      },
      "source": [
        "# 8. Performance Measures\n",
        "---\n",
        "We use area under the receiver operating characteristic curve (ROC) using AUC  as our main performance measure. We believe that in case of medical diagnostics for non-life threatening terminal diseases like most neurodegenerative diseases it is important to have a high true positive rate so that all patients with alzheimer's are identified as early as possible. But we also want to make sure that the false positive rate is as low as possible since we do not want to misdiagnose a healthy adult as demented and begin medical therapy. Hence AUC seemed like a ideal choice for a performance measure.\n",
        "\n",
        "We will also be looking at accuracy and recall for each model.\n",
        "\n",
        "In the figure below, you can think relevant elements as actually demented subjects.\n",
        "\n",
        "![Precision and Recall](https://upload.wikimedia.org/wikipedia/commons/2/26/Precisionrecall.svg)"
      ]
    },
    {
      "cell_type": "markdown",
      "metadata": {
        "id": "TQCUZexms3YF"
      },
      "source": [
        "### Calcuating the AUC Score "
      ]
    },
    {
      "cell_type": "code",
      "execution_count": null,
      "metadata": {
        "colab": {
          "base_uri": "https://localhost:8080/"
        },
        "id": "bc-Gv9UFVluL",
        "outputId": "47967df1-e46e-4ba1-d3bf-d6de8b766963"
      },
      "outputs": [
        {
          "name": "stdout",
          "output_type": "stream",
          "text": [
            "AUC: 0.85\n"
          ]
        },
        {
          "data": {
            "image/png": "[encoded data removed]",
            "text/plain": [
              "<Figure size 432x288 with 1 Axes>"
            ]
          },
          "metadata": {
            "needs_background": "light",
            "tags": []
          },
          "output_type": "display_data"
        }
      ],
      "source": [
        "from sklearn import metrics\n",
        "\n",
        "#predict using the hardvoting model\n",
        "voting_model = models['hard_voting']\n",
        "voting_fitted = voting_model.fit(X_trainval_dna, Y_trainval_dna)\n",
        "predictedval = voting_model.predict(X_test_dna)\n",
        "#derive the roc curve and auc score\n",
        "fpr, tpr, thresholds = metrics.roc_curve(Y_test_dna, predictedval, pos_label=1)\n",
        "result_auc = metrics.auc(fpr, tpr)\n",
        "print('AUC: {0:0.2f}'.format(\n",
        "      result_auc))\n",
        "#plot the curve\n",
        "pyplot.plot(fpr, tpr, marker='.', label='Hard Voting')\n",
        "# axis labels\n",
        "pyplot.xlabel('False Positive Rate')\n",
        "pyplot.ylabel('True Positive Rate')\n",
        "# show the legend\n",
        "pyplot.legend()\n",
        "# show the plot\n",
        "pyplot.show()"
      ]
    },
    {
      "cell_type": "markdown",
      "metadata": {
        "id": "DFIqNSNut1Mi"
      },
      "source": [
        "**with imputation**"
      ]
    },
    {
      "cell_type": "code",
      "execution_count": null,
      "metadata": {
        "colab": {
          "base_uri": "https://localhost:8080/"
        },
        "id": "dVcz5tMTt0ej",
        "outputId": "0df46ccc-0f87-4198-8754-4b2b3013956e"
      },
      "outputs": [
        {
          "name": "stdout",
          "output_type": "stream",
          "text": [
            "AUC: 0.81 with imputation\n"
          ]
        },
        {
          "data": {
            "image/png": "[encoded data removed]",
            "text/plain": [
              "<Figure size 432x288 with 1 Axes>"
            ]
          },
          "metadata": {
            "needs_background": "light",
            "tags": []
          },
          "output_type": "display_data"
        }
      ],
      "source": [
        "from sklearn import metrics\n",
        " \n",
        "#predict using the hardvoting model\n",
        "voting_model = models['hard_voting']\n",
        "voting_fitted = voting_model.fit(X_trainval, Y_trainval)\n",
        "predictedvalimp = voting_model.predict(X_test)\n",
        "#derive the roc curve and auc score\n",
        "fpr, tpr, thresholds = metrics.roc_curve(Y_test, predictedvalimp, pos_label=1)\n",
        "result_auc = metrics.auc(fpr, tpr)\n",
        "print('AUC: {0:0.2f} with imputation'.format(\n",
        "      result_auc))\n",
        "#plot the curve\n",
        "pyplot.plot(fpr, tpr, marker='.', label='Hard Voting')\n",
        "# axis labels\n",
        "pyplot.xlabel('False Positive Rate')\n",
        "pyplot.ylabel('True Positive Rate')\n",
        "# show the legend\n",
        "pyplot.legend()\n",
        "# show the plot\n",
        "pyplot.show()"
      ]
    },
    {
      "cell_type": "markdown",
      "metadata": {
        "id": "RNILiqILtKU9"
      },
      "source": [
        "### Calculating The Average Precision-Recall Score"
      ]
    },
    {
      "cell_type": "code",
      "execution_count": null,
      "metadata": {
        "colab": {
          "base_uri": "https://localhost:8080/",
          "height": 71
        },
        "id": "km4VmU4A5UuW",
        "outputId": "e9ec263e-aa23-4d13-e7f3-7561d530bfd4"
      },
      "outputs": [
        {
          "name": "stdout",
          "output_type": "stream",
          "text": [
            "Average precision-recall score: 0.81\n"
          ]
        },
        {
          "data": {
            "image/png": "[encoded data removed]",
            "text/plain": [
              "<Figure size 432x288 with 1 Axes>"
            ]
          },
          "metadata": {
            "needs_background": "light",
            "tags": []
          },
          "output_type": "display_data"
        }
      ],
      "source": [
        "#Compute the average precision score\n",
        "from sklearn.metrics import average_precision_score\n",
        "from sklearn.metrics import precision_recall_curve\n",
        "precision, recall, thresholds = precision_recall_curve(Y_test_dna, predictedval)\n",
        "average_precision = average_precision_score(Y_test_dna, predictedval)\n",
        "print('Average precision-recall score: {0:0.2f}'.format(\n",
        "      average_precision))\n",
        "\n",
        "#plot the precision recall curve\n",
        "\n",
        "#plot the curve\n",
        "pyplot.plot(precision, recall, marker='.', label='Hard Voting')\n",
        "# axis labels\n",
        "pyplot.xlabel('precision')\n",
        "pyplot.ylabel('recall')\n",
        "# show the legend\n",
        "pyplot.legend()\n",
        "# show the plot\n",
        "pyplot.show()"
      ]
    },
    {
      "cell_type": "markdown",
      "metadata": {
        "id": "8gno4ts8tkl3"
      },
      "source": [
        "**with imputation**"
      ]
    },
    {
      "cell_type": "code",
      "execution_count": null,
      "metadata": {
        "colab": {
          "base_uri": "https://localhost:8080/",
          "height": 302
        },
        "id": "h4vvrE8YtoWd",
        "outputId": "fd10d31c-1e54-44ca-acfc-a34ef456a4bd"
      },
      "outputs": [
        {
          "name": "stdout",
          "output_type": "stream",
          "text": [
            "Average precision-recall score: 0.75\n"
          ]
        },
        {
          "data": {
            "image/png": "[encoded data removed]",
            "text/plain": [
              "<Figure size 432x288 with 1 Axes>"
            ]
          },
          "metadata": {
            "needs_background": "light",
            "tags": []
          },
          "output_type": "display_data"
        }
      ],
      "source": [
        "#Compute the average precision score\n",
        "from sklearn.metrics import average_precision_score\n",
        "from sklearn.metrics import precision_recall_curve\n",
        "precision, recall, thresholds = precision_recall_curve(Y_test, predictedvalimp)\n",
        "average_precision = average_precision_score(Y_test, predictedvalimp)\n",
        "print('Average precision-recall score: {0:0.2f}'.format(\n",
        "      average_precision))\n",
        "\n",
        "# plot the precision recall curve\n",
        "\n",
        "#plot the curve\n",
        "pyplot.plot(precision, recall, marker='.', label='Hard Voting')\n",
        "# axis labels\n",
        "pyplot.xlabel('precision')\n",
        "pyplot.ylabel('recall')\n",
        "# show the legend\n",
        "pyplot.legend()\n",
        "# show the plot\n",
        "pyplot.show()"
      ]
    },
    {
      "cell_type": "markdown",
      "metadata": {
        "id": "78V59idNxhwn"
      },
      "source": [
        " #### Calculating the Accuracy"
      ]
    },
    {
      "cell_type": "code",
      "execution_count": null,
      "metadata": {
        "colab": {
          "base_uri": "https://localhost:8080/"
        },
        "id": "gXYcD2HwxpqP",
        "outputId": "89360923-6df7-4d6d-b8e9-72b44e2e9355"
      },
      "outputs": [
        {
          "name": "stdout",
          "output_type": "stream",
          "text": [
            "Accuracy: 0.85\n"
          ]
        }
      ],
      "source": [
        "from sklearn.metrics import accuracy_score\n",
        "acc_score_dna = accuracy_score(Y_test_dna, predictedval)\n",
        "print('Accuracy: {0:0.2f}'.format(\n",
        "      acc_score_dna))"
      ]
    },
    {
      "cell_type": "markdown",
      "metadata": {
        "id": "tM1ddZ-DyONj"
      },
      "source": [
        "**with imputation**"
      ]
    },
    {
      "cell_type": "code",
      "execution_count": null,
      "metadata": {
        "colab": {
          "base_uri": "https://localhost:8080/"
        },
        "id": "A-2JryjAyMnM",
        "outputId": "55374728-02cc-42fa-9c42-51cca5c92dba"
      },
      "outputs": [
        {
          "name": "stdout",
          "output_type": "stream",
          "text": [
            "Accuracy of imputation: 0.82\n"
          ]
        }
      ],
      "source": [
        "acc_score_imp = accuracy_score(Y_test, predictedvalimp)\n",
        "print('Accuracy of imputation: {0:0.2f}'.format(\n",
        "      acc_score_imp))"
      ]
    },
    {
      "cell_type": "markdown",
      "metadata": {
        "id": "CGFtFqgGlTCp"
      },
      "source": [
        "#### Comparison of scores in training"
      ]
    },
    {
      "cell_type": "markdown",
      "metadata": {
        "id": "86Ve1W1ylH6l"
      },
      "source": [
        "**Dataset after dropping missing value rows**"
      ]
    },
    {
      "cell_type": "code",
      "execution_count": null,
      "metadata": {
        "colab": {
          "base_uri": "https://localhost:8080/"
        },
        "id": "pGUS8PIckzwX",
        "outputId": "509de567-49e8-41f3-8c2d-534aa16a08f4"
      },
      "outputs": [
        {
          "name": "stderr",
          "output_type": "stream",
          "text": [
            "/usr/local/lib/python3.7/dist-packages/sklearn/metrics/_classification.py:1272: UndefinedMetricWarning: Precision is ill-defined and being set to 0.0 due to no predicted samples. Use `zero_division` parameter to control this behavior.\n",
            "  _warn_prf(average, modifier, msg_start, len(result))\n"
          ]
        },
        {
          "name": "stdout",
          "output_type": "stream",
          "text": [
            " Models                        |   Accuracy |   Precision |   Recall |   F1 Score\n",
            "-------------------------------+------------+-------------+----------+------------\n",
            " bag[SVC]                      |   0.475427 |    0        |      0   |   0\n",
            " bag[KNeighborsClassifier]     |   0.474786 |    0.636364 |      0.7 |   0.666667\n",
            " bag[DecisionTreeClassifier]   |   0.726709 |    0.888889 |      0.8 |   0.842105\n",
            " bag[RandomForestClassifier]   |   0.718803 |    0.818182 |      0.9 |   0.857143\n",
            " boost[DecisionTreeClassifier] |   0.685897 |    0.8      |      0.8 |   0.8\n",
            " boost[GaussianNB]             |   0.561538 |    1        |      0.5 |   0.666667\n",
            " stack                         |   0.706838 |    0.75     |      0.9 |   0.818182\n",
            " rf                            |   0.726709 |    0.75     |      0.9 |   0.818182\n",
            " hard_voting                   |   0.85     |    0.9      |      0.9 |   0.9\n"
          ]
        },
        {
          "data": {
            "text/plain": [
              "<BarContainer object of 9 artists>"
            ]
          },
          "execution_count": 69,
          "metadata": {
            "tags": []
          },
          "output_type": "execute_result"
        },
        {
          "data": {
            "image/png": "[encoded data removed]",
            "text/plain": [
              "<Figure size 432x288 with 1 Axes>"
            ]
          },
          "metadata": {
            "needs_background": "light",
            "tags": []
          },
          "output_type": "display_data"
        }
      ],
      "source": [
        "\n",
        "# DNA\n",
        "# Tabulate Scores\n",
        "# \n",
        "from tabulate import tabulate\n",
        "from sklearn import metrics\n",
        "# \n",
        "_table = {\n",
        "    'Models': x,\n",
        "    'Accuracy': [mean(model_result) for model_result in results_dna],        \n",
        "    'Precision':[],\n",
        "    'Recall':[],\n",
        "    'F1 Score':[]\n",
        "}\n",
        "# \n",
        "# \n",
        "# \n",
        "for name, model in models_dna.items():\n",
        "  y_pred = model.fit(X_trainval_dna, Y_trainval_dna).predict(X_test_dna)\n",
        "  _table['Precision'].append(float(metrics.precision_score(Y_test_dna, y_pred)))\n",
        "  _table['Recall'].append(float(metrics.recall_score(Y_test_dna, y_pred)))\n",
        "  _table['F1 Score'].append(float(metrics.f1_score(Y_test_dna, y_pred)))\n",
        "\n",
        "# \n",
        "# \n",
        "_table['Accuracy'][len(_table['Accuracy']) - 1] = acc_score_dna \n",
        "# \n",
        "# average_precision_score(Y_test_dna, predictedval)\n",
        "# \n",
        "print(tabulate(_table, headers=\"keys\", tablefmt=\"presto\"))\n",
        "# \n",
        "# Comparison using average accuracy\n",
        "# \n",
        "x = list(models_dna.keys())\n",
        "y = [mean(model_result) for model_result in results_dna]\n",
        "\n",
        "plt.title(\"accuracy comparison\")\n",
        "plt.ylabel(\"ACCURACY\")\n",
        "plt.xticks(rotation=45)\n",
        "plt.bar(x,y, width=0.8, linewidth=0.6 , align = 'edge')\n",
        "#\n"
      ]
    },
    {
      "cell_type": "markdown",
      "metadata": {
        "id": "CtE0A8-ak_U6"
      },
      "source": [
        " **With Imputation**"
      ]
    },
    {
      "cell_type": "code",
      "execution_count": null,
      "metadata": {
        "colab": {
          "base_uri": "https://localhost:8080/"
        },
        "id": "bA6CoxPxkxjk",
        "outputId": "7326fa54-c4b0-4465-a21f-e65e32940bbe"
      },
      "outputs": [
        {
          "name": "stderr",
          "output_type": "stream",
          "text": [
            "/usr/local/lib/python3.7/dist-packages/sklearn/metrics/_classification.py:1272: UndefinedMetricWarning: Precision is ill-defined and being set to 0.0 due to no predicted samples. Use `zero_division` parameter to control this behavior.\n",
            "  _warn_prf(average, modifier, msg_start, len(result))\n"
          ]
        },
        {
          "name": "stdout",
          "output_type": "stream",
          "text": [
            " Models                        |   Accuracy |   Precision |   Recall |   F1 Score\n",
            "-------------------------------+------------+-------------+----------+------------\n",
            " bag[SVC]                      |   0.527778 |    0        |      0   |   0\n",
            " bag[KNeighborsClassifier]     |   0.520513 |    0.615385 |      0.8 |   0.695652\n",
            " bag[DecisionTreeClassifier]   |   0.745513 |    0.888889 |      0.8 |   0.842105\n",
            " bag[RandomForestClassifier]   |   0.727137 |    0.727273 |      0.8 |   0.761905\n",
            " boost[DecisionTreeClassifier] |   0.675    |    0.727273 |      0.8 |   0.761905\n",
            " boost[GaussianNB]             |   0.541026 |    1        |      0.5 |   0.666667\n",
            " stack                         |   0.742308 |    0.75     |      0.9 |   0.818182\n",
            " rf                            |   0.732479 |    0.75     |      0.9 |   0.818182\n",
            " hard_voting                   |   0.818182 |    0.888889 |      0.8 |   0.842105\n"
          ]
        },
        {
          "data": {
            "text/plain": [
              "<BarContainer object of 9 artists>"
            ]
          },
          "execution_count": 68,
          "metadata": {
            "tags": []
          },
          "output_type": "execute_result"
        },
        {
          "data": {
            "image/png": "[encoded data removed]",
            "text/plain": [
              "<Figure size 432x288 with 1 Axes>"
            ]
          },
          "metadata": {
            "needs_background": "light",
            "tags": []
          },
          "output_type": "display_data"
        }
      ],
      "source": [
        "\n",
        "# Tabulate Scores\n",
        "# \n",
        "_table = {\n",
        "    'Models': x,\n",
        "    'Accuracy': [mean(model_result) for model_result in results],        \n",
        "    'Precision':[],\n",
        "    'Recall':[],\n",
        "    'F1 Score':[]\n",
        "}\n",
        "# \n",
        "# \n",
        "# \n",
        "for name, model in models_dna.items():\n",
        "  y_pred = model.fit(X_trainval_dna, Y_trainval_dna).predict(X_test_dna)\n",
        "  _table['Precision'].append(float(metrics.precision_score(Y_test_dna, y_pred)))\n",
        "  _table['Recall'].append(float(metrics.recall_score(Y_test_dna, y_pred)))\n",
        "  _table['F1 Score'].append(float(metrics.f1_score(Y_test_dna, y_pred)))\n",
        "\n",
        "\n",
        "\n",
        "_table['Accuracy'][len(_table['Accuracy']) - 1] = acc_score_imp\n",
        "# \n",
        "# average_precision_score(Y_test_dna, predictedval)\n",
        "# \n",
        "print(tabulate(_table, headers=\"keys\", tablefmt=\"presto\"))\n",
        "# \n",
        "# plot model performance for comparison\n",
        "# \n",
        "x = list(models.keys())\n",
        "y = [mean(model_result) for model_result in results]\n",
        "\n",
        "plt.title(\"accuracy comparison\")\n",
        "plt.ylabel(\"ACCURACY\")\n",
        "plt.xticks(rotation=45)\n",
        "plt.bar(x,y, width=0.8, linewidth=0.6 , align = 'edge')\n"
      ]
    },
    {
      "cell_type": "markdown",
      "metadata": {
        "id": "Mrk2BdVbVluL"
      },
      "source": [
        "# 8. Conclusion \n",
        "---\n",
        "We identified 8 rows with missing values in SES column. We deal with this issue with 2 approaches. One is just to drop the rows with missing values. The other is to replace the missing values with the corresponing values, also known as 'Imputation'. Looking at the results , we believe dropiing the empty rows would be better than imputation"
      ]
    }
  ],
  "metadata": {
    "colab": {
      "collapsed_sections": [
        "AB9mPx9KVltz"
      ],
      "name": "alzheimer_test.ipynb",
      "provenance": []
    },
    "interpreter": {
      "hash": "6cb5828080a4829b8fcefce72ede50ef70300b5619e1d5594a0cb90433117203"
    },
    "kernelspec": {
      "display_name": "Python 3.8.3 64-bit ('base': conda)",
      "name": "python3"
    },
    "language_info": {
      "codemirror_mode": {
        "name": "ipython",
        "version": 3
      },
      "file_extension": ".py",
      "mimetype": "text/x-python",
      "name": "python",
      "nbconvert_exporter": "python",
      "pygments_lexer": "ipython3",
      "version": "3.8.3"
    }
  },
  "nbformat": 4,
  "nbformat_minor": 0
}
