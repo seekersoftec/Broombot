{
  "cells": [
    {
      "cell_type": "code",
      "execution_count": 80,
      "metadata": {
        "colab": {
          "base_uri": "https://localhost:8080/",
          "height": 71
        },
        "colab_type": "code",
        "id": "7oyIu5bDptdI",
        "outputId": "57e75c64-5ae6-4828-adf5-fdfafc2cba43"
      },
      "outputs": [],
      "source": [
        "import numpy as np\n",
        "import pandas as pd\n",
        "import matplotlib.pyplot as plt \n",
        "import seaborn as sns\n",
        "# from google.colab import files\n",
        "from sklearn.model_selection import train_test_split , cross_val_score\n",
        "from sklearn.linear_model import LogisticRegression\n",
        "from sklearn.svm import SVC\n",
        "from sklearn.tree import DecisionTreeClassifier\n",
        "from sklearn.datasets import make_multilabel_classification\n",
        "from sklearn.multioutput import MultiOutputClassifier\n",
        "from sklearn.neighbors import KNeighborsClassifier\n",
        "from sklearn.ensemble import RandomForestClassifier,StackingClassifier, VotingClassifier\n",
        "from sklearn.naive_bayes import MultinomialNB\n",
        "from sklearn.metrics import classification_report, accuracy_score, make_scorer,precision_recall_fscore_support, roc_curve, plot_roc_curve\n",
        "from sklearn.utils import resample\n",
        "from sklearn.preprocessing import MinMaxScaler\n",
        "from sklearn.model_selection import StratifiedKFold"
      ]
    },
    {
      "cell_type": "code",
      "execution_count": 81,
      "metadata": {
        "colab": {},
        "colab_type": "code",
        "id": "IYjo_Lekkndq"
      },
      "outputs": [],
      "source": [
        "def warn(*args, **kwargs):\n",
        "    pass\n",
        "import warnings\n",
        "warnings.warn = warn"
      ]
    },
    {
      "cell_type": "code",
      "execution_count": 82,
      "metadata": {
        "colab": {},
        "colab_type": "code",
        "id": "CXO3U0fUptdP"
      },
      "outputs": [],
      "source": [
        "# df = pd.read_csv('https://archive.ics.uci.edu/ml/machine-learning-databases/00383/risk_factors_cervical_cancer.csv')\n",
        "df = pd.read_csv('ccv/risk_factors_cervical_cancer.csv')"
      ]
    },
    {
      "cell_type": "code",
      "execution_count": 83,
      "metadata": {
        "colab": {
          "base_uri": "https://localhost:8080/",
          "height": 297
        },
        "colab_type": "code",
        "id": "XWt9QOVkptdh",
        "outputId": "b0c64501-0b4c-490c-96b8-78f2dbe6bcb6"
      },
      "outputs": [
        {
          "data": {
            "text/html": [
              "<div>\n",
              "<style scoped>\n",
              "    .dataframe tbody tr th:only-of-type {\n",
              "        vertical-align: middle;\n",
              "    }\n",
              "\n",
              "    .dataframe tbody tr th {\n",
              "        vertical-align: top;\n",
              "    }\n",
              "\n",
              "    .dataframe thead th {\n",
              "        text-align: right;\n",
              "    }\n",
              "</style>\n",
              "<table border=\"1\" class=\"dataframe\">\n",
              "  <thead>\n",
              "    <tr style=\"text-align: right;\">\n",
              "      <th></th>\n",
              "      <th>Age</th>\n",
              "      <th>STDs: Number of diagnosis</th>\n",
              "      <th>Dx:Cancer</th>\n",
              "      <th>Dx:CIN</th>\n",
              "      <th>Dx:HPV</th>\n",
              "      <th>Dx</th>\n",
              "      <th>Hinselmann</th>\n",
              "      <th>Schiller</th>\n",
              "      <th>Citology</th>\n",
              "      <th>Biopsy</th>\n",
              "    </tr>\n",
              "  </thead>\n",
              "  <tbody>\n",
              "    <tr>\n",
              "      <th>count</th>\n",
              "      <td>858.000000</td>\n",
              "      <td>858.000000</td>\n",
              "      <td>858.000000</td>\n",
              "      <td>858.000000</td>\n",
              "      <td>858.000000</td>\n",
              "      <td>858.000000</td>\n",
              "      <td>858.000000</td>\n",
              "      <td>858.000000</td>\n",
              "      <td>858.000000</td>\n",
              "      <td>858.000000</td>\n",
              "    </tr>\n",
              "    <tr>\n",
              "      <th>mean</th>\n",
              "      <td>26.820513</td>\n",
              "      <td>0.087413</td>\n",
              "      <td>0.020979</td>\n",
              "      <td>0.010490</td>\n",
              "      <td>0.020979</td>\n",
              "      <td>0.027972</td>\n",
              "      <td>0.040793</td>\n",
              "      <td>0.086247</td>\n",
              "      <td>0.051282</td>\n",
              "      <td>0.064103</td>\n",
              "    </tr>\n",
              "    <tr>\n",
              "      <th>std</th>\n",
              "      <td>8.497948</td>\n",
              "      <td>0.302545</td>\n",
              "      <td>0.143398</td>\n",
              "      <td>0.101939</td>\n",
              "      <td>0.143398</td>\n",
              "      <td>0.164989</td>\n",
              "      <td>0.197925</td>\n",
              "      <td>0.280892</td>\n",
              "      <td>0.220701</td>\n",
              "      <td>0.245078</td>\n",
              "    </tr>\n",
              "    <tr>\n",
              "      <th>min</th>\n",
              "      <td>13.000000</td>\n",
              "      <td>0.000000</td>\n",
              "      <td>0.000000</td>\n",
              "      <td>0.000000</td>\n",
              "      <td>0.000000</td>\n",
              "      <td>0.000000</td>\n",
              "      <td>0.000000</td>\n",
              "      <td>0.000000</td>\n",
              "      <td>0.000000</td>\n",
              "      <td>0.000000</td>\n",
              "    </tr>\n",
              "    <tr>\n",
              "      <th>25%</th>\n",
              "      <td>20.000000</td>\n",
              "      <td>0.000000</td>\n",
              "      <td>0.000000</td>\n",
              "      <td>0.000000</td>\n",
              "      <td>0.000000</td>\n",
              "      <td>0.000000</td>\n",
              "      <td>0.000000</td>\n",
              "      <td>0.000000</td>\n",
              "      <td>0.000000</td>\n",
              "      <td>0.000000</td>\n",
              "    </tr>\n",
              "    <tr>\n",
              "      <th>50%</th>\n",
              "      <td>25.000000</td>\n",
              "      <td>0.000000</td>\n",
              "      <td>0.000000</td>\n",
              "      <td>0.000000</td>\n",
              "      <td>0.000000</td>\n",
              "      <td>0.000000</td>\n",
              "      <td>0.000000</td>\n",
              "      <td>0.000000</td>\n",
              "      <td>0.000000</td>\n",
              "      <td>0.000000</td>\n",
              "    </tr>\n",
              "    <tr>\n",
              "      <th>75%</th>\n",
              "      <td>32.000000</td>\n",
              "      <td>0.000000</td>\n",
              "      <td>0.000000</td>\n",
              "      <td>0.000000</td>\n",
              "      <td>0.000000</td>\n",
              "      <td>0.000000</td>\n",
              "      <td>0.000000</td>\n",
              "      <td>0.000000</td>\n",
              "      <td>0.000000</td>\n",
              "      <td>0.000000</td>\n",
              "    </tr>\n",
              "    <tr>\n",
              "      <th>max</th>\n",
              "      <td>84.000000</td>\n",
              "      <td>3.000000</td>\n",
              "      <td>1.000000</td>\n",
              "      <td>1.000000</td>\n",
              "      <td>1.000000</td>\n",
              "      <td>1.000000</td>\n",
              "      <td>1.000000</td>\n",
              "      <td>1.000000</td>\n",
              "      <td>1.000000</td>\n",
              "      <td>1.000000</td>\n",
              "    </tr>\n",
              "  </tbody>\n",
              "</table>\n",
              "</div>"
            ],
            "text/plain": [
              "              Age  STDs: Number of diagnosis   Dx:Cancer      Dx:CIN  \\\n",
              "count  858.000000                 858.000000  858.000000  858.000000   \n",
              "mean    26.820513                   0.087413    0.020979    0.010490   \n",
              "std      8.497948                   0.302545    0.143398    0.101939   \n",
              "min     13.000000                   0.000000    0.000000    0.000000   \n",
              "25%     20.000000                   0.000000    0.000000    0.000000   \n",
              "50%     25.000000                   0.000000    0.000000    0.000000   \n",
              "75%     32.000000                   0.000000    0.000000    0.000000   \n",
              "max     84.000000                   3.000000    1.000000    1.000000   \n",
              "\n",
              "           Dx:HPV          Dx  Hinselmann    Schiller    Citology      Biopsy  \n",
              "count  858.000000  858.000000  858.000000  858.000000  858.000000  858.000000  \n",
              "mean     0.020979    0.027972    0.040793    0.086247    0.051282    0.064103  \n",
              "std      0.143398    0.164989    0.197925    0.280892    0.220701    0.245078  \n",
              "min      0.000000    0.000000    0.000000    0.000000    0.000000    0.000000  \n",
              "25%      0.000000    0.000000    0.000000    0.000000    0.000000    0.000000  \n",
              "50%      0.000000    0.000000    0.000000    0.000000    0.000000    0.000000  \n",
              "75%      0.000000    0.000000    0.000000    0.000000    0.000000    0.000000  \n",
              "max      1.000000    1.000000    1.000000    1.000000    1.000000    1.000000  "
            ]
          },
          "execution_count": 83,
          "metadata": {},
          "output_type": "execute_result"
        }
      ],
      "source": [
        "df.describe()"
      ]
    },
    {
      "cell_type": "code",
      "execution_count": 84,
      "metadata": {
        "colab": {},
        "colab_type": "code",
        "id": "OsKBAZwtptdo"
      },
      "outputs": [],
      "source": [
        "df = df.replace('?', np.nan)"
      ]
    },
    {
      "cell_type": "code",
      "execution_count": 85,
      "metadata": {
        "colab": {
          "base_uri": "https://localhost:8080/",
          "height": 646
        },
        "colab_type": "code",
        "id": "5YhofgiXptdt",
        "outputId": "cfb877c3-baac-4432-eec9-7f5f1c6dd9d5"
      },
      "outputs": [
        {
          "data": {
            "text/plain": [
              "Age                                     0\n",
              "Number of sexual partners              26\n",
              "First sexual intercourse                7\n",
              "Num of pregnancies                     56\n",
              "Smokes                                 13\n",
              "Smokes (years)                         13\n",
              "Smokes (packs/year)                    13\n",
              "Hormonal Contraceptives               108\n",
              "Hormonal Contraceptives (years)       108\n",
              "IUD                                   117\n",
              "IUD (years)                           117\n",
              "STDs                                  105\n",
              "STDs (number)                         105\n",
              "STDs:condylomatosis                   105\n",
              "STDs:cervical condylomatosis          105\n",
              "STDs:vaginal condylomatosis           105\n",
              "STDs:vulvo-perineal condylomatosis    105\n",
              "STDs:syphilis                         105\n",
              "STDs:pelvic inflammatory disease      105\n",
              "STDs:genital herpes                   105\n",
              "STDs:molluscum contagiosum            105\n",
              "STDs:AIDS                             105\n",
              "STDs:HIV                              105\n",
              "STDs:Hepatitis B                      105\n",
              "STDs:HPV                              105\n",
              "STDs: Number of diagnosis               0\n",
              "STDs: Time since first diagnosis      787\n",
              "STDs: Time since last diagnosis       787\n",
              "Dx:Cancer                               0\n",
              "Dx:CIN                                  0\n",
              "Dx:HPV                                  0\n",
              "Dx                                      0\n",
              "Hinselmann                              0\n",
              "Schiller                                0\n",
              "Citology                                0\n",
              "Biopsy                                  0\n",
              "dtype: int64"
            ]
          },
          "execution_count": 85,
          "metadata": {},
          "output_type": "execute_result"
        }
      ],
      "source": [
        "df.isna().sum()"
      ]
    },
    {
      "cell_type": "code",
      "execution_count": 86,
      "metadata": {
        "colab": {
          "base_uri": "https://localhost:8080/",
          "height": 646
        },
        "colab_type": "code",
        "id": "zVb8vm_rptdx",
        "outputId": "f4a60060-c5b8-42ab-f12f-c7d640c12f23"
      },
      "outputs": [
        {
          "data": {
            "text/plain": [
              "Age                                    int64\n",
              "Number of sexual partners             object\n",
              "First sexual intercourse              object\n",
              "Num of pregnancies                    object\n",
              "Smokes                                object\n",
              "Smokes (years)                        object\n",
              "Smokes (packs/year)                   object\n",
              "Hormonal Contraceptives               object\n",
              "Hormonal Contraceptives (years)       object\n",
              "IUD                                   object\n",
              "IUD (years)                           object\n",
              "STDs                                  object\n",
              "STDs (number)                         object\n",
              "STDs:condylomatosis                   object\n",
              "STDs:cervical condylomatosis          object\n",
              "STDs:vaginal condylomatosis           object\n",
              "STDs:vulvo-perineal condylomatosis    object\n",
              "STDs:syphilis                         object\n",
              "STDs:pelvic inflammatory disease      object\n",
              "STDs:genital herpes                   object\n",
              "STDs:molluscum contagiosum            object\n",
              "STDs:AIDS                             object\n",
              "STDs:HIV                              object\n",
              "STDs:Hepatitis B                      object\n",
              "STDs:HPV                              object\n",
              "STDs: Number of diagnosis              int64\n",
              "STDs: Time since first diagnosis      object\n",
              "STDs: Time since last diagnosis       object\n",
              "Dx:Cancer                              int64\n",
              "Dx:CIN                                 int64\n",
              "Dx:HPV                                 int64\n",
              "Dx                                     int64\n",
              "Hinselmann                             int64\n",
              "Schiller                               int64\n",
              "Citology                               int64\n",
              "Biopsy                                 int64\n",
              "dtype: object"
            ]
          },
          "execution_count": 86,
          "metadata": {},
          "output_type": "execute_result"
        }
      ],
      "source": [
        "df.dtypes"
      ]
    },
    {
      "cell_type": "code",
      "execution_count": 87,
      "metadata": {
        "colab": {
          "base_uri": "https://localhost:8080/",
          "height": 646
        },
        "colab_type": "code",
        "id": "w0TneOABptd_",
        "outputId": "d28300c5-0fbd-4cc1-f519-89dcc18e7a09"
      },
      "outputs": [
        {
          "data": {
            "text/plain": [
              "Age                                   float64\n",
              "Number of sexual partners             float64\n",
              "First sexual intercourse              float64\n",
              "Num of pregnancies                    float64\n",
              "Smokes                                float64\n",
              "Smokes (years)                        float64\n",
              "Smokes (packs/year)                   float64\n",
              "Hormonal Contraceptives               float64\n",
              "Hormonal Contraceptives (years)       float64\n",
              "IUD                                   float64\n",
              "IUD (years)                           float64\n",
              "STDs                                  float64\n",
              "STDs (number)                         float64\n",
              "STDs:condylomatosis                   float64\n",
              "STDs:cervical condylomatosis          float64\n",
              "STDs:vaginal condylomatosis           float64\n",
              "STDs:vulvo-perineal condylomatosis    float64\n",
              "STDs:syphilis                         float64\n",
              "STDs:pelvic inflammatory disease      float64\n",
              "STDs:genital herpes                   float64\n",
              "STDs:molluscum contagiosum            float64\n",
              "STDs:AIDS                             float64\n",
              "STDs:HIV                              float64\n",
              "STDs:Hepatitis B                      float64\n",
              "STDs:HPV                              float64\n",
              "STDs: Number of diagnosis             float64\n",
              "STDs: Time since first diagnosis      float64\n",
              "STDs: Time since last diagnosis       float64\n",
              "Dx:Cancer                             float64\n",
              "Dx:CIN                                float64\n",
              "Dx:HPV                                float64\n",
              "Dx                                    float64\n",
              "Hinselmann                            float64\n",
              "Schiller                              float64\n",
              "Citology                              float64\n",
              "Biopsy                                float64\n",
              "dtype: object"
            ]
          },
          "execution_count": 87,
          "metadata": {},
          "output_type": "execute_result"
        }
      ],
      "source": [
        "df = df.astype('float64')\n",
        "df.dtypes"
      ]
    },
    {
      "cell_type": "code",
      "execution_count": 88,
      "metadata": {
        "colab": {},
        "colab_type": "code",
        "id": "VDEn0HHRptec"
      },
      "outputs": [],
      "source": [
        "df['Number of sexual partners'] = df['Number of sexual partners'].fillna(df['Number of sexual partners'].median())\n",
        "df['First sexual intercourse'] = df['First sexual intercourse'].fillna(df['First sexual intercourse'].median())\n",
        "df['Num of pregnancies'] = df['Num of pregnancies'].fillna(df['Num of pregnancies'].median())\n",
        "df['Smokes'] = df['Smokes'].fillna(df['Smokes'].median())\n",
        "df['Smokes (years)'] = df['Smokes (years)'].fillna(df['Smokes (years)'].median())\n",
        "df['Smokes (packs/year)'] = df['Smokes (packs/year)'].fillna(df['Smokes (packs/year)'].median())\n",
        "df['Hormonal Contraceptives (years)'] = df['Hormonal Contraceptives (years)'].fillna(df['Hormonal Contraceptives (years)'].median())\n",
        "df['IUD'] = df['IUD'].fillna(df['IUD'].median())\n",
        "df['IUD (years)'] = df['IUD (years)'].fillna(df['IUD (years)'].median())\n",
        "df['STDs'] = df['STDs'].fillna(df['STDs'].median())\n",
        "df['STDs (number)'] = df['STDs (number)'].fillna(df['STDs (number)'].median())\n",
        "df['STDs:condylomatosis'] = df['STDs:condylomatosis'].fillna(df['STDs:condylomatosis'].median())\n",
        "df['STDs:cervical condylomatosis'] = df['STDs:cervical condylomatosis'].fillna(df['STDs:cervical condylomatosis'].median())\n",
        "df['STDs:vaginal condylomatosis'] = df['STDs:vaginal condylomatosis'].fillna(df['STDs:vaginal condylomatosis'].median())\n",
        "df['STDs:vulvo-perineal condylomatosis'] = df['STDs:vulvo-perineal condylomatosis'].fillna(df['STDs:vulvo-perineal condylomatosis'].median())\n",
        "df['STDs:syphilis'] = df['STDs:syphilis'].fillna(df['STDs:syphilis'].median())\n",
        "df['STDs:pelvic inflammatory disease'] = df['STDs:pelvic inflammatory disease'].fillna(df['STDs:pelvic inflammatory disease'].median())\n",
        "df['STDs:genital herpes'] = df['STDs:genital herpes'].fillna(df['STDs:genital herpes'].median())\n",
        "df['STDs:molluscum contagiosum'] = df['STDs:molluscum contagiosum'].fillna(df['STDs:molluscum contagiosum'].median())\n",
        "df['STDs:AIDS'] = df['STDs:AIDS'].fillna(df['STDs:AIDS'].median())\n",
        "df['STDs:HIV'] = df['STDs:HIV'].fillna(df['STDs:HIV'].median())\n",
        "df['STDs:Hepatitis B'] = df['STDs:Hepatitis B'].fillna(df['STDs:Hepatitis B'].median())\n",
        "df['STDs:HPV'] = df['STDs:HPV'].fillna(df['STDs:HPV'].median())\n",
        "df['STDs: Time since first diagnosis'] = df['STDs: Time since first diagnosis'].fillna(df['STDs: Time since first diagnosis'].median())\n",
        "df['STDs: Time since last diagnosis'] = df['STDs: Time since last diagnosis'].fillna(df['STDs: Time since last diagnosis'].median())"
      ]
    },
    {
      "cell_type": "code",
      "execution_count": 89,
      "metadata": {
        "colab": {
          "base_uri": "https://localhost:8080/",
          "height": 507
        },
        "colab_type": "code",
        "id": "_zm4SGhzpteh",
        "outputId": "687ecabf-7455-497f-f0cc-062c69e13195"
      },
      "outputs": [
        {
          "data": {
            "text/html": [
              "<div>\n",
              "<style scoped>\n",
              "    .dataframe tbody tr th:only-of-type {\n",
              "        vertical-align: middle;\n",
              "    }\n",
              "\n",
              "    .dataframe tbody tr th {\n",
              "        vertical-align: top;\n",
              "    }\n",
              "\n",
              "    .dataframe thead th {\n",
              "        text-align: right;\n",
              "    }\n",
              "</style>\n",
              "<table border=\"1\" class=\"dataframe\">\n",
              "  <thead>\n",
              "    <tr style=\"text-align: right;\">\n",
              "      <th></th>\n",
              "      <th>Age</th>\n",
              "      <th>Number of sexual partners</th>\n",
              "      <th>First sexual intercourse</th>\n",
              "      <th>Num of pregnancies</th>\n",
              "      <th>Smokes</th>\n",
              "      <th>Smokes (years)</th>\n",
              "      <th>Smokes (packs/year)</th>\n",
              "      <th>Hormonal Contraceptives</th>\n",
              "      <th>Hormonal Contraceptives (years)</th>\n",
              "      <th>IUD</th>\n",
              "      <th>...</th>\n",
              "      <th>STDs: Time since first diagnosis</th>\n",
              "      <th>STDs: Time since last diagnosis</th>\n",
              "      <th>Dx:Cancer</th>\n",
              "      <th>Dx:CIN</th>\n",
              "      <th>Dx:HPV</th>\n",
              "      <th>Dx</th>\n",
              "      <th>Hinselmann</th>\n",
              "      <th>Schiller</th>\n",
              "      <th>Citology</th>\n",
              "      <th>Biopsy</th>\n",
              "    </tr>\n",
              "  </thead>\n",
              "  <tbody>\n",
              "    <tr>\n",
              "      <th>0</th>\n",
              "      <td>18.0</td>\n",
              "      <td>4.0</td>\n",
              "      <td>15.0</td>\n",
              "      <td>1.0</td>\n",
              "      <td>0.0</td>\n",
              "      <td>0.0</td>\n",
              "      <td>0.0</td>\n",
              "      <td>0.0</td>\n",
              "      <td>0.00</td>\n",
              "      <td>0.0</td>\n",
              "      <td>...</td>\n",
              "      <td>4.0</td>\n",
              "      <td>3.0</td>\n",
              "      <td>0.0</td>\n",
              "      <td>0.0</td>\n",
              "      <td>0.0</td>\n",
              "      <td>0.0</td>\n",
              "      <td>0.0</td>\n",
              "      <td>0.0</td>\n",
              "      <td>0.0</td>\n",
              "      <td>0.0</td>\n",
              "    </tr>\n",
              "    <tr>\n",
              "      <th>1</th>\n",
              "      <td>15.0</td>\n",
              "      <td>1.0</td>\n",
              "      <td>14.0</td>\n",
              "      <td>1.0</td>\n",
              "      <td>0.0</td>\n",
              "      <td>0.0</td>\n",
              "      <td>0.0</td>\n",
              "      <td>0.0</td>\n",
              "      <td>0.00</td>\n",
              "      <td>0.0</td>\n",
              "      <td>...</td>\n",
              "      <td>4.0</td>\n",
              "      <td>3.0</td>\n",
              "      <td>0.0</td>\n",
              "      <td>0.0</td>\n",
              "      <td>0.0</td>\n",
              "      <td>0.0</td>\n",
              "      <td>0.0</td>\n",
              "      <td>0.0</td>\n",
              "      <td>0.0</td>\n",
              "      <td>0.0</td>\n",
              "    </tr>\n",
              "    <tr>\n",
              "      <th>2</th>\n",
              "      <td>34.0</td>\n",
              "      <td>1.0</td>\n",
              "      <td>17.0</td>\n",
              "      <td>1.0</td>\n",
              "      <td>0.0</td>\n",
              "      <td>0.0</td>\n",
              "      <td>0.0</td>\n",
              "      <td>0.0</td>\n",
              "      <td>0.00</td>\n",
              "      <td>0.0</td>\n",
              "      <td>...</td>\n",
              "      <td>4.0</td>\n",
              "      <td>3.0</td>\n",
              "      <td>0.0</td>\n",
              "      <td>0.0</td>\n",
              "      <td>0.0</td>\n",
              "      <td>0.0</td>\n",
              "      <td>0.0</td>\n",
              "      <td>0.0</td>\n",
              "      <td>0.0</td>\n",
              "      <td>0.0</td>\n",
              "    </tr>\n",
              "    <tr>\n",
              "      <th>3</th>\n",
              "      <td>52.0</td>\n",
              "      <td>5.0</td>\n",
              "      <td>16.0</td>\n",
              "      <td>4.0</td>\n",
              "      <td>1.0</td>\n",
              "      <td>37.0</td>\n",
              "      <td>37.0</td>\n",
              "      <td>1.0</td>\n",
              "      <td>3.00</td>\n",
              "      <td>0.0</td>\n",
              "      <td>...</td>\n",
              "      <td>4.0</td>\n",
              "      <td>3.0</td>\n",
              "      <td>1.0</td>\n",
              "      <td>0.0</td>\n",
              "      <td>1.0</td>\n",
              "      <td>0.0</td>\n",
              "      <td>0.0</td>\n",
              "      <td>0.0</td>\n",
              "      <td>0.0</td>\n",
              "      <td>0.0</td>\n",
              "    </tr>\n",
              "    <tr>\n",
              "      <th>4</th>\n",
              "      <td>46.0</td>\n",
              "      <td>3.0</td>\n",
              "      <td>21.0</td>\n",
              "      <td>4.0</td>\n",
              "      <td>0.0</td>\n",
              "      <td>0.0</td>\n",
              "      <td>0.0</td>\n",
              "      <td>1.0</td>\n",
              "      <td>15.00</td>\n",
              "      <td>0.0</td>\n",
              "      <td>...</td>\n",
              "      <td>4.0</td>\n",
              "      <td>3.0</td>\n",
              "      <td>0.0</td>\n",
              "      <td>0.0</td>\n",
              "      <td>0.0</td>\n",
              "      <td>0.0</td>\n",
              "      <td>0.0</td>\n",
              "      <td>0.0</td>\n",
              "      <td>0.0</td>\n",
              "      <td>0.0</td>\n",
              "    </tr>\n",
              "    <tr>\n",
              "      <th>...</th>\n",
              "      <td>...</td>\n",
              "      <td>...</td>\n",
              "      <td>...</td>\n",
              "      <td>...</td>\n",
              "      <td>...</td>\n",
              "      <td>...</td>\n",
              "      <td>...</td>\n",
              "      <td>...</td>\n",
              "      <td>...</td>\n",
              "      <td>...</td>\n",
              "      <td>...</td>\n",
              "      <td>...</td>\n",
              "      <td>...</td>\n",
              "      <td>...</td>\n",
              "      <td>...</td>\n",
              "      <td>...</td>\n",
              "      <td>...</td>\n",
              "      <td>...</td>\n",
              "      <td>...</td>\n",
              "      <td>...</td>\n",
              "      <td>...</td>\n",
              "    </tr>\n",
              "    <tr>\n",
              "      <th>853</th>\n",
              "      <td>34.0</td>\n",
              "      <td>3.0</td>\n",
              "      <td>18.0</td>\n",
              "      <td>0.0</td>\n",
              "      <td>0.0</td>\n",
              "      <td>0.0</td>\n",
              "      <td>0.0</td>\n",
              "      <td>0.0</td>\n",
              "      <td>0.00</td>\n",
              "      <td>0.0</td>\n",
              "      <td>...</td>\n",
              "      <td>4.0</td>\n",
              "      <td>3.0</td>\n",
              "      <td>0.0</td>\n",
              "      <td>0.0</td>\n",
              "      <td>0.0</td>\n",
              "      <td>0.0</td>\n",
              "      <td>0.0</td>\n",
              "      <td>0.0</td>\n",
              "      <td>0.0</td>\n",
              "      <td>0.0</td>\n",
              "    </tr>\n",
              "    <tr>\n",
              "      <th>854</th>\n",
              "      <td>32.0</td>\n",
              "      <td>2.0</td>\n",
              "      <td>19.0</td>\n",
              "      <td>1.0</td>\n",
              "      <td>0.0</td>\n",
              "      <td>0.0</td>\n",
              "      <td>0.0</td>\n",
              "      <td>1.0</td>\n",
              "      <td>8.00</td>\n",
              "      <td>0.0</td>\n",
              "      <td>...</td>\n",
              "      <td>4.0</td>\n",
              "      <td>3.0</td>\n",
              "      <td>0.0</td>\n",
              "      <td>0.0</td>\n",
              "      <td>0.0</td>\n",
              "      <td>0.0</td>\n",
              "      <td>0.0</td>\n",
              "      <td>0.0</td>\n",
              "      <td>0.0</td>\n",
              "      <td>0.0</td>\n",
              "    </tr>\n",
              "    <tr>\n",
              "      <th>855</th>\n",
              "      <td>25.0</td>\n",
              "      <td>2.0</td>\n",
              "      <td>17.0</td>\n",
              "      <td>0.0</td>\n",
              "      <td>0.0</td>\n",
              "      <td>0.0</td>\n",
              "      <td>0.0</td>\n",
              "      <td>1.0</td>\n",
              "      <td>0.08</td>\n",
              "      <td>0.0</td>\n",
              "      <td>...</td>\n",
              "      <td>4.0</td>\n",
              "      <td>3.0</td>\n",
              "      <td>0.0</td>\n",
              "      <td>0.0</td>\n",
              "      <td>0.0</td>\n",
              "      <td>0.0</td>\n",
              "      <td>0.0</td>\n",
              "      <td>0.0</td>\n",
              "      <td>1.0</td>\n",
              "      <td>0.0</td>\n",
              "    </tr>\n",
              "    <tr>\n",
              "      <th>856</th>\n",
              "      <td>33.0</td>\n",
              "      <td>2.0</td>\n",
              "      <td>24.0</td>\n",
              "      <td>2.0</td>\n",
              "      <td>0.0</td>\n",
              "      <td>0.0</td>\n",
              "      <td>0.0</td>\n",
              "      <td>1.0</td>\n",
              "      <td>0.08</td>\n",
              "      <td>0.0</td>\n",
              "      <td>...</td>\n",
              "      <td>4.0</td>\n",
              "      <td>3.0</td>\n",
              "      <td>0.0</td>\n",
              "      <td>0.0</td>\n",
              "      <td>0.0</td>\n",
              "      <td>0.0</td>\n",
              "      <td>0.0</td>\n",
              "      <td>0.0</td>\n",
              "      <td>0.0</td>\n",
              "      <td>0.0</td>\n",
              "    </tr>\n",
              "    <tr>\n",
              "      <th>857</th>\n",
              "      <td>29.0</td>\n",
              "      <td>2.0</td>\n",
              "      <td>20.0</td>\n",
              "      <td>1.0</td>\n",
              "      <td>0.0</td>\n",
              "      <td>0.0</td>\n",
              "      <td>0.0</td>\n",
              "      <td>1.0</td>\n",
              "      <td>0.50</td>\n",
              "      <td>0.0</td>\n",
              "      <td>...</td>\n",
              "      <td>4.0</td>\n",
              "      <td>3.0</td>\n",
              "      <td>0.0</td>\n",
              "      <td>0.0</td>\n",
              "      <td>0.0</td>\n",
              "      <td>0.0</td>\n",
              "      <td>0.0</td>\n",
              "      <td>0.0</td>\n",
              "      <td>0.0</td>\n",
              "      <td>0.0</td>\n",
              "    </tr>\n",
              "  </tbody>\n",
              "</table>\n",
              "<p>858 rows × 36 columns</p>\n",
              "</div>"
            ],
            "text/plain": [
              "      Age  Number of sexual partners  First sexual intercourse  \\\n",
              "0    18.0                        4.0                      15.0   \n",
              "1    15.0                        1.0                      14.0   \n",
              "2    34.0                        1.0                      17.0   \n",
              "3    52.0                        5.0                      16.0   \n",
              "4    46.0                        3.0                      21.0   \n",
              "..    ...                        ...                       ...   \n",
              "853  34.0                        3.0                      18.0   \n",
              "854  32.0                        2.0                      19.0   \n",
              "855  25.0                        2.0                      17.0   \n",
              "856  33.0                        2.0                      24.0   \n",
              "857  29.0                        2.0                      20.0   \n",
              "\n",
              "     Num of pregnancies  Smokes  Smokes (years)  Smokes (packs/year)  \\\n",
              "0                   1.0     0.0             0.0                  0.0   \n",
              "1                   1.0     0.0             0.0                  0.0   \n",
              "2                   1.0     0.0             0.0                  0.0   \n",
              "3                   4.0     1.0            37.0                 37.0   \n",
              "4                   4.0     0.0             0.0                  0.0   \n",
              "..                  ...     ...             ...                  ...   \n",
              "853                 0.0     0.0             0.0                  0.0   \n",
              "854                 1.0     0.0             0.0                  0.0   \n",
              "855                 0.0     0.0             0.0                  0.0   \n",
              "856                 2.0     0.0             0.0                  0.0   \n",
              "857                 1.0     0.0             0.0                  0.0   \n",
              "\n",
              "     Hormonal Contraceptives  Hormonal Contraceptives (years)  IUD  ...  \\\n",
              "0                        0.0                             0.00  0.0  ...   \n",
              "1                        0.0                             0.00  0.0  ...   \n",
              "2                        0.0                             0.00  0.0  ...   \n",
              "3                        1.0                             3.00  0.0  ...   \n",
              "4                        1.0                            15.00  0.0  ...   \n",
              "..                       ...                              ...  ...  ...   \n",
              "853                      0.0                             0.00  0.0  ...   \n",
              "854                      1.0                             8.00  0.0  ...   \n",
              "855                      1.0                             0.08  0.0  ...   \n",
              "856                      1.0                             0.08  0.0  ...   \n",
              "857                      1.0                             0.50  0.0  ...   \n",
              "\n",
              "     STDs: Time since first diagnosis  STDs: Time since last diagnosis  \\\n",
              "0                                 4.0                              3.0   \n",
              "1                                 4.0                              3.0   \n",
              "2                                 4.0                              3.0   \n",
              "3                                 4.0                              3.0   \n",
              "4                                 4.0                              3.0   \n",
              "..                                ...                              ...   \n",
              "853                               4.0                              3.0   \n",
              "854                               4.0                              3.0   \n",
              "855                               4.0                              3.0   \n",
              "856                               4.0                              3.0   \n",
              "857                               4.0                              3.0   \n",
              "\n",
              "     Dx:Cancer  Dx:CIN  Dx:HPV   Dx  Hinselmann  Schiller  Citology  Biopsy  \n",
              "0          0.0     0.0     0.0  0.0         0.0       0.0       0.0     0.0  \n",
              "1          0.0     0.0     0.0  0.0         0.0       0.0       0.0     0.0  \n",
              "2          0.0     0.0     0.0  0.0         0.0       0.0       0.0     0.0  \n",
              "3          1.0     0.0     1.0  0.0         0.0       0.0       0.0     0.0  \n",
              "4          0.0     0.0     0.0  0.0         0.0       0.0       0.0     0.0  \n",
              "..         ...     ...     ...  ...         ...       ...       ...     ...  \n",
              "853        0.0     0.0     0.0  0.0         0.0       0.0       0.0     0.0  \n",
              "854        0.0     0.0     0.0  0.0         0.0       0.0       0.0     0.0  \n",
              "855        0.0     0.0     0.0  0.0         0.0       0.0       1.0     0.0  \n",
              "856        0.0     0.0     0.0  0.0         0.0       0.0       0.0     0.0  \n",
              "857        0.0     0.0     0.0  0.0         0.0       0.0       0.0     0.0  \n",
              "\n",
              "[858 rows x 36 columns]"
            ]
          },
          "execution_count": 89,
          "metadata": {},
          "output_type": "execute_result"
        }
      ],
      "source": [
        "df"
      ]
    },
    {
      "cell_type": "code",
      "execution_count": 90,
      "metadata": {
        "colab": {},
        "colab_type": "code",
        "id": "ihoz4Xxuptel"
      },
      "outputs": [],
      "source": [
        "df = pd.get_dummies(data=df, columns=['Smokes','Hormonal Contraceptives','IUD','STDs',\n",
        "                                      'Dx:Cancer','Dx:CIN','Dx:HPV','Dx'])"
      ]
    },
    {
      "cell_type": "code",
      "execution_count": 91,
      "metadata": {
        "colab": {
          "base_uri": "https://localhost:8080/",
          "height": 782
        },
        "colab_type": "code",
        "id": "SAYqc_G9ptep",
        "outputId": "5e9561b9-1682-4122-ad55-d9926d42ce82"
      },
      "outputs": [
        {
          "data": {
            "text/plain": [
              "Age                                   0\n",
              "Number of sexual partners             0\n",
              "First sexual intercourse              0\n",
              "Num of pregnancies                    0\n",
              "Smokes (years)                        0\n",
              "Smokes (packs/year)                   0\n",
              "Hormonal Contraceptives (years)       0\n",
              "IUD (years)                           0\n",
              "STDs (number)                         0\n",
              "STDs:condylomatosis                   0\n",
              "STDs:cervical condylomatosis          0\n",
              "STDs:vaginal condylomatosis           0\n",
              "STDs:vulvo-perineal condylomatosis    0\n",
              "STDs:syphilis                         0\n",
              "STDs:pelvic inflammatory disease      0\n",
              "STDs:genital herpes                   0\n",
              "STDs:molluscum contagiosum            0\n",
              "STDs:AIDS                             0\n",
              "STDs:HIV                              0\n",
              "STDs:Hepatitis B                      0\n",
              "STDs:HPV                              0\n",
              "STDs: Number of diagnosis             0\n",
              "STDs: Time since first diagnosis      0\n",
              "STDs: Time since last diagnosis       0\n",
              "Hinselmann                            0\n",
              "Schiller                              0\n",
              "Citology                              0\n",
              "Biopsy                                0\n",
              "Smokes_0.0                            0\n",
              "Smokes_1.0                            0\n",
              "Hormonal Contraceptives_0.0           0\n",
              "Hormonal Contraceptives_1.0           0\n",
              "IUD_0.0                               0\n",
              "IUD_1.0                               0\n",
              "STDs_0.0                              0\n",
              "STDs_1.0                              0\n",
              "Dx:Cancer_0.0                         0\n",
              "Dx:Cancer_1.0                         0\n",
              "Dx:CIN_0.0                            0\n",
              "Dx:CIN_1.0                            0\n",
              "Dx:HPV_0.0                            0\n",
              "Dx:HPV_1.0                            0\n",
              "Dx_0.0                                0\n",
              "Dx_1.0                                0\n",
              "dtype: int64"
            ]
          },
          "execution_count": 91,
          "metadata": {},
          "output_type": "execute_result"
        }
      ],
      "source": [
        "df.isna().sum()"
      ]
    },
    {
      "cell_type": "code",
      "execution_count": 92,
      "metadata": {
        "colab": {},
        "colab_type": "code",
        "id": "LkwGmXa3r3pS"
      },
      "outputs": [],
      "source": [
        "df_target = df.loc[(df['Hinselmann'] == 1.0) | (df['Citology'] == 1.0) | (df['Schiller'] == 1.0) | (df['Biopsy'] == 1.0)]\n",
        "df_not_target = df.loc[(df['Hinselmann'] != 1.0) & (df['Citology'] != 1.0) & (df['Schiller'] != 1.0) & (df['Biopsy'] != 1.0)]"
      ]
    },
    {
      "cell_type": "code",
      "execution_count": 93,
      "metadata": {
        "colab": {},
        "colab_type": "code",
        "id": "TW5dqkQJ0q30"
      },
      "outputs": [],
      "source": [
        "target_upsampled = resample(df_target,\n",
        "                          replace=True, # sample with replacement\n",
        "                          n_samples=len(df_not_target), # match number in majority class\n",
        "                          random_state=0)\n",
        "df_new =  pd.concat([df_not_target, target_upsampled])"
      ]
    },
    {
      "cell_type": "code",
      "execution_count": 94,
      "metadata": {
        "colab": {},
        "colab_type": "code",
        "id": "aCgSO_b5nEJ5"
      },
      "outputs": [],
      "source": [
        "df_train, df_test = train_test_split(df_new, test_size=0.1, random_state=0)"
      ]
    },
    {
      "cell_type": "code",
      "execution_count": 95,
      "metadata": {
        "colab": {},
        "colab_type": "code",
        "id": "-lqz916o1QIF"
      },
      "outputs": [],
      "source": [
        "df_train_feature = df_train[['Age', 'Number of sexual partners', 'First sexual intercourse',\n",
        "       'Num of pregnancies', 'Smokes (years)', 'Smokes (packs/year)',\n",
        "       'Hormonal Contraceptives (years)', 'IUD (years)', 'STDs (number)',\n",
        "       'STDs:condylomatosis', 'STDs:cervical condylomatosis',\n",
        "       'STDs:vaginal condylomatosis', 'STDs:vulvo-perineal condylomatosis',\n",
        "       'STDs:syphilis', 'STDs:pelvic inflammatory disease',\n",
        "       'STDs:genital herpes', 'STDs:molluscum contagiosum', 'STDs:AIDS',\n",
        "       'STDs:HIV', 'STDs:Hepatitis B', 'STDs:HPV', 'STDs: Number of diagnosis',\n",
        "       'STDs: Time since first diagnosis', 'STDs: Time since last diagnosis', \n",
        "       'Smokes_0.0', 'Smokes_1.0',\n",
        "       'Hormonal Contraceptives_0.0', 'Hormonal Contraceptives_1.0', 'IUD_0.0',\n",
        "       'IUD_1.0', 'STDs_0.0', 'STDs_1.0', 'Dx:Cancer_0.0', 'Dx:Cancer_1.0',\n",
        "       'Dx:CIN_0.0', 'Dx:CIN_1.0', 'Dx:HPV_0.0', 'Dx:HPV_1.0', 'Dx_0.0', 'Dx_1.0']]\n",
        "\n",
        "train_label = np.array(df_train[['Hinselmann', 'Citology','Schiller','Biopsy']])\n",
        "\n",
        "df_test_feature = df_test[['Age', 'Number of sexual partners', 'First sexual intercourse',\n",
        "       'Num of pregnancies', 'Smokes (years)', 'Smokes (packs/year)',\n",
        "       'Hormonal Contraceptives (years)', 'IUD (years)', 'STDs (number)',\n",
        "       'STDs:condylomatosis', 'STDs:cervical condylomatosis',\n",
        "       'STDs:vaginal condylomatosis', 'STDs:vulvo-perineal condylomatosis',\n",
        "       'STDs:syphilis', 'STDs:pelvic inflammatory disease',\n",
        "       'STDs:genital herpes', 'STDs:molluscum contagiosum', 'STDs:AIDS',\n",
        "       'STDs:HIV', 'STDs:Hepatitis B', 'STDs:HPV', 'STDs: Number of diagnosis',\n",
        "       'STDs: Time since first diagnosis', 'STDs: Time since last diagnosis', \n",
        "       'Smokes_0.0', 'Smokes_1.0',\n",
        "       'Hormonal Contraceptives_0.0', 'Hormonal Contraceptives_1.0', 'IUD_0.0',\n",
        "       'IUD_1.0', 'STDs_0.0', 'STDs_1.0', 'Dx:Cancer_0.0', 'Dx:Cancer_1.0',\n",
        "       'Dx:CIN_0.0', 'Dx:CIN_1.0', 'Dx:HPV_0.0', 'Dx:HPV_1.0', 'Dx_0.0', 'Dx_1.0']]\n",
        "       \n",
        "test_label = np.array(df_test[['Hinselmann', 'Citology','Schiller','Biopsy']])"
      ]
    },
    {
      "cell_type": "code",
      "execution_count": 96,
      "metadata": {
        "colab": {},
        "colab_type": "code",
        "id": "Z2njxqX9ptfC"
      },
      "outputs": [],
      "source": [
        "scaler = MinMaxScaler()\n",
        "\n",
        "df_train_feature = scaler.fit_transform(df_train_feature)\n",
        "df_test_feature = scaler.transform(df_test_feature)"
      ]
    },
    {
      "cell_type": "code",
      "execution_count": 97,
      "metadata": {
        "colab": {
          "base_uri": "https://localhost:8080/",
          "height": 357
        },
        "colab_type": "code",
        "id": "WV8vmDBlGrfy",
        "outputId": "4430a69d-ffac-4e7c-9e89-f77a7ce02ec2"
      },
      "outputs": [
        {
          "name": "stdout",
          "output_type": "stream",
          "text": [
            "Hinselmann\n",
            "A : 0.9736842105263158\n",
            "P : 0.84\n",
            "R : 1.0\n",
            "F : 0.9130434782608696\n",
            "Citology\n",
            "A : 0.9671052631578947\n",
            "P : 0.8888888888888888\n",
            "R : 0.9696969696969697\n",
            "F : 0.927536231884058\n",
            "Schiller\n",
            "A : 0.9736842105263158\n",
            "P : 0.9285714285714286\n",
            "R : 1.0\n",
            "F : 0.962962962962963\n",
            "Biopsy\n",
            "A : 0.9736842105263158\n",
            "P : 0.9090909090909091\n",
            "R : 1.0\n",
            "F : 0.9523809523809523\n"
          ]
        }
      ],
      "source": [
        "labels = ['Hinselmann', 'Citology','Schiller','Biopsy']\n",
        "acc = []\n",
        "pre = []\n",
        "rec = []\n",
        "f =  []\n",
        "for i in range(4):\n",
        "  NBClassifer = MultinomialNB(fit_prior = False)\n",
        "  SVClassifer = SVC()\n",
        "  LogClassifier = LogisticRegression()\n",
        "  DTClassifier = DecisionTreeClassifier()\n",
        "  KNNClassifier = KNeighborsClassifier(n_neighbors = 10)\n",
        "  Ensemble=StackingClassifier(estimators=[('svc',SVClassifer),('lr',LogClassifier),\n",
        "                                         ('knn',KNNClassifier),('nb',NBClassifer),\n",
        "                                         ('dt',DTClassifier)],cv=2)\n",
        "\n",
        "  Ensemble.fit(df_train_feature, train_label[:,i])\n",
        "  Ensemble_pred = Ensemble.predict(df_test_feature)\n",
        "\n",
        "  acc.append(accuracy_score(test_label[:,i], Ensemble_pred))\n",
        "  pre1, rec1, f1, sup = precision_recall_fscore_support(test_label[:,i], Ensemble_pred, average = 'binary', labels = [0, 1])\n",
        "  pre.append(pre1)\n",
        "  rec.append(rec1)\n",
        "  f.append(f1)\n",
        "  print(labels[i])\n",
        "  print(\"A :\", acc[-1])\n",
        "  print(\"P :\", pre[-1])\n",
        "  print(\"R :\", rec[-1])\n",
        "  print(\"F :\", f[-1])"
      ]
    },
    {
      "cell_type": "code",
      "execution_count": 98,
      "metadata": {
        "colab": {
          "base_uri": "https://localhost:8080/",
          "height": 297
        },
        "colab_type": "code",
        "id": "FGcPFlN_smtv",
        "outputId": "465cbcf8-4b3b-4331-c228-e86c6ef4d041"
      },
      "outputs": [
        {
          "data": {
            "image/png": "[encoded data removed]",
            "text/plain": [
              "<Figure size 432x288 with 1 Axes>"
            ]
          },
          "metadata": {},
          "output_type": "display_data"
        }
      ],
      "source": [
        "plt.plot(labels, acc, color = 'lightcoral',marker='o',label = 'Accuracy')\n",
        "plt.plot(labels, pre, color = 'mediumseagreen',marker='v',label = 'Precision')\n",
        "plt.plot(labels, rec, color = 'turquoise',marker='s',label = 'Recall')\n",
        "plt.plot(labels, f,   color = 'plum',marker='x',label = 'F-Score')\n",
        "\n",
        "plt.xlabel(\"Target Variables\")\n",
        "plt.ylabel(\"Score\")\n",
        "plt.title(\"Accuracy, Precision, Recall and F-Score comparision\")\n",
        "\n",
        "plt.legend()\n",
        "plt.grid()\n",
        "plt.tight_layout()\n",
        "\n",
        "plt.savefig(\"Ensemble-mpl.png\", format='svg', dpi = 300)\n",
        "# files.download(\"Ensemble-mpl.png\") \n",
        "\n",
        "plt.show()"
      ]
    },
    {
      "cell_type": "code",
      "execution_count": 99,
      "metadata": {
        "colab": {
          "base_uri": "https://localhost:8080/",
          "height": 301
        },
        "colab_type": "code",
        "id": "LSwTWVl-u4rp",
        "outputId": "df86134b-6310-4bb2-fc96-4ee156ccfc1d"
      },
      "outputs": [
        {
          "data": {
            "image/png": "[encoded data removed]",
            "text/plain": [
              "<Figure size 432x288 with 1 Axes>"
            ]
          },
          "metadata": {},
          "output_type": "display_data"
        }
      ],
      "source": [
        "sns.set(style=\"darkgrid\")\n",
        "dat=pd.DataFrame({'Target variables':labels*4,'Metric':acc+pre+rec+f,'Type':[\"Accuracy\"]*4+[\"Precision\"]*4+[\"Recall\"]*4+[\"F-Score\"]*4})\n",
        "sns_plot = sns.pointplot(x=\"Target variables\", y=\"Metric\", hue=\"Type\", markers=[\"o\", \"v\", \"s\", \"x\"], data=dat)\n",
        "plt.title(\"Ensemble Method\")\n",
        "plt.savefig(\"Ensemble-mpl.png\", format='png', dpi = 300)\n",
        "# files.download(\"Ensemble-mpl.png\") \n",
        "plt.show()"
      ]
    },
    {
      "cell_type": "code",
      "execution_count": 100,
      "metadata": {
        "colab": {},
        "colab_type": "code",
        "id": "21NKmarIxudJ"
      },
      "outputs": [],
      "source": [
        "## MULTILABEL\n",
        "accuracy_ml = []\n",
        "models_used = [\"Naive Bayes\", \"SVM\", \"Logistic Regression\", \"KNN\",  \"Decision Tree\"]"
      ]
    },
    {
      "cell_type": "code",
      "execution_count": 101,
      "metadata": {
        "colab": {
          "base_uri": "https://localhost:8080/",
          "height": 238
        },
        "colab_type": "code",
        "id": "_-3E-erQptfS",
        "outputId": "50ad7a29-fa1c-4b3a-8bf8-04662ab533f1"
      },
      "outputs": [
        {
          "name": "stdout",
          "output_type": "stream",
          "text": [
            "Testing accuracy : 0.5197368421052632\n",
            "              precision    recall  f1-score   support\n",
            "\n",
            "           0       0.21      0.14      0.17        21\n",
            "           1       0.50      0.15      0.23        33\n",
            "           2       0.70      0.37      0.48        52\n",
            "           3       0.58      0.35      0.44        40\n",
            "\n",
            "   micro avg       0.55      0.28      0.37       146\n",
            "   macro avg       0.50      0.25      0.33       146\n",
            "weighted avg       0.55      0.28      0.37       146\n",
            " samples avg       0.11      0.13      0.11       146\n",
            "\n"
          ]
        }
      ],
      "source": [
        "NBClassifer = MultiOutputClassifier(MultinomialNB())\n",
        "NBClassifer.fit(df_train_feature, train_label)\n",
        "NB_y_pred = NBClassifer.predict(df_test_feature)\n",
        "print(\"Testing accuracy :\", NBClassifer.score(df_test_feature, test_label))\n",
        "accuracy_ml.append(NBClassifer.score(df_test_feature, test_label))\n",
        "print(classification_report(test_label, NB_y_pred))"
      ]
    },
    {
      "cell_type": "code",
      "execution_count": 102,
      "metadata": {
        "colab": {
          "base_uri": "https://localhost:8080/",
          "height": 238
        },
        "colab_type": "code",
        "id": "VSMYsNiGptfV",
        "outputId": "e71fc56d-1a7c-49bc-f274-e7b09930a0a5"
      },
      "outputs": [
        {
          "name": "stdout",
          "output_type": "stream",
          "text": [
            "Testing accuracy : 0.7368421052631579\n",
            "              precision    recall  f1-score   support\n",
            "\n",
            "           0       0.92      0.52      0.67        21\n",
            "           1       0.75      0.55      0.63        33\n",
            "           2       0.81      0.73      0.77        52\n",
            "           3       0.82      0.70      0.76        40\n",
            "\n",
            "   micro avg       0.81      0.65      0.72       146\n",
            "   macro avg       0.82      0.63      0.71       146\n",
            "weighted avg       0.81      0.65      0.72       146\n",
            " samples avg       0.33      0.32      0.32       146\n",
            "\n"
          ]
        }
      ],
      "source": [
        "SVClassifer = MultiOutputClassifier(SVC(C = 2000, kernel = 'rbf'))\n",
        "SVClassifer.fit(df_train_feature, train_label)\n",
        "SVC_y_pred = SVClassifer.predict(df_test_feature)\n",
        "print(\"Testing accuracy :\", SVClassifer.score(df_test_feature, test_label))\n",
        "accuracy_ml.append(SVClassifer.score(df_test_feature, test_label))\n",
        "print(classification_report(test_label, SVC_y_pred))"
      ]
    },
    {
      "cell_type": "code",
      "execution_count": 103,
      "metadata": {
        "colab": {
          "base_uri": "https://localhost:8080/",
          "height": 238
        },
        "colab_type": "code",
        "id": "jQtbV0dTzfhX",
        "outputId": "c16d48ab-1900-4714-e51b-058e4a07a274"
      },
      "outputs": [
        {
          "name": "stdout",
          "output_type": "stream",
          "text": [
            "Testing accuracy : 0.5131578947368421\n",
            "              precision    recall  f1-score   support\n",
            "\n",
            "           0       0.67      0.10      0.17        21\n",
            "           1       0.83      0.15      0.26        33\n",
            "           2       0.72      0.44      0.55        52\n",
            "           3       0.65      0.33      0.43        40\n",
            "\n",
            "   micro avg       0.70      0.29      0.42       146\n",
            "   macro avg       0.72      0.25      0.35       146\n",
            "weighted avg       0.72      0.29      0.40       146\n",
            " samples avg       0.17      0.13      0.14       146\n",
            "\n"
          ]
        }
      ],
      "source": [
        "LogClassifier = MultiOutputClassifier(LogisticRegression(C=1, solver='newton-cg'))\n",
        "LogClassifier.fit(df_train_feature, train_label)\n",
        "Log_y_pred = LogClassifier.predict(df_test_feature)\n",
        "print(\"Testing accuracy :\", LogClassifier.score(df_test_feature, test_label))\n",
        "accuracy_ml.append(LogClassifier.score(df_test_feature, test_label))\n",
        "print(classification_report(test_label, Log_y_pred))"
      ]
    },
    {
      "cell_type": "code",
      "execution_count": 104,
      "metadata": {
        "colab": {
          "base_uri": "https://localhost:8080/",
          "height": 238
        },
        "colab_type": "code",
        "id": "rqkjz_S9x3vw",
        "outputId": "eef3b41e-c0a3-49b5-ab79-e7953d19e037"
      },
      "outputs": [
        {
          "name": "stdout",
          "output_type": "stream",
          "text": [
            "Testing accuracy : 0.875\n",
            "              precision    recall  f1-score   support\n",
            "\n",
            "           0       0.88      1.00      0.93        21\n",
            "           1       0.77      1.00      0.87        33\n",
            "           2       0.81      1.00      0.90        52\n",
            "           3       0.80      1.00      0.89        40\n",
            "\n",
            "   micro avg       0.81      1.00      0.89       146\n",
            "   macro avg       0.81      1.00      0.90       146\n",
            "weighted avg       0.81      1.00      0.89       146\n",
            " samples avg       0.49      0.49      0.49       146\n",
            "\n"
          ]
        }
      ],
      "source": [
        "KNNClassifier = MultiOutputClassifier(KNeighborsClassifier(weights='distance'))\n",
        "KNNClassifier.fit(df_train_feature, train_label)\n",
        "KNN_y_pred = KNNClassifier.predict(df_test_feature)\n",
        "print(\"Testing accuracy :\", KNNClassifier.score(df_test_feature, test_label))\n",
        "accuracy_ml.append(KNNClassifier.score(df_test_feature, test_label))\n",
        "print(classification_report(test_label, KNN_y_pred))"
      ]
    },
    {
      "cell_type": "code",
      "execution_count": 105,
      "metadata": {
        "colab": {
          "base_uri": "https://localhost:8080/",
          "height": 238
        },
        "colab_type": "code",
        "id": "OkxwuLgYptfY",
        "outputId": "d9ae8fe2-2fe2-4acc-f858-14678e7935e5"
      },
      "outputs": [
        {
          "name": "stdout",
          "output_type": "stream",
          "text": [
            "Testing accuracy : 0.9078947368421053\n",
            "              precision    recall  f1-score   support\n",
            "\n",
            "           0       0.88      1.00      0.93        21\n",
            "           1       0.97      1.00      0.99        33\n",
            "           2       0.93      1.00      0.96        52\n",
            "           3       0.85      1.00      0.92        40\n",
            "\n",
            "   micro avg       0.91      1.00      0.95       146\n",
            "   macro avg       0.91      1.00      0.95       146\n",
            "weighted avg       0.91      1.00      0.95       146\n",
            " samples avg       0.49      0.49      0.49       146\n",
            "\n"
          ]
        }
      ],
      "source": [
        "DTClassifier = MultiOutputClassifier(DecisionTreeClassifier(class_weight='balanced',random_state=42))\n",
        "DTClassifier.fit(df_train_feature, train_label)\n",
        "DT_pred = DTClassifier.predict(df_test_feature)\n",
        "print(\"Testing accuracy :\", DTClassifier.score(df_test_feature, test_label))\n",
        "accuracy_ml.append(DTClassifier.score(df_test_feature, test_label))\n",
        "print(classification_report(test_label, DT_pred))"
      ]
    },
    {
      "cell_type": "code",
      "execution_count": 106,
      "metadata": {
        "colab": {
          "base_uri": "https://localhost:8080/",
          "height": 293
        },
        "colab_type": "code",
        "id": "j99lfGZ9yhwr",
        "outputId": "44ca2f88-411f-4872-8c1f-da68daadab81"
      },
      "outputs": [
        {
          "data": {
            "image/png": "[encoded data removed]",
            "text/plain": [
              "<Figure size 432x288 with 1 Axes>"
            ]
          },
          "metadata": {},
          "output_type": "display_data"
        }
      ],
      "source": [
        "plt.plot(models_used, accuracy_ml, color = 'lightcoral',marker='o',label = 'Accuracy')\n",
        "\n",
        "plt.xlabel(\"Models\")\n",
        "plt.ylabel(\"Score\")\n",
        "plt.title(\"Multi-label Classification\")\n",
        "\n",
        "plt.legend()\n",
        "plt.grid()\n",
        "plt.tight_layout()\n",
        "\n",
        "plt.show()\n"
      ]
    },
    {
      "cell_type": "code",
      "execution_count": 107,
      "metadata": {
        "colab": {
          "base_uri": "https://localhost:8080/",
          "height": 294
        },
        "colab_type": "code",
        "id": "bkpmFDme2BsG",
        "outputId": "396f38ff-1db7-48a4-ce51-52048194b420"
      },
      "outputs": [
        {
          "data": {
            "image/png": "[encoded data removed]",
            "text/plain": [
              "<Figure size 432x288 with 1 Axes>"
            ]
          },
          "metadata": {},
          "output_type": "display_data"
        }
      ],
      "source": [
        "sns.set(style=\"darkgrid\")\n",
        "dat=pd.DataFrame({'Models':models_used,'Metric':accuracy_ml,'Type':[\"Accuracy\"]*5})\n",
        "sns.pointplot(x=\"Models\", y=\"Metric\", hue=\"Type\", markers=[\"o\"], data=dat)\n",
        "plt.title(\"Multi-label Classification\")\n",
        "plt.gcf().subplots_adjust(bottom=0.15)\n",
        "plt.savefig(\"multi-mpl.png\", format='png', dpi = 300, bbox_inches = \"tight\")\n",
        "# files.download(\"multi-mpl.png\") \n",
        "\n",
        "plt.show()"
      ]
    },
    {
      "cell_type": "code",
      "execution_count": 108,
      "metadata": {
        "colab": {
          "base_uri": "https://localhost:8080/",
          "height": 102
        },
        "colab_type": "code",
        "id": "28oczIDA78RG",
        "outputId": "6779c45a-21ea-4480-8f50-c153c6a30eb1"
      },
      "outputs": [
        {
          "data": {
            "text/plain": [
              "[0.5197368421052632,\n",
              " 0.7368421052631579,\n",
              " 0.5131578947368421,\n",
              " 0.875,\n",
              " 0.9078947368421053]"
            ]
          },
          "execution_count": 108,
          "metadata": {},
          "output_type": "execute_result"
        }
      ],
      "source": [
        "accuracy_ml"
      ]
    },
    {
      "cell_type": "code",
      "execution_count": 109,
      "metadata": {},
      "outputs": [],
      "source": [
        "# clf.fit(X_train, y_train[:,0])\n",
        "# label_0= plot_roc_curve(clf, X_test, y_test[:,0], name= 'label 0',)  \n",
        "# plt.show() "
      ]
    },
    {
      "cell_type": "code",
      "execution_count": 119,
      "metadata": {},
      "outputs": [
        {
          "data": {
            "text/plain": [
              "152"
            ]
          },
          "execution_count": 119,
          "metadata": {},
          "output_type": "execute_result"
        }
      ],
      "source": [
        "df_test_feature[:,0].reshape(1, -1).size"
      ]
    },
    {
      "cell_type": "code",
      "execution_count": 117,
      "metadata": {},
      "outputs": [
        {
          "data": {
            "text/plain": [
              "152"
            ]
          },
          "execution_count": 117,
          "metadata": {},
          "output_type": "execute_result"
        }
      ],
      "source": [
        "test_label[:,0].size"
      ]
    },
    {
      "cell_type": "code",
      "execution_count": 121,
      "metadata": {},
      "outputs": [],
      "source": [
        "# # plot_roc_curve(clf, X_test, y_test) \n",
        "# label_0 = plot_roc_curve(NBClassifer, df_test_feature[:,0], test_label[:,0], name = 'label 0')\n",
        "# plt.show()   "
      ]
    },
    {
      "cell_type": "code",
      "execution_count": null,
      "metadata": {},
      "outputs": [],
      "source": [
        "# Reshape your data either using array.reshape(-1, 1) \n",
        "# if your data has a single feature or array.reshape(1, -1) if it contains a single sample.\n",
        "# \n",
        "# fpr, tpr, thresholds = roc_curve(df_test_feature, NB_y_pred, pos_label=1)\n",
        "# # roc_auc_score\n",
        "# # \n",
        "# test_auc = auc(fpr, tpr)"
      ]
    },
    {
      "cell_type": "code",
      "execution_count": null,
      "metadata": {
        "colab": {
          "base_uri": "https://localhost:8080/",
          "height": 289
        },
        "colab_type": "code",
        "id": "aSoI6hd8ptfb",
        "outputId": "b12f982c-4d48-40fe-8feb-96d9a6a6ec00"
      },
      "outputs": [],
      "source": [
        "# from tensorflow.python.keras.layers import Dense\n",
        "# from tensorflow.python.keras import Sequential\n",
        "# from tensorflow.python.keras.layers import Dropout\n",
        "\n",
        "# ann_acc = []\n",
        "# ann_loss = []\n",
        "\n",
        "# for i in range(4):\n",
        "#   model = Sequential() \n",
        "\n",
        "#   #Input layer\n",
        "#   model.add(Dense(units=500, input_dim=40, kernel_initializer='uniform', activation='relu'))\n",
        "#   model.add(Dropout(0.5))\n",
        "\n",
        "#   #Hidden layer 1\n",
        "#   model.add(Dense(units=500, kernel_initializer='uniform', activation='relu'))\n",
        "#   model.add(Dropout(0.5))\n",
        "\n",
        "#   #Hidden layer 2\n",
        "#   model.add(Dense(units=500, kernel_initializer='uniform', activation='relu'))\n",
        "#   model.add(Dropout(0.5))\n",
        "\n",
        "#   #Hidden layer 3\n",
        "#   model.add(Dense(units=500, kernel_initializer='uniform', activation='relu'))\n",
        "#   model.add(Dropout(0.5))\n",
        "\n",
        "#   #Output layer\n",
        "#   model.add(Dense(units=1, kernel_initializer='uniform', activation='sigmoid'))\n",
        "#   model.compile(loss='binary_crossentropy', optimizer='adam', metrics=['accuracy'])\n",
        "\n",
        "#   train_history = model.fit(x=df_train_feature, y=train_label[:,i], validation_split=0.2, epochs=60, batch_size=200, verbose=0) \n",
        "\n",
        "#   ans = model.evaluate(df_test_feature, test_label[:,i])\n",
        "#   ann_acc.append(ans[1])\n",
        "#   ann_loss.append(ans[0])\n",
        "#   print(labels[i])\n",
        "#   print(\"A :\", ann_acc[-1])\n",
        "#   print(\"L :\", ann_loss[-1])"
      ]
    },
    {
      "cell_type": "code",
      "execution_count": null,
      "metadata": {
        "colab": {
          "base_uri": "https://localhost:8080/",
          "height": 651
        },
        "colab_type": "code",
        "id": "CYbBMpev0h8B",
        "outputId": "b006000b-d8c8-4568-f167-3aec1ec32d94"
      },
      "outputs": [],
      "source": [
        "# plt.plot(labels, ann_acc, color = 'mediumseagreen',marker='o',label = 'Accuracy')\n",
        "# plt.plot(labels, ann_loss, color = 'lightcoral',marker='s',label = 'Loss')\n",
        "\n",
        "# plt.xlabel(\"Target Variables\")\n",
        "# plt.ylabel(\"Score\")\n",
        "# plt.title(\"Metrics of Neural Network\")\n",
        "\n",
        "# plt.legend()\n",
        "# plt.grid()\n",
        "# plt.tight_layout()\n",
        "\n",
        "# plt.savefig(\"ann-mpl.svg\", format='svg', dpi = 300)\n",
        "# files.download(\"ann-mpl.svg\") \n",
        "\n",
        "# plt.show()"
      ]
    },
    {
      "cell_type": "code",
      "execution_count": null,
      "metadata": {
        "colab": {},
        "colab_type": "code",
        "id": "qsRMfj2l2_Mw"
      },
      "outputs": [],
      "source": [
        "# sns.set(style=\"darkgrid\")\n",
        "# dat=pd.DataFrame({'Target variables':labels*2,'Metric':ann_acc+ann_loss,'Type':[\"Accuracy\"]*4+[\"Loss\"]*4})\n",
        "# sns.pointplot(x=\"Target variables\", y=\"Metric\", hue=\"Type\", markers=[\"o\", \"v\"], data=dat)\n",
        "# plt.title(\"Neural Network\")\n",
        "\n",
        "\n",
        "# plt.savefig(\"ann-mpl.png\", format='png', dpi = 300)\n",
        "# files.download(\"ann-mpl.png\") \n",
        "\n",
        "# plt.show()"
      ]
    }
  ],
  "metadata": {
    "colab": {
      "collapsed_sections": [],
      "name": "Cervical Cancer Prediction.ipynb",
      "provenance": []
    },
    "interpreter": {
      "hash": "6cb5828080a4829b8fcefce72ede50ef70300b5619e1d5594a0cb90433117203"
    },
    "kernelspec": {
      "display_name": "Python 3.8.3 64-bit ('base': conda)",
      "name": "python3"
    },
    "language_info": {
      "codemirror_mode": {
        "name": "ipython",
        "version": 3
      },
      "file_extension": ".py",
      "mimetype": "text/x-python",
      "name": "python",
      "nbconvert_exporter": "python",
      "pygments_lexer": "ipython3",
      "version": "3.8.3"
    }
  },
  "nbformat": 4,
  "nbformat_minor": 0
}
