{
  "cells": [
    {
      "cell_type": "code",
      "execution_count": 273,
      "metadata": {
        "id": "VaCu5Kk7RI-d"
      },
      "outputs": [],
      "source": [
        "# !pip install skrebate"
      ]
    },
    {
      "cell_type": "code",
      "execution_count": 274,
      "metadata": {
        "id": "7oyIu5bDptdI"
      },
      "outputs": [],
      "source": [
        "import itertools\n",
        "import numpy as np\n",
        "import pandas as pd\n",
        "import matplotlib.pyplot as plt \n",
        "import seaborn as sns\n",
        "from collections import Counter\n",
        "# from google.colab import files\n",
        "# \n",
        "from sklearn.model_selection import train_test_split, cross_val_score, GridSearchCV\n",
        "# from sklearn.linear_model import LogisticRegression\n",
        "from sklearn.svm import SVC\n",
        "from sklearn.metrics import classification_report, confusion_matrix, accuracy_score, f1_score, precision_score, recall_score, roc_curve, auc, roc_auc_score, plot_roc_curve\n",
        "from sklearn.utils import resample\n",
        "from sklearn.preprocessing import MinMaxScaler, StandardScaler, LabelEncoder\n",
        "from sklearn.feature_selection import mutual_info_classif, chi2, SelectKBest, SelectFromModel, RFE\n",
        "from sklearn.ensemble import BaggingClassifier, AdaBoostClassifier\n",
        "from skrebate import ReliefF\n"
      ]
    },
    {
      "cell_type": "code",
      "execution_count": 275,
      "metadata": {
        "id": "IYjo_Lekkndq"
      },
      "outputs": [],
      "source": [
        "def warn(*args, **kwargs):\n",
        "    pass\n",
        "import warnings\n",
        "warnings.warn = warn"
      ]
    },
    {
      "cell_type": "code",
      "execution_count": 276,
      "metadata": {
        "id": "CXO3U0fUptdP"
      },
      "outputs": [],
      "source": [
        "file_path = 'ccv/risk_factors_cervical_cancer.csv'\n",
        "# file_path = 'https://archive.ics.uci.edu/ml/machine-learning-databases/00383/risk_factors_cervical_cancer.csv'\n",
        "# \n",
        "# ['Hinselmann', 'Citology','Schiller','Biopsy']\n",
        "df = pd.read_csv(file_path).drop(['Biopsy','Schiller','Citology'], axis = 1) # Hinselmannn\n",
        "# \n",
        "# df = pd.read_csv(file_path).drop(['Biopsy','Citology','Hinselmannn'], axis = 1) # Schiller\n",
        "# \n",
        "# df = pd.read_csv(file_path).drop(['Biopsy','Schiller','Hinselmannn'], axis = 1) # Citology\n",
        "# \n",
        "# df = pd.read_csv(file_path).drop(['Citology','Schiller','Hinselmannn'], axis = 1) # Biopsy\n",
        "# "
      ]
    },
    {
      "cell_type": "code",
      "execution_count": 277,
      "metadata": {
        "colab": {
          "base_uri": "https://localhost:8080/",
          "height": 297
        },
        "id": "XWt9QOVkptdh",
        "outputId": "62d03917-79e6-4665-fe01-4150c3e4b74c"
      },
      "outputs": [
        {
          "data": {
            "text/html": [
              "<div>\n",
              "<style scoped>\n",
              "    .dataframe tbody tr th:only-of-type {\n",
              "        vertical-align: middle;\n",
              "    }\n",
              "\n",
              "    .dataframe tbody tr th {\n",
              "        vertical-align: top;\n",
              "    }\n",
              "\n",
              "    .dataframe thead th {\n",
              "        text-align: right;\n",
              "    }\n",
              "</style>\n",
              "<table border=\"1\" class=\"dataframe\">\n",
              "  <thead>\n",
              "    <tr style=\"text-align: right;\">\n",
              "      <th></th>\n",
              "      <th>Age</th>\n",
              "      <th>STDs: Number of diagnosis</th>\n",
              "      <th>Dx:Cancer</th>\n",
              "      <th>Dx:CIN</th>\n",
              "      <th>Dx:HPV</th>\n",
              "      <th>Dx</th>\n",
              "      <th>Hinselmann</th>\n",
              "    </tr>\n",
              "  </thead>\n",
              "  <tbody>\n",
              "    <tr>\n",
              "      <th>count</th>\n",
              "      <td>858.000000</td>\n",
              "      <td>858.000000</td>\n",
              "      <td>858.000000</td>\n",
              "      <td>858.000000</td>\n",
              "      <td>858.000000</td>\n",
              "      <td>858.000000</td>\n",
              "      <td>858.000000</td>\n",
              "    </tr>\n",
              "    <tr>\n",
              "      <th>mean</th>\n",
              "      <td>26.820513</td>\n",
              "      <td>0.087413</td>\n",
              "      <td>0.020979</td>\n",
              "      <td>0.010490</td>\n",
              "      <td>0.020979</td>\n",
              "      <td>0.027972</td>\n",
              "      <td>0.040793</td>\n",
              "    </tr>\n",
              "    <tr>\n",
              "      <th>std</th>\n",
              "      <td>8.497948</td>\n",
              "      <td>0.302545</td>\n",
              "      <td>0.143398</td>\n",
              "      <td>0.101939</td>\n",
              "      <td>0.143398</td>\n",
              "      <td>0.164989</td>\n",
              "      <td>0.197925</td>\n",
              "    </tr>\n",
              "    <tr>\n",
              "      <th>min</th>\n",
              "      <td>13.000000</td>\n",
              "      <td>0.000000</td>\n",
              "      <td>0.000000</td>\n",
              "      <td>0.000000</td>\n",
              "      <td>0.000000</td>\n",
              "      <td>0.000000</td>\n",
              "      <td>0.000000</td>\n",
              "    </tr>\n",
              "    <tr>\n",
              "      <th>25%</th>\n",
              "      <td>20.000000</td>\n",
              "      <td>0.000000</td>\n",
              "      <td>0.000000</td>\n",
              "      <td>0.000000</td>\n",
              "      <td>0.000000</td>\n",
              "      <td>0.000000</td>\n",
              "      <td>0.000000</td>\n",
              "    </tr>\n",
              "    <tr>\n",
              "      <th>50%</th>\n",
              "      <td>25.000000</td>\n",
              "      <td>0.000000</td>\n",
              "      <td>0.000000</td>\n",
              "      <td>0.000000</td>\n",
              "      <td>0.000000</td>\n",
              "      <td>0.000000</td>\n",
              "      <td>0.000000</td>\n",
              "    </tr>\n",
              "    <tr>\n",
              "      <th>75%</th>\n",
              "      <td>32.000000</td>\n",
              "      <td>0.000000</td>\n",
              "      <td>0.000000</td>\n",
              "      <td>0.000000</td>\n",
              "      <td>0.000000</td>\n",
              "      <td>0.000000</td>\n",
              "      <td>0.000000</td>\n",
              "    </tr>\n",
              "    <tr>\n",
              "      <th>max</th>\n",
              "      <td>84.000000</td>\n",
              "      <td>3.000000</td>\n",
              "      <td>1.000000</td>\n",
              "      <td>1.000000</td>\n",
              "      <td>1.000000</td>\n",
              "      <td>1.000000</td>\n",
              "      <td>1.000000</td>\n",
              "    </tr>\n",
              "  </tbody>\n",
              "</table>\n",
              "</div>"
            ],
            "text/plain": [
              "              Age  STDs: Number of diagnosis   Dx:Cancer      Dx:CIN  \\\n",
              "count  858.000000                 858.000000  858.000000  858.000000   \n",
              "mean    26.820513                   0.087413    0.020979    0.010490   \n",
              "std      8.497948                   0.302545    0.143398    0.101939   \n",
              "min     13.000000                   0.000000    0.000000    0.000000   \n",
              "25%     20.000000                   0.000000    0.000000    0.000000   \n",
              "50%     25.000000                   0.000000    0.000000    0.000000   \n",
              "75%     32.000000                   0.000000    0.000000    0.000000   \n",
              "max     84.000000                   3.000000    1.000000    1.000000   \n",
              "\n",
              "           Dx:HPV          Dx  Hinselmann  \n",
              "count  858.000000  858.000000  858.000000  \n",
              "mean     0.020979    0.027972    0.040793  \n",
              "std      0.143398    0.164989    0.197925  \n",
              "min      0.000000    0.000000    0.000000  \n",
              "25%      0.000000    0.000000    0.000000  \n",
              "50%      0.000000    0.000000    0.000000  \n",
              "75%      0.000000    0.000000    0.000000  \n",
              "max      1.000000    1.000000    1.000000  "
            ]
          },
          "execution_count": 277,
          "metadata": {},
          "output_type": "execute_result"
        }
      ],
      "source": [
        "df.describe()"
      ]
    },
    {
      "cell_type": "code",
      "execution_count": 278,
      "metadata": {
        "id": "OsKBAZwtptdo"
      },
      "outputs": [],
      "source": [
        "df = df.replace('?', np.nan)"
      ]
    },
    {
      "cell_type": "code",
      "execution_count": 279,
      "metadata": {
        "colab": {
          "base_uri": "https://localhost:8080/"
        },
        "id": "5YhofgiXptdt",
        "outputId": "08bb89f1-0fee-4872-b85b-75bf09b1359a"
      },
      "outputs": [
        {
          "data": {
            "text/plain": [
              "Age                                     0\n",
              "Number of sexual partners              26\n",
              "First sexual intercourse                7\n",
              "Num of pregnancies                     56\n",
              "Smokes                                 13\n",
              "Smokes (years)                         13\n",
              "Smokes (packs/year)                    13\n",
              "Hormonal Contraceptives               108\n",
              "Hormonal Contraceptives (years)       108\n",
              "IUD                                   117\n",
              "IUD (years)                           117\n",
              "STDs                                  105\n",
              "STDs (number)                         105\n",
              "STDs:condylomatosis                   105\n",
              "STDs:cervical condylomatosis          105\n",
              "STDs:vaginal condylomatosis           105\n",
              "STDs:vulvo-perineal condylomatosis    105\n",
              "STDs:syphilis                         105\n",
              "STDs:pelvic inflammatory disease      105\n",
              "STDs:genital herpes                   105\n",
              "STDs:molluscum contagiosum            105\n",
              "STDs:AIDS                             105\n",
              "STDs:HIV                              105\n",
              "STDs:Hepatitis B                      105\n",
              "STDs:HPV                              105\n",
              "STDs: Number of diagnosis               0\n",
              "STDs: Time since first diagnosis      787\n",
              "STDs: Time since last diagnosis       787\n",
              "Dx:Cancer                               0\n",
              "Dx:CIN                                  0\n",
              "Dx:HPV                                  0\n",
              "Dx                                      0\n",
              "Hinselmann                              0\n",
              "dtype: int64"
            ]
          },
          "execution_count": 279,
          "metadata": {},
          "output_type": "execute_result"
        }
      ],
      "source": [
        "df.isna().sum()"
      ]
    },
    {
      "cell_type": "code",
      "execution_count": 280,
      "metadata": {
        "colab": {
          "base_uri": "https://localhost:8080/"
        },
        "id": "zVb8vm_rptdx",
        "outputId": "9f028476-9ef1-41de-e68f-55e8f4911fbb"
      },
      "outputs": [
        {
          "data": {
            "text/plain": [
              "Age                                    int64\n",
              "Number of sexual partners             object\n",
              "First sexual intercourse              object\n",
              "Num of pregnancies                    object\n",
              "Smokes                                object\n",
              "Smokes (years)                        object\n",
              "Smokes (packs/year)                   object\n",
              "Hormonal Contraceptives               object\n",
              "Hormonal Contraceptives (years)       object\n",
              "IUD                                   object\n",
              "IUD (years)                           object\n",
              "STDs                                  object\n",
              "STDs (number)                         object\n",
              "STDs:condylomatosis                   object\n",
              "STDs:cervical condylomatosis          object\n",
              "STDs:vaginal condylomatosis           object\n",
              "STDs:vulvo-perineal condylomatosis    object\n",
              "STDs:syphilis                         object\n",
              "STDs:pelvic inflammatory disease      object\n",
              "STDs:genital herpes                   object\n",
              "STDs:molluscum contagiosum            object\n",
              "STDs:AIDS                             object\n",
              "STDs:HIV                              object\n",
              "STDs:Hepatitis B                      object\n",
              "STDs:HPV                              object\n",
              "STDs: Number of diagnosis              int64\n",
              "STDs: Time since first diagnosis      object\n",
              "STDs: Time since last diagnosis       object\n",
              "Dx:Cancer                              int64\n",
              "Dx:CIN                                 int64\n",
              "Dx:HPV                                 int64\n",
              "Dx                                     int64\n",
              "Hinselmann                             int64\n",
              "dtype: object"
            ]
          },
          "execution_count": 280,
          "metadata": {},
          "output_type": "execute_result"
        }
      ],
      "source": [
        "df.dtypes"
      ]
    },
    {
      "cell_type": "code",
      "execution_count": 281,
      "metadata": {
        "colab": {
          "base_uri": "https://localhost:8080/"
        },
        "id": "w0TneOABptd_",
        "outputId": "187ea08b-9d1b-4cd4-da8b-8cb7fe928aba"
      },
      "outputs": [
        {
          "data": {
            "text/plain": [
              "Age                                   float64\n",
              "Number of sexual partners             float64\n",
              "First sexual intercourse              float64\n",
              "Num of pregnancies                    float64\n",
              "Smokes                                float64\n",
              "Smokes (years)                        float64\n",
              "Smokes (packs/year)                   float64\n",
              "Hormonal Contraceptives               float64\n",
              "Hormonal Contraceptives (years)       float64\n",
              "IUD                                   float64\n",
              "IUD (years)                           float64\n",
              "STDs                                  float64\n",
              "STDs (number)                         float64\n",
              "STDs:condylomatosis                   float64\n",
              "STDs:cervical condylomatosis          float64\n",
              "STDs:vaginal condylomatosis           float64\n",
              "STDs:vulvo-perineal condylomatosis    float64\n",
              "STDs:syphilis                         float64\n",
              "STDs:pelvic inflammatory disease      float64\n",
              "STDs:genital herpes                   float64\n",
              "STDs:molluscum contagiosum            float64\n",
              "STDs:AIDS                             float64\n",
              "STDs:HIV                              float64\n",
              "STDs:Hepatitis B                      float64\n",
              "STDs:HPV                              float64\n",
              "STDs: Number of diagnosis             float64\n",
              "STDs: Time since first diagnosis      float64\n",
              "STDs: Time since last diagnosis       float64\n",
              "Dx:Cancer                             float64\n",
              "Dx:CIN                                float64\n",
              "Dx:HPV                                float64\n",
              "Dx                                    float64\n",
              "Hinselmann                            float64\n",
              "dtype: object"
            ]
          },
          "execution_count": 281,
          "metadata": {},
          "output_type": "execute_result"
        }
      ],
      "source": [
        "df = df.astype('float64')\n",
        "df.dtypes"
      ]
    },
    {
      "cell_type": "code",
      "execution_count": 282,
      "metadata": {
        "id": "VDEn0HHRptec"
      },
      "outputs": [],
      "source": [
        "# \n",
        "df['Number of sexual partners'] = df['Number of sexual partners'].fillna(df['Number of sexual partners'].median())\n",
        "df['First sexual intercourse'] = df['First sexual intercourse'].fillna(df['First sexual intercourse'].median())\n",
        "df['Num of pregnancies'] = df['Num of pregnancies'].fillna(df['Num of pregnancies'].median())\n",
        "df['Smokes'] = df['Smokes'].fillna(df['Smokes'].median())\n",
        "df['Smokes (years)'] = df['Smokes (years)'].fillna(df['Smokes (years)'].median())\n",
        "df['Smokes (packs/year)'] = df['Smokes (packs/year)'].fillna(df['Smokes (packs/year)'].median())\n",
        "df['Hormonal Contraceptives (years)'] = df['Hormonal Contraceptives (years)'].fillna(df['Hormonal Contraceptives (years)'].median())\n",
        "df['IUD'] = df['IUD'].fillna(df['IUD'].median())\n",
        "df['IUD (years)'] = df['IUD (years)'].fillna(df['IUD (years)'].median())\n",
        "df['STDs'] = df['STDs'].fillna(df['STDs'].median())\n",
        "df['STDs (number)'] = df['STDs (number)'].fillna(df['STDs (number)'].median())\n",
        "df['STDs:condylomatosis'] = df['STDs:condylomatosis'].fillna(df['STDs:condylomatosis'].median())\n",
        "df['STDs:cervical condylomatosis'] = df['STDs:cervical condylomatosis'].fillna(df['STDs:cervical condylomatosis'].median())\n",
        "df['STDs:vaginal condylomatosis'] = df['STDs:vaginal condylomatosis'].fillna(df['STDs:vaginal condylomatosis'].median())\n",
        "df['STDs:vulvo-perineal condylomatosis'] = df['STDs:vulvo-perineal condylomatosis'].fillna(df['STDs:vulvo-perineal condylomatosis'].median())\n",
        "df['STDs:syphilis'] = df['STDs:syphilis'].fillna(df['STDs:syphilis'].median())\n",
        "df['STDs:pelvic inflammatory disease'] = df['STDs:pelvic inflammatory disease'].fillna(df['STDs:pelvic inflammatory disease'].median())\n",
        "df['STDs:genital herpes'] = df['STDs:genital herpes'].fillna(df['STDs:genital herpes'].median())\n",
        "df['STDs:molluscum contagiosum'] = df['STDs:molluscum contagiosum'].fillna(df['STDs:molluscum contagiosum'].median())\n",
        "df['STDs:AIDS'] = df['STDs:AIDS'].fillna(df['STDs:AIDS'].median())\n",
        "df['STDs:HIV'] = df['STDs:HIV'].fillna(df['STDs:HIV'].median())\n",
        "df['STDs:Hepatitis B'] = df['STDs:Hepatitis B'].fillna(df['STDs:Hepatitis B'].median())\n",
        "df['STDs:HPV'] = df['STDs:HPV'].fillna(df['STDs:HPV'].median())\n",
        "df['STDs: Time since first diagnosis'] = df['STDs: Time since first diagnosis'].fillna(df['STDs: Time since first diagnosis'].median())\n",
        "df['STDs: Time since last diagnosis'] = df['STDs: Time since last diagnosis'].fillna(df['STDs: Time since last diagnosis'].median())\n",
        "\n"
      ]
    },
    {
      "cell_type": "code",
      "execution_count": 283,
      "metadata": {
        "colab": {
          "base_uri": "https://localhost:8080/",
          "height": 507
        },
        "id": "_zm4SGhzpteh",
        "outputId": "b7321730-2229-4cc2-e4b7-3759634c1283"
      },
      "outputs": [
        {
          "data": {
            "text/html": [
              "<div>\n",
              "<style scoped>\n",
              "    .dataframe tbody tr th:only-of-type {\n",
              "        vertical-align: middle;\n",
              "    }\n",
              "\n",
              "    .dataframe tbody tr th {\n",
              "        vertical-align: top;\n",
              "    }\n",
              "\n",
              "    .dataframe thead th {\n",
              "        text-align: right;\n",
              "    }\n",
              "</style>\n",
              "<table border=\"1\" class=\"dataframe\">\n",
              "  <thead>\n",
              "    <tr style=\"text-align: right;\">\n",
              "      <th></th>\n",
              "      <th>Age</th>\n",
              "      <th>Number of sexual partners</th>\n",
              "      <th>First sexual intercourse</th>\n",
              "      <th>Num of pregnancies</th>\n",
              "      <th>Smokes</th>\n",
              "      <th>Smokes (years)</th>\n",
              "      <th>Smokes (packs/year)</th>\n",
              "      <th>Hormonal Contraceptives</th>\n",
              "      <th>Hormonal Contraceptives (years)</th>\n",
              "      <th>IUD</th>\n",
              "      <th>...</th>\n",
              "      <th>STDs:Hepatitis B</th>\n",
              "      <th>STDs:HPV</th>\n",
              "      <th>STDs: Number of diagnosis</th>\n",
              "      <th>STDs: Time since first diagnosis</th>\n",
              "      <th>STDs: Time since last diagnosis</th>\n",
              "      <th>Dx:Cancer</th>\n",
              "      <th>Dx:CIN</th>\n",
              "      <th>Dx:HPV</th>\n",
              "      <th>Dx</th>\n",
              "      <th>Hinselmann</th>\n",
              "    </tr>\n",
              "  </thead>\n",
              "  <tbody>\n",
              "    <tr>\n",
              "      <th>0</th>\n",
              "      <td>18.0</td>\n",
              "      <td>4.0</td>\n",
              "      <td>15.0</td>\n",
              "      <td>1.0</td>\n",
              "      <td>0.0</td>\n",
              "      <td>0.0</td>\n",
              "      <td>0.0</td>\n",
              "      <td>0.0</td>\n",
              "      <td>0.00</td>\n",
              "      <td>0.0</td>\n",
              "      <td>...</td>\n",
              "      <td>0.0</td>\n",
              "      <td>0.0</td>\n",
              "      <td>0.0</td>\n",
              "      <td>4.0</td>\n",
              "      <td>3.0</td>\n",
              "      <td>0.0</td>\n",
              "      <td>0.0</td>\n",
              "      <td>0.0</td>\n",
              "      <td>0.0</td>\n",
              "      <td>0.0</td>\n",
              "    </tr>\n",
              "    <tr>\n",
              "      <th>1</th>\n",
              "      <td>15.0</td>\n",
              "      <td>1.0</td>\n",
              "      <td>14.0</td>\n",
              "      <td>1.0</td>\n",
              "      <td>0.0</td>\n",
              "      <td>0.0</td>\n",
              "      <td>0.0</td>\n",
              "      <td>0.0</td>\n",
              "      <td>0.00</td>\n",
              "      <td>0.0</td>\n",
              "      <td>...</td>\n",
              "      <td>0.0</td>\n",
              "      <td>0.0</td>\n",
              "      <td>0.0</td>\n",
              "      <td>4.0</td>\n",
              "      <td>3.0</td>\n",
              "      <td>0.0</td>\n",
              "      <td>0.0</td>\n",
              "      <td>0.0</td>\n",
              "      <td>0.0</td>\n",
              "      <td>0.0</td>\n",
              "    </tr>\n",
              "    <tr>\n",
              "      <th>2</th>\n",
              "      <td>34.0</td>\n",
              "      <td>1.0</td>\n",
              "      <td>17.0</td>\n",
              "      <td>1.0</td>\n",
              "      <td>0.0</td>\n",
              "      <td>0.0</td>\n",
              "      <td>0.0</td>\n",
              "      <td>0.0</td>\n",
              "      <td>0.00</td>\n",
              "      <td>0.0</td>\n",
              "      <td>...</td>\n",
              "      <td>0.0</td>\n",
              "      <td>0.0</td>\n",
              "      <td>0.0</td>\n",
              "      <td>4.0</td>\n",
              "      <td>3.0</td>\n",
              "      <td>0.0</td>\n",
              "      <td>0.0</td>\n",
              "      <td>0.0</td>\n",
              "      <td>0.0</td>\n",
              "      <td>0.0</td>\n",
              "    </tr>\n",
              "    <tr>\n",
              "      <th>3</th>\n",
              "      <td>52.0</td>\n",
              "      <td>5.0</td>\n",
              "      <td>16.0</td>\n",
              "      <td>4.0</td>\n",
              "      <td>1.0</td>\n",
              "      <td>37.0</td>\n",
              "      <td>37.0</td>\n",
              "      <td>1.0</td>\n",
              "      <td>3.00</td>\n",
              "      <td>0.0</td>\n",
              "      <td>...</td>\n",
              "      <td>0.0</td>\n",
              "      <td>0.0</td>\n",
              "      <td>0.0</td>\n",
              "      <td>4.0</td>\n",
              "      <td>3.0</td>\n",
              "      <td>1.0</td>\n",
              "      <td>0.0</td>\n",
              "      <td>1.0</td>\n",
              "      <td>0.0</td>\n",
              "      <td>0.0</td>\n",
              "    </tr>\n",
              "    <tr>\n",
              "      <th>4</th>\n",
              "      <td>46.0</td>\n",
              "      <td>3.0</td>\n",
              "      <td>21.0</td>\n",
              "      <td>4.0</td>\n",
              "      <td>0.0</td>\n",
              "      <td>0.0</td>\n",
              "      <td>0.0</td>\n",
              "      <td>1.0</td>\n",
              "      <td>15.00</td>\n",
              "      <td>0.0</td>\n",
              "      <td>...</td>\n",
              "      <td>0.0</td>\n",
              "      <td>0.0</td>\n",
              "      <td>0.0</td>\n",
              "      <td>4.0</td>\n",
              "      <td>3.0</td>\n",
              "      <td>0.0</td>\n",
              "      <td>0.0</td>\n",
              "      <td>0.0</td>\n",
              "      <td>0.0</td>\n",
              "      <td>0.0</td>\n",
              "    </tr>\n",
              "    <tr>\n",
              "      <th>...</th>\n",
              "      <td>...</td>\n",
              "      <td>...</td>\n",
              "      <td>...</td>\n",
              "      <td>...</td>\n",
              "      <td>...</td>\n",
              "      <td>...</td>\n",
              "      <td>...</td>\n",
              "      <td>...</td>\n",
              "      <td>...</td>\n",
              "      <td>...</td>\n",
              "      <td>...</td>\n",
              "      <td>...</td>\n",
              "      <td>...</td>\n",
              "      <td>...</td>\n",
              "      <td>...</td>\n",
              "      <td>...</td>\n",
              "      <td>...</td>\n",
              "      <td>...</td>\n",
              "      <td>...</td>\n",
              "      <td>...</td>\n",
              "      <td>...</td>\n",
              "    </tr>\n",
              "    <tr>\n",
              "      <th>853</th>\n",
              "      <td>34.0</td>\n",
              "      <td>3.0</td>\n",
              "      <td>18.0</td>\n",
              "      <td>0.0</td>\n",
              "      <td>0.0</td>\n",
              "      <td>0.0</td>\n",
              "      <td>0.0</td>\n",
              "      <td>0.0</td>\n",
              "      <td>0.00</td>\n",
              "      <td>0.0</td>\n",
              "      <td>...</td>\n",
              "      <td>0.0</td>\n",
              "      <td>0.0</td>\n",
              "      <td>0.0</td>\n",
              "      <td>4.0</td>\n",
              "      <td>3.0</td>\n",
              "      <td>0.0</td>\n",
              "      <td>0.0</td>\n",
              "      <td>0.0</td>\n",
              "      <td>0.0</td>\n",
              "      <td>0.0</td>\n",
              "    </tr>\n",
              "    <tr>\n",
              "      <th>854</th>\n",
              "      <td>32.0</td>\n",
              "      <td>2.0</td>\n",
              "      <td>19.0</td>\n",
              "      <td>1.0</td>\n",
              "      <td>0.0</td>\n",
              "      <td>0.0</td>\n",
              "      <td>0.0</td>\n",
              "      <td>1.0</td>\n",
              "      <td>8.00</td>\n",
              "      <td>0.0</td>\n",
              "      <td>...</td>\n",
              "      <td>0.0</td>\n",
              "      <td>0.0</td>\n",
              "      <td>0.0</td>\n",
              "      <td>4.0</td>\n",
              "      <td>3.0</td>\n",
              "      <td>0.0</td>\n",
              "      <td>0.0</td>\n",
              "      <td>0.0</td>\n",
              "      <td>0.0</td>\n",
              "      <td>0.0</td>\n",
              "    </tr>\n",
              "    <tr>\n",
              "      <th>855</th>\n",
              "      <td>25.0</td>\n",
              "      <td>2.0</td>\n",
              "      <td>17.0</td>\n",
              "      <td>0.0</td>\n",
              "      <td>0.0</td>\n",
              "      <td>0.0</td>\n",
              "      <td>0.0</td>\n",
              "      <td>1.0</td>\n",
              "      <td>0.08</td>\n",
              "      <td>0.0</td>\n",
              "      <td>...</td>\n",
              "      <td>0.0</td>\n",
              "      <td>0.0</td>\n",
              "      <td>0.0</td>\n",
              "      <td>4.0</td>\n",
              "      <td>3.0</td>\n",
              "      <td>0.0</td>\n",
              "      <td>0.0</td>\n",
              "      <td>0.0</td>\n",
              "      <td>0.0</td>\n",
              "      <td>0.0</td>\n",
              "    </tr>\n",
              "    <tr>\n",
              "      <th>856</th>\n",
              "      <td>33.0</td>\n",
              "      <td>2.0</td>\n",
              "      <td>24.0</td>\n",
              "      <td>2.0</td>\n",
              "      <td>0.0</td>\n",
              "      <td>0.0</td>\n",
              "      <td>0.0</td>\n",
              "      <td>1.0</td>\n",
              "      <td>0.08</td>\n",
              "      <td>0.0</td>\n",
              "      <td>...</td>\n",
              "      <td>0.0</td>\n",
              "      <td>0.0</td>\n",
              "      <td>0.0</td>\n",
              "      <td>4.0</td>\n",
              "      <td>3.0</td>\n",
              "      <td>0.0</td>\n",
              "      <td>0.0</td>\n",
              "      <td>0.0</td>\n",
              "      <td>0.0</td>\n",
              "      <td>0.0</td>\n",
              "    </tr>\n",
              "    <tr>\n",
              "      <th>857</th>\n",
              "      <td>29.0</td>\n",
              "      <td>2.0</td>\n",
              "      <td>20.0</td>\n",
              "      <td>1.0</td>\n",
              "      <td>0.0</td>\n",
              "      <td>0.0</td>\n",
              "      <td>0.0</td>\n",
              "      <td>1.0</td>\n",
              "      <td>0.50</td>\n",
              "      <td>0.0</td>\n",
              "      <td>...</td>\n",
              "      <td>0.0</td>\n",
              "      <td>0.0</td>\n",
              "      <td>0.0</td>\n",
              "      <td>4.0</td>\n",
              "      <td>3.0</td>\n",
              "      <td>0.0</td>\n",
              "      <td>0.0</td>\n",
              "      <td>0.0</td>\n",
              "      <td>0.0</td>\n",
              "      <td>0.0</td>\n",
              "    </tr>\n",
              "  </tbody>\n",
              "</table>\n",
              "<p>858 rows × 33 columns</p>\n",
              "</div>"
            ],
            "text/plain": [
              "      Age  Number of sexual partners  First sexual intercourse  \\\n",
              "0    18.0                        4.0                      15.0   \n",
              "1    15.0                        1.0                      14.0   \n",
              "2    34.0                        1.0                      17.0   \n",
              "3    52.0                        5.0                      16.0   \n",
              "4    46.0                        3.0                      21.0   \n",
              "..    ...                        ...                       ...   \n",
              "853  34.0                        3.0                      18.0   \n",
              "854  32.0                        2.0                      19.0   \n",
              "855  25.0                        2.0                      17.0   \n",
              "856  33.0                        2.0                      24.0   \n",
              "857  29.0                        2.0                      20.0   \n",
              "\n",
              "     Num of pregnancies  Smokes  Smokes (years)  Smokes (packs/year)  \\\n",
              "0                   1.0     0.0             0.0                  0.0   \n",
              "1                   1.0     0.0             0.0                  0.0   \n",
              "2                   1.0     0.0             0.0                  0.0   \n",
              "3                   4.0     1.0            37.0                 37.0   \n",
              "4                   4.0     0.0             0.0                  0.0   \n",
              "..                  ...     ...             ...                  ...   \n",
              "853                 0.0     0.0             0.0                  0.0   \n",
              "854                 1.0     0.0             0.0                  0.0   \n",
              "855                 0.0     0.0             0.0                  0.0   \n",
              "856                 2.0     0.0             0.0                  0.0   \n",
              "857                 1.0     0.0             0.0                  0.0   \n",
              "\n",
              "     Hormonal Contraceptives  Hormonal Contraceptives (years)  IUD  ...  \\\n",
              "0                        0.0                             0.00  0.0  ...   \n",
              "1                        0.0                             0.00  0.0  ...   \n",
              "2                        0.0                             0.00  0.0  ...   \n",
              "3                        1.0                             3.00  0.0  ...   \n",
              "4                        1.0                            15.00  0.0  ...   \n",
              "..                       ...                              ...  ...  ...   \n",
              "853                      0.0                             0.00  0.0  ...   \n",
              "854                      1.0                             8.00  0.0  ...   \n",
              "855                      1.0                             0.08  0.0  ...   \n",
              "856                      1.0                             0.08  0.0  ...   \n",
              "857                      1.0                             0.50  0.0  ...   \n",
              "\n",
              "     STDs:Hepatitis B  STDs:HPV  STDs: Number of diagnosis  \\\n",
              "0                 0.0       0.0                        0.0   \n",
              "1                 0.0       0.0                        0.0   \n",
              "2                 0.0       0.0                        0.0   \n",
              "3                 0.0       0.0                        0.0   \n",
              "4                 0.0       0.0                        0.0   \n",
              "..                ...       ...                        ...   \n",
              "853               0.0       0.0                        0.0   \n",
              "854               0.0       0.0                        0.0   \n",
              "855               0.0       0.0                        0.0   \n",
              "856               0.0       0.0                        0.0   \n",
              "857               0.0       0.0                        0.0   \n",
              "\n",
              "     STDs: Time since first diagnosis  STDs: Time since last diagnosis  \\\n",
              "0                                 4.0                              3.0   \n",
              "1                                 4.0                              3.0   \n",
              "2                                 4.0                              3.0   \n",
              "3                                 4.0                              3.0   \n",
              "4                                 4.0                              3.0   \n",
              "..                                ...                              ...   \n",
              "853                               4.0                              3.0   \n",
              "854                               4.0                              3.0   \n",
              "855                               4.0                              3.0   \n",
              "856                               4.0                              3.0   \n",
              "857                               4.0                              3.0   \n",
              "\n",
              "     Dx:Cancer  Dx:CIN  Dx:HPV   Dx  Hinselmann  \n",
              "0          0.0     0.0     0.0  0.0         0.0  \n",
              "1          0.0     0.0     0.0  0.0         0.0  \n",
              "2          0.0     0.0     0.0  0.0         0.0  \n",
              "3          1.0     0.0     1.0  0.0         0.0  \n",
              "4          0.0     0.0     0.0  0.0         0.0  \n",
              "..         ...     ...     ...  ...         ...  \n",
              "853        0.0     0.0     0.0  0.0         0.0  \n",
              "854        0.0     0.0     0.0  0.0         0.0  \n",
              "855        0.0     0.0     0.0  0.0         0.0  \n",
              "856        0.0     0.0     0.0  0.0         0.0  \n",
              "857        0.0     0.0     0.0  0.0         0.0  \n",
              "\n",
              "[858 rows x 33 columns]"
            ]
          },
          "execution_count": 283,
          "metadata": {},
          "output_type": "execute_result"
        }
      ],
      "source": [
        "df"
      ]
    },
    {
      "cell_type": "code",
      "execution_count": 284,
      "metadata": {},
      "outputs": [],
      "source": [
        "df = pd.get_dummies(data=df, columns=['Smokes','Hormonal Contraceptives','IUD','STDs',\n",
        "                                      'Dx:Cancer','Dx:CIN','Dx:HPV','Dx'])"
      ]
    },
    {
      "cell_type": "code",
      "execution_count": 285,
      "metadata": {
        "colab": {
          "base_uri": "https://localhost:8080/"
        },
        "id": "SAYqc_G9ptep",
        "outputId": "5318b48d-daf4-4177-c254-e8d6943ea784"
      },
      "outputs": [
        {
          "data": {
            "text/plain": [
              "(Age                                   0\n",
              " Number of sexual partners             0\n",
              " First sexual intercourse              0\n",
              " Num of pregnancies                    0\n",
              " Smokes (years)                        0\n",
              " Smokes (packs/year)                   0\n",
              " Hormonal Contraceptives (years)       0\n",
              " IUD (years)                           0\n",
              " STDs (number)                         0\n",
              " STDs:condylomatosis                   0\n",
              " STDs:cervical condylomatosis          0\n",
              " STDs:vaginal condylomatosis           0\n",
              " STDs:vulvo-perineal condylomatosis    0\n",
              " STDs:syphilis                         0\n",
              " STDs:pelvic inflammatory disease      0\n",
              " STDs:genital herpes                   0\n",
              " STDs:molluscum contagiosum            0\n",
              " STDs:AIDS                             0\n",
              " STDs:HIV                              0\n",
              " STDs:Hepatitis B                      0\n",
              " STDs:HPV                              0\n",
              " STDs: Number of diagnosis             0\n",
              " STDs: Time since first diagnosis      0\n",
              " STDs: Time since last diagnosis       0\n",
              " Hinselmann                            0\n",
              " Smokes_0.0                            0\n",
              " Smokes_1.0                            0\n",
              " Hormonal Contraceptives_0.0           0\n",
              " Hormonal Contraceptives_1.0           0\n",
              " IUD_0.0                               0\n",
              " IUD_1.0                               0\n",
              " STDs_0.0                              0\n",
              " STDs_1.0                              0\n",
              " Dx:Cancer_0.0                         0\n",
              " Dx:Cancer_1.0                         0\n",
              " Dx:CIN_0.0                            0\n",
              " Dx:CIN_1.0                            0\n",
              " Dx:HPV_0.0                            0\n",
              " Dx:HPV_1.0                            0\n",
              " Dx_0.0                                0\n",
              " Dx_1.0                                0\n",
              " dtype: int64,\n",
              " 41)"
            ]
          },
          "execution_count": 285,
          "metadata": {},
          "output_type": "execute_result"
        }
      ],
      "source": [
        "df.isna().sum(), df.columns.size\n"
      ]
    },
    {
      "cell_type": "code",
      "execution_count": 286,
      "metadata": {},
      "outputs": [],
      "source": [
        "# df_target = df.loc[(df['Hinselmann'] == 1.0) | (df['Citology'] == 1.0) | (df['Schiller'] == 1.0) | (df['Biopsy'] == 1.0)]\n",
        "# df_not_target = df.loc[(df['Hinselmann'] != 1.0) & (df['Citology'] != 1.0) & (df['Schiller'] != 1.0) & (df['Biopsy'] != 1.0)]\n",
        "\n",
        "df_target = df.loc[(df['Hinselmann'] == 1.0)]\n",
        "df_not_target = df.loc[(df['Hinselmann'] != 1.0)]\n",
        "\n",
        "# df_target = df.loc[(df['Hinselmann'] != 1.0)]\n",
        "# df_not_target = df.loc[(df['Hinselmann'] == 1.0)]\n"
      ]
    },
    {
      "cell_type": "code",
      "execution_count": 287,
      "metadata": {},
      "outputs": [],
      "source": [
        "target_upsampled = resample(df_target,\n",
        "                          replace=True, # sample with replacement\n",
        "                          n_samples=len(df_not_target), # match number in majority class\n",
        "                          random_state=0)\n",
        "df_new =  pd.concat([df_not_target, target_upsampled])\n"
      ]
    },
    {
      "cell_type": "code",
      "execution_count": 288,
      "metadata": {
        "id": "nTm-WFpBWorT"
      },
      "outputs": [],
      "source": [
        "# df = df.drop(['Hormonal Contraceptives', 'STDs: Time since first diagnosis', 'STDs: Time since last diagnosis'], axis=1)\n",
        "# "
      ]
    },
    {
      "cell_type": "markdown",
      "metadata": {
        "id": "4-YzG5hnRCwR"
      },
      "source": [
        "## Preprocess"
      ]
    },
    {
      "cell_type": "code",
      "execution_count": 289,
      "metadata": {
        "id": "XAlV-zONRCwT"
      },
      "outputs": [],
      "source": [
        "# \n",
        "# Feature scaling\n",
        "class PreprocessDataFrame():\n",
        "    def __init__(self, dataframe, test_size=0.25, features_size=1, target_size=1):\n",
        "        \"\"\"\n",
        "          Preprocess the dataset. \n",
        "        \"\"\"\n",
        "        # self.dataframe = self.cleanNullValues(dataframe)\n",
        "        self.dataframe = dataframe\n",
        "        self.test_size = test_size\n",
        "        self.feature_vector =  self.dataframe.iloc[:, :features_size].values\n",
        "        self.target_vector = self.dataframe.iloc[:, target_size:].values\n",
        "        # self.target_vector = self.dataframe.iloc[:, :target_size].values\n",
        "\n",
        "    # clean null values\n",
        "    def cleanNullValues(self, dataframe):\n",
        "        # determining the null values in each column\n",
        "        dataframe = dataframe.replace(\"?\", np.nan)\n",
        "        for column in dataframe.columns:\n",
        "          dataframe[column] = dataframe[column].fillna(dataframe[column].median())\n",
        "        \n",
        "        return dataframe\n",
        "    \n",
        "    #\n",
        "    def standardScaler(self):\n",
        "        # Get the feature vector\n",
        "        X = self.feature_vector\n",
        "\n",
        "        # Get the target vector\n",
        "        y = self.target_vector\n",
        "\n",
        "        # Encoding categorical data values\n",
        "        # labelencoder_Y = LabelEncoder()\n",
        "        # y = labelencoder_Y.fit_transform(y)\n",
        "\n",
        "        #\n",
        "        X_train, X_test, y_train, y_test = train_test_split(X, y, test_size=self.test_size)\n",
        "\n",
        "        # Declare the standard scaler\n",
        "        std_scaler = StandardScaler()\n",
        "\n",
        "        std_scaler.fit(X_train)\n",
        "\n",
        "        # Standardize the training set\n",
        "        # X_train = std_scaler.fit_transform(X_train)\n",
        "        X_train = std_scaler.transform(X_train)\n",
        "\n",
        "        # Standardize the testing set\n",
        "        # X_train = std_scaler.fit_transform(X_train)\n",
        "        X_test = std_scaler.transform(X_test)\n",
        "\n",
        "        #\n",
        "        return X_train, X_test, y_train, y_test\n",
        "\n",
        "    #\n",
        "    def minMaxScaler(self):\n",
        "        # Get the feature vector\n",
        "        X = self.feature_vector\n",
        "\n",
        "        # Get the target vector\n",
        "        y = self.target_vector\n",
        "\n",
        "        # splitting the dataset into  training and test set\n",
        "        X_train, X_test, y_train, y_test = train_test_split(X, y, test_size=self.test_size)\n",
        "\n",
        "        # MinMaxScaling\n",
        "        mm = MinMaxScaler(feature_range=(0, 1))\n",
        "\n",
        "        # feeding the independent data into the scaler\n",
        "      \n",
        "        # Standardize the training set\n",
        "        X_train = mm.fit_transform(X_train)\n",
        "        # X_train = mm.transform(X_train)\n",
        "\n",
        "        # Standardize the testing set\n",
        "        X_test = mm.fit_transform(X_test)\n",
        "        # X_test = mm.transform(X_test)\n",
        "\n",
        "        #\n",
        "        return X_train, X_test, y_train, y_test\n"
      ]
    },
    {
      "cell_type": "code",
      "execution_count": 290,
      "metadata": {
        "colab": {
          "base_uri": "https://localhost:8080/"
        },
        "id": "5w4S8-CtRCwU",
        "outputId": "ed1f7521-ec36-42e5-bcf5-65a8a4052690"
      },
      "outputs": [
        {
          "name": "stdout",
          "output_type": "stream",
          "text": [
            "(643, 40)\n",
            "(215, 40)\n",
            "(643, 1)\n",
            "(215, 1)\n"
          ]
        }
      ],
      "source": [
        "# df.iloc[:, df.columns.size-4:]\n",
        "# target = ['Hinselmann', 'Citology','Schiller','Biopsy']\n",
        "# \n",
        "# X_train, X_test, y_train, y_test = PreprocessDataFrame(dataframe=df, test_size=0.10, target_size=df.columns.size-1, features_size=df.columns.size-1).standardScaler()\n",
        "X_train, X_test, y_train, y_test = PreprocessDataFrame(dataframe=df, test_size=0.25, target_size=df.columns.size-1, features_size=df.columns.size-1).minMaxScaler()\n",
        "# \n",
        "print(X_train.shape)\n",
        "print(X_test.shape) \n",
        "print(y_train.shape)\n",
        "print(y_test.shape)\n"
      ]
    },
    {
      "cell_type": "markdown",
      "metadata": {
        "id": "NemY2T3HRCwW"
      },
      "source": [
        "## Filters"
      ]
    },
    {
      "cell_type": "markdown",
      "metadata": {
        "id": "7JcXq7CyVluG"
      },
      "source": [
        "#### Chi Squared Score"
      ]
    },
    {
      "cell_type": "code",
      "execution_count": 291,
      "metadata": {
        "id": "BKAqKF1JB89x"
      },
      "outputs": [],
      "source": [
        "# change this to how much features you want to keep from the top ones.\n",
        "CS_select_k = 25\n",
        "\n",
        "def chi_square(_X_train, _y_train):\n",
        "  # apply the chi2 score on the data and target (target should be binary).  \n",
        "  CS_selection = SelectKBest(chi2, k=CS_select_k).fit(_X_train, _y_train)\n",
        "\n",
        "  # return the k selected features.\n",
        "  CS_features = df.iloc[:, :df.columns.size-1].columns[CS_selection.get_support()]\n",
        "  return CS_features"
      ]
    },
    {
      "cell_type": "code",
      "execution_count": 292,
      "metadata": {
        "colab": {
          "base_uri": "https://localhost:8080/"
        },
        "id": "hXPbBgY9inQy",
        "outputId": "78f3ff54-cd66-4674-f33a-f2443e591c0e"
      },
      "outputs": [
        {
          "data": {
            "text/plain": [
              "(Index(['Age', 'Smokes (years)', 'Smokes (packs/year)', 'IUD (years)',\n",
              "        'STDs:condylomatosis', 'STDs:vulvo-perineal condylomatosis',\n",
              "        'STDs:syphilis', 'STDs:HIV', 'STDs:HPV', 'STDs: Number of diagnosis',\n",
              "        'STDs: Time since first diagnosis', 'STDs: Time since last diagnosis',\n",
              "        'Hinselmann', 'Smokes_0.0', 'Smokes_1.0', 'Hormonal Contraceptives_1.0',\n",
              "        'IUD_1.0', 'STDs_1.0', 'Dx:Cancer_0.0', 'Dx:Cancer_1.0', 'Dx:CIN_0.0',\n",
              "        'Dx:CIN_1.0', 'Dx:HPV_0.0', 'Dx:HPV_1.0', 'Dx_0.0'],\n",
              "       dtype='object'),\n",
              " 25)"
            ]
          },
          "execution_count": 292,
          "metadata": {},
          "output_type": "execute_result"
        }
      ],
      "source": [
        "\n",
        "# display the k selected features.\n",
        "CS_retained_features = chi_square(X_train, y_train)\n",
        "CS_retained_features, len(CS_retained_features)"
      ]
    },
    {
      "cell_type": "markdown",
      "metadata": {
        "id": "dRueaEKURCwY"
      },
      "source": [
        "#### Mutual Information/Information Gain"
      ]
    },
    {
      "cell_type": "code",
      "execution_count": 293,
      "metadata": {
        "id": "N0uVe9L39cxa"
      },
      "outputs": [],
      "source": [
        "# select the number of features you want to retain.\n",
        "MI_select_k = 25\n",
        "\n",
        "def mutual_info(_X_train, _y_train):\n",
        "  # \n",
        "  # create the SelectKBest with the mutual info strategy.\n",
        "  MI_selection_dna = SelectKBest(mutual_info_classif, k=MI_select_k).fit(_X_train, _y_train)\n",
        "\n",
        "  # return the retained features.\n",
        "  MI_features_dna = df.iloc[:, :df.columns.size-1].columns[MI_selection_dna.get_support()]\n",
        "  return MI_features_dna\n"
      ]
    },
    {
      "cell_type": "code",
      "execution_count": 294,
      "metadata": {
        "colab": {
          "base_uri": "https://localhost:8080/"
        },
        "id": "7ukx0FW1jmbj",
        "outputId": "20e8a5e2-cebc-4481-ab3d-c64d871d96df"
      },
      "outputs": [
        {
          "data": {
            "text/plain": [
              "(Index(['Age', 'First sexual intercourse', 'Smokes (years)',\n",
              "        'Smokes (packs/year)', 'IUD (years)', 'STDs:condylomatosis',\n",
              "        'STDs:cervical condylomatosis', 'STDs:vulvo-perineal condylomatosis',\n",
              "        'STDs:syphilis', 'STDs:pelvic inflammatory disease',\n",
              "        'STDs:molluscum contagiosum', 'STDs:HPV',\n",
              "        'STDs: Time since last diagnosis', 'Hinselmann', 'Smokes_0.0',\n",
              "        'Smokes_1.0', 'Hormonal Contraceptives_1.0', 'STDs_1.0',\n",
              "        'Dx:Cancer_0.0', 'Dx:Cancer_1.0', 'Dx:CIN_0.0', 'Dx:CIN_1.0',\n",
              "        'Dx:HPV_0.0', 'Dx:HPV_1.0', 'Dx_0.0'],\n",
              "       dtype='object'),\n",
              " 25)"
            ]
          },
          "execution_count": 294,
          "metadata": {},
          "output_type": "execute_result"
        }
      ],
      "source": [
        "MI_retained_features = mutual_info(X_train, y_train)\n",
        "MI_retained_features, len(MI_retained_features)\n"
      ]
    },
    {
      "cell_type": "markdown",
      "metadata": {
        "id": "lATpkj7kRCwa"
      },
      "source": [
        "#### ReliefF"
      ]
    },
    {
      "cell_type": "code",
      "execution_count": 295,
      "metadata": {
        "id": "bEPCVl7ERCwa"
      },
      "outputs": [],
      "source": [
        "# select the number of features you want to retain.\n",
        "RF_select_k = 25\n",
        "\n",
        "\n",
        "def reliefF(_X_train, _y_train, n_neighbors=100):\n",
        "  # \n",
        "  # create the SelectKBest with the mutual info strategy.\n",
        "  RF_selection_dna = SelectFromModel(estimator= ReliefF(n_features_to_select=RF_select_k, n_neighbors=n_neighbors), max_features=RF_select_k, threshold=-np.inf).fit(_X_train, _y_train.flatten())\n",
        "\n",
        "  # return the retained features.\n",
        "  RF_features_dna = df.iloc[:, :df.columns.size-1].columns[RF_selection_dna.get_support()]\n",
        "  return RF_features_dna"
      ]
    },
    {
      "cell_type": "code",
      "execution_count": 296,
      "metadata": {
        "id": "nveEL_r2RCwb"
      },
      "outputs": [
        {
          "data": {
            "text/plain": [
              "(Index(['Age', 'Number of sexual partners', 'First sexual intercourse',\n",
              "        'Num of pregnancies', 'Hormonal Contraceptives (years)', 'IUD (years)',\n",
              "        'STDs (number)', 'STDs: Number of diagnosis',\n",
              "        'STDs: Time since first diagnosis', 'STDs: Time since last diagnosis',\n",
              "        'Smokes_0.0', 'Smokes_1.0', 'Hormonal Contraceptives_0.0',\n",
              "        'Hormonal Contraceptives_1.0', 'IUD_0.0', 'IUD_1.0', 'STDs_0.0',\n",
              "        'STDs_1.0', 'Dx:Cancer_0.0', 'Dx:Cancer_1.0', 'Dx:CIN_0.0',\n",
              "        'Dx:CIN_1.0', 'Dx:HPV_0.0', 'Dx:HPV_1.0', 'Dx_0.0'],\n",
              "       dtype='object'),\n",
              " 25)"
            ]
          },
          "execution_count": 296,
          "metadata": {},
          "output_type": "execute_result"
        }
      ],
      "source": [
        "RF_retained_features = reliefF(X_train, y_train)\n",
        "RF_retained_features, len(RF_retained_features)\n"
      ]
    },
    {
      "cell_type": "code",
      "execution_count": 297,
      "metadata": {
        "id": "xe83f_KLRCwb"
      },
      "outputs": [],
      "source": [
        "# \n",
        "def features_simple_voting(columns_list: list, available_min: int = 2, total_feature_len: int = 5) -> list:\n",
        "    \"\"\"\n",
        "        A simple voting technique used to combine features \\n\n",
        "        from different feature selection algorithms that were chosen by them.\n",
        "    \"\"\"\n",
        "    new_features_list = []\n",
        "    flat_list = []\n",
        "    for column_list in columns_list:\n",
        "        flat_list += list(column_list) \n",
        "    # \n",
        "    new_dict = dict(Counter(flat_list))\n",
        "    # \n",
        "    for k in new_dict:\n",
        "        if(new_dict[k] >= available_min):\n",
        "            new_features_list.append(k)\n",
        "            # \n",
        "\n",
        "    return new_features_list\n",
        "# "
      ]
    },
    {
      "cell_type": "code",
      "execution_count": 298,
      "metadata": {
        "id": "ydqu_eNNRCwb"
      },
      "outputs": [
        {
          "data": {
            "text/plain": [
              "(['Age',\n",
              "  'Smokes (years)',\n",
              "  'Smokes (packs/year)',\n",
              "  'IUD (years)',\n",
              "  'STDs:condylomatosis',\n",
              "  'STDs:vulvo-perineal condylomatosis',\n",
              "  'STDs:syphilis',\n",
              "  'STDs:HPV',\n",
              "  'STDs: Number of diagnosis',\n",
              "  'STDs: Time since first diagnosis',\n",
              "  'STDs: Time since last diagnosis',\n",
              "  'Hinselmann',\n",
              "  'Smokes_0.0',\n",
              "  'Smokes_1.0',\n",
              "  'Hormonal Contraceptives_1.0',\n",
              "  'IUD_1.0',\n",
              "  'STDs_1.0',\n",
              "  'Dx:Cancer_0.0',\n",
              "  'Dx:Cancer_1.0',\n",
              "  'Dx:CIN_0.0',\n",
              "  'Dx:CIN_1.0',\n",
              "  'Dx:HPV_0.0',\n",
              "  'Dx:HPV_1.0',\n",
              "  'Dx_0.0',\n",
              "  'First sexual intercourse'],\n",
              " 25)"
            ]
          },
          "execution_count": 298,
          "metadata": {},
          "output_type": "execute_result"
        }
      ],
      "source": [
        "sv_features = features_simple_voting([CS_retained_features, MI_retained_features, RF_retained_features], total_feature_len = 20)\n",
        "sv_features, len(sv_features)\n",
        "# "
      ]
    },
    {
      "cell_type": "markdown",
      "metadata": {
        "id": "_C29xo3cRCwc"
      },
      "source": [
        "#### RFE Method"
      ]
    },
    {
      "cell_type": "code",
      "execution_count": 299,
      "metadata": {
        "id": "6RZdi9zkRCwc"
      },
      "outputs": [],
      "source": [
        "# select the number of features you want to retain.\n",
        "RFE_select_k = 20\n",
        "\n",
        "def RFE_SVC(_X_train, _y_train, _features:list):\n",
        "  # \n",
        "  df_copy = df[_features]\n",
        "  # create the SelectKBest with the mutual info strategy.\n",
        "  RFE_selection_dna = RFE(estimator=SVC(kernel=\"linear\"), n_features_to_select=RFE_select_k, step=3).fit(_X_train, _y_train.flatten())\n",
        "\n",
        "  # return the retained features.\n",
        "  RFE_features_dna = df.iloc[:, :df.columns.size-1].columns[RFE_selection_dna.support_]\n",
        "  return list(RFE_features_dna)\n",
        "# "
      ]
    },
    {
      "cell_type": "code",
      "execution_count": 300,
      "metadata": {
        "id": "NCG9o0uERCwc"
      },
      "outputs": [
        {
          "data": {
            "text/plain": [
              "(['Age',\n",
              "  'Number of sexual partners',\n",
              "  'First sexual intercourse',\n",
              "  'Num of pregnancies',\n",
              "  'Smokes (years)',\n",
              "  'Hormonal Contraceptives (years)',\n",
              "  'STDs:HIV',\n",
              "  'STDs: Time since first diagnosis',\n",
              "  'STDs: Time since last diagnosis',\n",
              "  'Hinselmann',\n",
              "  'Smokes_0.0',\n",
              "  'Smokes_1.0',\n",
              "  'IUD_1.0',\n",
              "  'Dx:Cancer_0.0',\n",
              "  'Dx:Cancer_1.0',\n",
              "  'Dx:CIN_0.0',\n",
              "  'Dx:CIN_1.0',\n",
              "  'Dx:HPV_0.0',\n",
              "  'Dx:HPV_1.0',\n",
              "  'Dx_0.0'],\n",
              " 20)"
            ]
          },
          "execution_count": 300,
          "metadata": {},
          "output_type": "execute_result"
        }
      ],
      "source": [
        "final_features = RFE_SVC(X_train, y_train, sv_features)\n",
        "final_features, len(final_features)\n",
        "# "
      ]
    },
    {
      "cell_type": "markdown",
      "metadata": {
        "id": "vjMux7klRCwd"
      },
      "source": [
        "## Classifiers"
      ]
    },
    {
      "cell_type": "code",
      "execution_count": 301,
      "metadata": {
        "id": "3OPpee68RCwd"
      },
      "outputs": [],
      "source": [
        "performance_data_agg = [] # list to store all performance metric\n"
      ]
    },
    {
      "cell_type": "code",
      "execution_count": 302,
      "metadata": {
        "id": "Dxs0oqcmRCwd"
      },
      "outputs": [],
      "source": [
        "df_fin = df[final_features + [df.columns[df.columns.size-1]]] # new_df = chosen_features + target_variable\n"
      ]
    },
    {
      "cell_type": "code",
      "execution_count": 303,
      "metadata": {
        "id": "jruAHfHnRCwe"
      },
      "outputs": [
        {
          "data": {
            "text/html": [
              "<div>\n",
              "<style scoped>\n",
              "    .dataframe tbody tr th:only-of-type {\n",
              "        vertical-align: middle;\n",
              "    }\n",
              "\n",
              "    .dataframe tbody tr th {\n",
              "        vertical-align: top;\n",
              "    }\n",
              "\n",
              "    .dataframe thead th {\n",
              "        text-align: right;\n",
              "    }\n",
              "</style>\n",
              "<table border=\"1\" class=\"dataframe\">\n",
              "  <thead>\n",
              "    <tr style=\"text-align: right;\">\n",
              "      <th></th>\n",
              "      <th>Age</th>\n",
              "      <th>Number of sexual partners</th>\n",
              "      <th>First sexual intercourse</th>\n",
              "      <th>Num of pregnancies</th>\n",
              "      <th>Smokes (years)</th>\n",
              "      <th>Hormonal Contraceptives (years)</th>\n",
              "      <th>STDs:HIV</th>\n",
              "      <th>STDs: Time since first diagnosis</th>\n",
              "      <th>STDs: Time since last diagnosis</th>\n",
              "      <th>Hinselmann</th>\n",
              "      <th>...</th>\n",
              "      <th>Smokes_1.0</th>\n",
              "      <th>IUD_1.0</th>\n",
              "      <th>Dx:Cancer_0.0</th>\n",
              "      <th>Dx:Cancer_1.0</th>\n",
              "      <th>Dx:CIN_0.0</th>\n",
              "      <th>Dx:CIN_1.0</th>\n",
              "      <th>Dx:HPV_0.0</th>\n",
              "      <th>Dx:HPV_1.0</th>\n",
              "      <th>Dx_0.0</th>\n",
              "      <th>Dx_1.0</th>\n",
              "    </tr>\n",
              "  </thead>\n",
              "  <tbody>\n",
              "    <tr>\n",
              "      <th>count</th>\n",
              "      <td>858.000000</td>\n",
              "      <td>858.000000</td>\n",
              "      <td>858.000000</td>\n",
              "      <td>858.000000</td>\n",
              "      <td>858.000000</td>\n",
              "      <td>858.000000</td>\n",
              "      <td>858.000000</td>\n",
              "      <td>858.000000</td>\n",
              "      <td>858.000000</td>\n",
              "      <td>858.000000</td>\n",
              "      <td>...</td>\n",
              "      <td>858.000000</td>\n",
              "      <td>858.000000</td>\n",
              "      <td>858.000000</td>\n",
              "      <td>858.000000</td>\n",
              "      <td>858.000000</td>\n",
              "      <td>858.000000</td>\n",
              "      <td>858.000000</td>\n",
              "      <td>858.000000</td>\n",
              "      <td>858.000000</td>\n",
              "      <td>858.000000</td>\n",
              "    </tr>\n",
              "    <tr>\n",
              "      <th>mean</th>\n",
              "      <td>26.820513</td>\n",
              "      <td>2.511655</td>\n",
              "      <td>16.995338</td>\n",
              "      <td>2.257576</td>\n",
              "      <td>1.201241</td>\n",
              "      <td>2.035331</td>\n",
              "      <td>0.020979</td>\n",
              "      <td>4.177156</td>\n",
              "      <td>3.233100</td>\n",
              "      <td>0.040793</td>\n",
              "      <td>...</td>\n",
              "      <td>0.143357</td>\n",
              "      <td>0.096737</td>\n",
              "      <td>0.979021</td>\n",
              "      <td>0.020979</td>\n",
              "      <td>0.989510</td>\n",
              "      <td>0.010490</td>\n",
              "      <td>0.979021</td>\n",
              "      <td>0.020979</td>\n",
              "      <td>0.972028</td>\n",
              "      <td>0.027972</td>\n",
              "    </tr>\n",
              "    <tr>\n",
              "      <th>std</th>\n",
              "      <td>8.497948</td>\n",
              "      <td>1.644759</td>\n",
              "      <td>2.791883</td>\n",
              "      <td>1.400981</td>\n",
              "      <td>4.060623</td>\n",
              "      <td>3.567040</td>\n",
              "      <td>0.143398</td>\n",
              "      <td>1.785156</td>\n",
              "      <td>1.818927</td>\n",
              "      <td>0.197925</td>\n",
              "      <td>...</td>\n",
              "      <td>0.350641</td>\n",
              "      <td>0.295771</td>\n",
              "      <td>0.143398</td>\n",
              "      <td>0.143398</td>\n",
              "      <td>0.101939</td>\n",
              "      <td>0.101939</td>\n",
              "      <td>0.143398</td>\n",
              "      <td>0.143398</td>\n",
              "      <td>0.164989</td>\n",
              "      <td>0.164989</td>\n",
              "    </tr>\n",
              "    <tr>\n",
              "      <th>min</th>\n",
              "      <td>13.000000</td>\n",
              "      <td>1.000000</td>\n",
              "      <td>10.000000</td>\n",
              "      <td>0.000000</td>\n",
              "      <td>0.000000</td>\n",
              "      <td>0.000000</td>\n",
              "      <td>0.000000</td>\n",
              "      <td>1.000000</td>\n",
              "      <td>1.000000</td>\n",
              "      <td>0.000000</td>\n",
              "      <td>...</td>\n",
              "      <td>0.000000</td>\n",
              "      <td>0.000000</td>\n",
              "      <td>0.000000</td>\n",
              "      <td>0.000000</td>\n",
              "      <td>0.000000</td>\n",
              "      <td>0.000000</td>\n",
              "      <td>0.000000</td>\n",
              "      <td>0.000000</td>\n",
              "      <td>0.000000</td>\n",
              "      <td>0.000000</td>\n",
              "    </tr>\n",
              "    <tr>\n",
              "      <th>25%</th>\n",
              "      <td>20.000000</td>\n",
              "      <td>2.000000</td>\n",
              "      <td>15.000000</td>\n",
              "      <td>1.000000</td>\n",
              "      <td>0.000000</td>\n",
              "      <td>0.000000</td>\n",
              "      <td>0.000000</td>\n",
              "      <td>4.000000</td>\n",
              "      <td>3.000000</td>\n",
              "      <td>0.000000</td>\n",
              "      <td>...</td>\n",
              "      <td>0.000000</td>\n",
              "      <td>0.000000</td>\n",
              "      <td>1.000000</td>\n",
              "      <td>0.000000</td>\n",
              "      <td>1.000000</td>\n",
              "      <td>0.000000</td>\n",
              "      <td>1.000000</td>\n",
              "      <td>0.000000</td>\n",
              "      <td>1.000000</td>\n",
              "      <td>0.000000</td>\n",
              "    </tr>\n",
              "    <tr>\n",
              "      <th>50%</th>\n",
              "      <td>25.000000</td>\n",
              "      <td>2.000000</td>\n",
              "      <td>17.000000</td>\n",
              "      <td>2.000000</td>\n",
              "      <td>0.000000</td>\n",
              "      <td>0.500000</td>\n",
              "      <td>0.000000</td>\n",
              "      <td>4.000000</td>\n",
              "      <td>3.000000</td>\n",
              "      <td>0.000000</td>\n",
              "      <td>...</td>\n",
              "      <td>0.000000</td>\n",
              "      <td>0.000000</td>\n",
              "      <td>1.000000</td>\n",
              "      <td>0.000000</td>\n",
              "      <td>1.000000</td>\n",
              "      <td>0.000000</td>\n",
              "      <td>1.000000</td>\n",
              "      <td>0.000000</td>\n",
              "      <td>1.000000</td>\n",
              "      <td>0.000000</td>\n",
              "    </tr>\n",
              "    <tr>\n",
              "      <th>75%</th>\n",
              "      <td>32.000000</td>\n",
              "      <td>3.000000</td>\n",
              "      <td>18.000000</td>\n",
              "      <td>3.000000</td>\n",
              "      <td>0.000000</td>\n",
              "      <td>2.000000</td>\n",
              "      <td>0.000000</td>\n",
              "      <td>4.000000</td>\n",
              "      <td>3.000000</td>\n",
              "      <td>0.000000</td>\n",
              "      <td>...</td>\n",
              "      <td>0.000000</td>\n",
              "      <td>0.000000</td>\n",
              "      <td>1.000000</td>\n",
              "      <td>0.000000</td>\n",
              "      <td>1.000000</td>\n",
              "      <td>0.000000</td>\n",
              "      <td>1.000000</td>\n",
              "      <td>0.000000</td>\n",
              "      <td>1.000000</td>\n",
              "      <td>0.000000</td>\n",
              "    </tr>\n",
              "    <tr>\n",
              "      <th>max</th>\n",
              "      <td>84.000000</td>\n",
              "      <td>28.000000</td>\n",
              "      <td>32.000000</td>\n",
              "      <td>11.000000</td>\n",
              "      <td>37.000000</td>\n",
              "      <td>30.000000</td>\n",
              "      <td>1.000000</td>\n",
              "      <td>22.000000</td>\n",
              "      <td>22.000000</td>\n",
              "      <td>1.000000</td>\n",
              "      <td>...</td>\n",
              "      <td>1.000000</td>\n",
              "      <td>1.000000</td>\n",
              "      <td>1.000000</td>\n",
              "      <td>1.000000</td>\n",
              "      <td>1.000000</td>\n",
              "      <td>1.000000</td>\n",
              "      <td>1.000000</td>\n",
              "      <td>1.000000</td>\n",
              "      <td>1.000000</td>\n",
              "      <td>1.000000</td>\n",
              "    </tr>\n",
              "  </tbody>\n",
              "</table>\n",
              "<p>8 rows × 21 columns</p>\n",
              "</div>"
            ],
            "text/plain": [
              "              Age  Number of sexual partners  First sexual intercourse  \\\n",
              "count  858.000000                 858.000000                858.000000   \n",
              "mean    26.820513                   2.511655                 16.995338   \n",
              "std      8.497948                   1.644759                  2.791883   \n",
              "min     13.000000                   1.000000                 10.000000   \n",
              "25%     20.000000                   2.000000                 15.000000   \n",
              "50%     25.000000                   2.000000                 17.000000   \n",
              "75%     32.000000                   3.000000                 18.000000   \n",
              "max     84.000000                  28.000000                 32.000000   \n",
              "\n",
              "       Num of pregnancies  Smokes (years)  Hormonal Contraceptives (years)  \\\n",
              "count          858.000000      858.000000                       858.000000   \n",
              "mean             2.257576        1.201241                         2.035331   \n",
              "std              1.400981        4.060623                         3.567040   \n",
              "min              0.000000        0.000000                         0.000000   \n",
              "25%              1.000000        0.000000                         0.000000   \n",
              "50%              2.000000        0.000000                         0.500000   \n",
              "75%              3.000000        0.000000                         2.000000   \n",
              "max             11.000000       37.000000                        30.000000   \n",
              "\n",
              "         STDs:HIV  STDs: Time since first diagnosis  \\\n",
              "count  858.000000                        858.000000   \n",
              "mean     0.020979                          4.177156   \n",
              "std      0.143398                          1.785156   \n",
              "min      0.000000                          1.000000   \n",
              "25%      0.000000                          4.000000   \n",
              "50%      0.000000                          4.000000   \n",
              "75%      0.000000                          4.000000   \n",
              "max      1.000000                         22.000000   \n",
              "\n",
              "       STDs: Time since last diagnosis  Hinselmann  ...  Smokes_1.0  \\\n",
              "count                       858.000000  858.000000  ...  858.000000   \n",
              "mean                          3.233100    0.040793  ...    0.143357   \n",
              "std                           1.818927    0.197925  ...    0.350641   \n",
              "min                           1.000000    0.000000  ...    0.000000   \n",
              "25%                           3.000000    0.000000  ...    0.000000   \n",
              "50%                           3.000000    0.000000  ...    0.000000   \n",
              "75%                           3.000000    0.000000  ...    0.000000   \n",
              "max                          22.000000    1.000000  ...    1.000000   \n",
              "\n",
              "          IUD_1.0  Dx:Cancer_0.0  Dx:Cancer_1.0  Dx:CIN_0.0  Dx:CIN_1.0  \\\n",
              "count  858.000000     858.000000     858.000000  858.000000  858.000000   \n",
              "mean     0.096737       0.979021       0.020979    0.989510    0.010490   \n",
              "std      0.295771       0.143398       0.143398    0.101939    0.101939   \n",
              "min      0.000000       0.000000       0.000000    0.000000    0.000000   \n",
              "25%      0.000000       1.000000       0.000000    1.000000    0.000000   \n",
              "50%      0.000000       1.000000       0.000000    1.000000    0.000000   \n",
              "75%      0.000000       1.000000       0.000000    1.000000    0.000000   \n",
              "max      1.000000       1.000000       1.000000    1.000000    1.000000   \n",
              "\n",
              "       Dx:HPV_0.0  Dx:HPV_1.0      Dx_0.0      Dx_1.0  \n",
              "count  858.000000  858.000000  858.000000  858.000000  \n",
              "mean     0.979021    0.020979    0.972028    0.027972  \n",
              "std      0.143398    0.143398    0.164989    0.164989  \n",
              "min      0.000000    0.000000    0.000000    0.000000  \n",
              "25%      1.000000    0.000000    1.000000    0.000000  \n",
              "50%      1.000000    0.000000    1.000000    0.000000  \n",
              "75%      1.000000    0.000000    1.000000    0.000000  \n",
              "max      1.000000    1.000000    1.000000    1.000000  \n",
              "\n",
              "[8 rows x 21 columns]"
            ]
          },
          "execution_count": 303,
          "metadata": {},
          "output_type": "execute_result"
        }
      ],
      "source": [
        "df_fin.describe()\n"
      ]
    },
    {
      "cell_type": "code",
      "execution_count": 304,
      "metadata": {
        "id": "64cvze8-RCwe"
      },
      "outputs": [
        {
          "name": "stdout",
          "output_type": "stream",
          "text": [
            "(772, 20)\n",
            "(86, 20)\n",
            "(772, 1)\n",
            "(86, 1)\n"
          ]
        }
      ],
      "source": [
        "\n",
        "# df_fin.iloc[:, df_fin.columns.size-4:]\n",
        "# target = ['Hinselmann', 'Citology','Schiller','Biopsy']\n",
        "# \n",
        "# X_train_fin, X_test_fin, y_train_fin, y_test_fin = PreprocessDataFrame(dataframe=df_fin, target_size=df_fin.columns.size-1, features_size=df_fin.columns.size-1).standardScaler()\n",
        "X_train_fin, X_test_fin, y_train_fin, y_test_fin = PreprocessDataFrame(dataframe=df_fin, test_size=0.10, target_size=df_fin.columns.size-1, features_size=df_fin.columns.size-1).minMaxScaler()\n",
        "# \n",
        "print(X_train_fin.shape)\n",
        "print(X_test_fin.shape) \n",
        "print(y_train_fin.shape)\n",
        "print(y_test_fin.shape)\n"
      ]
    },
    {
      "cell_type": "markdown",
      "metadata": {
        "id": "pe7EkpjSRCwf"
      },
      "source": [
        "### SVM"
      ]
    },
    {
      "cell_type": "code",
      "execution_count": 305,
      "metadata": {
        "id": "h4aAioDoRCwf"
      },
      "outputs": [],
      "source": [
        "# \n",
        "# default parameters\n",
        "# \n",
        "kfolds=10 # set the number of folds\n",
        "# kfold_run_time = int(kfolds/(kfolds-(kfolds/2)))\n",
        "# \n",
        "default_params = {\n",
        "    'C': [1e-4, 1e-3, 1e-2, 1e-1, 2e-1, 1, 1e1, 1e2, 1e3],\n",
        "    'gamma': ['scale','auto'],\n",
        "    'tol': [1e-4]\n",
        "}\n",
        "# "
      ]
    },
    {
      "cell_type": "markdown",
      "metadata": {
        "id": "wMJZhvuDRCwf"
      },
      "source": [
        "#### Linear SVM"
      ]
    },
    {
      "cell_type": "code",
      "execution_count": 306,
      "metadata": {
        "id": "eGsS-9_jRCwg"
      },
      "outputs": [],
      "source": [
        "linear_svc_params = {}\n",
        "# \n",
        "for k in default_params:\n",
        "    linear_svc_params[k] = default_params[k]\n",
        "# \n",
        "# perform grid-search and cross-validation\n",
        "SelectedLinearSVC = GridSearchCV(SVC(kernel='linear'), linear_svc_params, cv=kfolds, scoring='accuracy').fit(X_train_fin, y_train_fin)\n",
        "# "
      ]
    },
    {
      "cell_type": "code",
      "execution_count": 307,
      "metadata": {
        "id": "cxmHYC38RCwg"
      },
      "outputs": [
        {
          "name": "stdout",
          "output_type": "stream",
          "text": [
            "Best accuracy on validation set is: 1.0\n",
            "Best parameters are:  {'C': 0.1, 'gamma': 'scale', 'tol': 0.0001}\n",
            "Test Accuracy with best C parameter is 1.0\n",
            "Test F1-Score with best C parameter is {'Micro': 1.0, 'Macro': 1.0, 'Weighted': 1.0}\n",
            "Test Precision with best C parameter is {'Micro': 1.0, 'Macro': 1.0, 'Weighted': 1.0}\n",
            "Test recall with the best C parameter is {'Micro': 1.0, 'Macro': 1.0, 'Weighted': 1.0}\n",
            "Number of mislabeled points out of a total of 86 points : 0\n"
          ]
        }
      ],
      "source": [
        "#\n",
        "# best_estimator = SelectedLinearSVC.best_estimator_\n",
        "# \n",
        "best_score = SelectedLinearSVC.best_score_\n",
        "# \n",
        "best_parameters = SelectedLinearSVC.best_params_\n",
        "# \n",
        "# best_model_settings = SelectedLinearSVC.cv_results_['params'][SelectedLinearSVC.best_index_]\n",
        "# \n",
        "PredictedOutputLinearSVC = SelectedLinearSVC.predict(X_test_fin)\n",
        "# \n",
        "test_acc = SelectedLinearSVC.score(X_test_fin, y_test_fin)\n",
        "# test_acc = accuracy_score(y_test_fin, PredictedOutputLinearSVC)\n",
        "# \n",
        "fpr, tpr, thresholds = roc_curve(y_test_fin, PredictedOutputLinearSVC, pos_label=1)\n",
        "# roc_auc_score\n",
        "# \n",
        "test_auc = auc(fpr, tpr)\n",
        "# \n",
        "mislabeled_points = (y_test_fin.flatten() != PredictedOutputLinearSVC.flatten()).sum()\n",
        "# \n",
        "# test_recall = recall_score(y_test_fin, PredictedOutputLinearSVC, pos_label=1)\n",
        "test_recall = {\n",
        "    'Micro':recall_score(y_test_fin, PredictedOutputLinearSVC, average='micro'), \n",
        "    'Macro':recall_score(y_test_fin, PredictedOutputLinearSVC, average='macro'), \n",
        "    'Weighted':recall_score(y_test_fin, PredictedOutputLinearSVC, average='weighted')\n",
        "    }\n",
        "# \n",
        "test_precision = {\n",
        "    'Micro':precision_score(y_test_fin, PredictedOutputLinearSVC, average='micro'), \n",
        "    'Macro':precision_score(y_test_fin, PredictedOutputLinearSVC, average='macro'), \n",
        "    'Weighted':precision_score(y_test_fin, PredictedOutputLinearSVC, average='weighted')\n",
        "    }\n",
        "# \n",
        "test_f1_score = {\n",
        "    'Micro':f1_score(y_test_fin, PredictedOutputLinearSVC, average='micro'), \n",
        "    'Macro':f1_score(y_test_fin, PredictedOutputLinearSVC, average='macro'), \n",
        "    'Weighted':f1_score(y_test_fin, PredictedOutputLinearSVC, average='weighted')\n",
        "    }\n",
        "#\n",
        "print(\"Best accuracy on validation set is:\", best_score)\n",
        "print(\"Best parameters are: \", best_parameters)\n",
        "print(\"Test Accuracy with best C parameter is\", test_acc)   \n",
        "print(\"Test F1-Score with best C parameter is\", test_f1_score)   \n",
        "print(\"Test Precision with best C parameter is\", test_precision)   \n",
        "print(\"Test recall with the best C parameter is\", test_recall)\n",
        "# print(\"Test AUC with the best C parameter is\", test_auc)\n",
        "# print(\"Test ROC CURVE with the best C parameter is\", [fpr, tpr])\n",
        "print(\"Number of mislabeled points out of a total of %d points : %d\" % (X_test_fin.shape[0], mislabeled_points))\n",
        "# \n",
        "m = 'Linear(SVM)'\n",
        "performance_data_agg.append([m, test_acc, test_f1_score['Micro'], test_precision['Micro'], test_recall['Micro'], test_auc, fpr, tpr, thresholds, mislabeled_points])\n",
        "# "
      ]
    },
    {
      "cell_type": "markdown",
      "metadata": {
        "id": "UVkUgq_nRCwh"
      },
      "source": [
        "#### RBF SVM"
      ]
    },
    {
      "cell_type": "code",
      "execution_count": 308,
      "metadata": {
        "id": "am2_q3oQRCwh"
      },
      "outputs": [],
      "source": [
        "rbf_svc_params = {}\n",
        "# \n",
        "for k in default_params:\n",
        "    rbf_svc_params[k] = default_params[k]\n",
        "\n",
        "# \n",
        "# perform grid-search and cross-validation\n",
        "SelectedRbfSVC = GridSearchCV(SVC(kernel='rbf'), rbf_svc_params, cv=kfolds, scoring='accuracy').fit(X_train_fin, y_train_fin)\n",
        "# "
      ]
    },
    {
      "cell_type": "code",
      "execution_count": 309,
      "metadata": {
        "id": "fSnyhtQ1RCwh"
      },
      "outputs": [
        {
          "name": "stdout",
          "output_type": "stream",
          "text": [
            "Best accuracy on validation set is: 1.0\n",
            "Best parameters are:  {'C': 1, 'gamma': 'scale', 'tol': 0.0001}\n",
            "Test Accuracy with best C parameter is 1.0\n",
            "Test F1-Score with best C parameter is {'Micro': 1.0, 'Macro': 1.0, 'Weighted': 1.0}\n",
            "Test Precision with best C parameter is {'Micro': 1.0, 'Macro': 1.0, 'Weighted': 1.0}\n",
            "Test recall with the best C parameter is {'Micro': 1.0, 'Macro': 1.0, 'Weighted': 1.0}\n",
            "Number of mislabeled points out of a total of 86 points : 0\n"
          ]
        }
      ],
      "source": [
        "#\n",
        "# best_estimator = SelectedRbfSVC.best_estimator_\n",
        "# \n",
        "best_score = SelectedRbfSVC.best_score_\n",
        "# \n",
        "best_parameters = SelectedRbfSVC.best_params_\n",
        "# \n",
        "# best_model_settings = SelectedRbfSVC.cv_results_['params'][SelectedRbfSVC.best_index_]\n",
        "# \n",
        "PredictedOutputRbfSVC = SelectedRbfSVC.predict(X_test_fin)\n",
        "# \n",
        "test_acc = SelectedRbfSVC.score(X_test_fin, y_test_fin)\n",
        "# test_acc = accuracy_score(y_test_fin, PredictedOutputRbfSVC)\n",
        "# \n",
        "fpr, tpr, thresholds = roc_curve(y_test_fin, PredictedOutputRbfSVC, pos_label=1)\n",
        "# roc_auc_score\n",
        "# \n",
        "test_auc = auc(fpr, tpr)\n",
        "# \n",
        "mislabeled_points = (y_test_fin.flatten() != PredictedOutputRbfSVC.flatten()).sum()\n",
        "# \n",
        "# test_recall = recall_score(y_test_fin, PredictedOutputRbfSVC, pos_label=1)\n",
        "test_recall = {\n",
        "    'Micro':recall_score(y_test_fin, PredictedOutputRbfSVC, average='micro'), \n",
        "    'Macro':recall_score(y_test_fin, PredictedOutputRbfSVC, average='macro'), \n",
        "    'Weighted':recall_score(y_test_fin, PredictedOutputRbfSVC, average='weighted')\n",
        "    }\n",
        "# \n",
        "test_precision = {\n",
        "    'Micro':precision_score(y_test_fin, PredictedOutputRbfSVC, average='micro'), \n",
        "    'Macro':precision_score(y_test_fin, PredictedOutputRbfSVC, average='macro'), \n",
        "    'Weighted':precision_score(y_test_fin, PredictedOutputRbfSVC, average='weighted')\n",
        "    }\n",
        "# \n",
        "test_f1_score = {\n",
        "    'Micro':f1_score(y_test_fin, PredictedOutputRbfSVC, average='micro'), \n",
        "    'Macro':f1_score(y_test_fin, PredictedOutputRbfSVC, average='macro'), \n",
        "    'Weighted':f1_score(y_test_fin, PredictedOutputRbfSVC, average='weighted')\n",
        "    }\n",
        "#\n",
        "print(\"Best accuracy on validation set is:\", best_score)\n",
        "print(\"Best parameters are: \", best_parameters)\n",
        "print(\"Test Accuracy with best C parameter is\", test_acc)   \n",
        "print(\"Test F1-Score with best C parameter is\", test_f1_score)   \n",
        "print(\"Test Precision with best C parameter is\", test_precision)   \n",
        "print(\"Test recall with the best C parameter is\", test_recall)\n",
        "# print(\"Test AUC with the best C parameter is\", test_auc)\n",
        "# print(\"Test ROC CURVE with the best C parameter is\", [fpr, tpr])\n",
        "print(\"Number of mislabeled points out of a total of %d points : %d\" % (X_test_fin.shape[0], mislabeled_points))\n",
        "# \n",
        "m = 'RBF(SVM)'\n",
        "performance_data_agg.append([m, test_acc, test_f1_score['Micro'], test_precision['Micro'], test_recall['Micro'], test_auc, fpr, tpr, thresholds, mislabeled_points])\n",
        "# "
      ]
    },
    {
      "cell_type": "markdown",
      "metadata": {
        "id": "jGaVmWrpRCwi"
      },
      "source": [
        "#### Polynomial SVM"
      ]
    },
    {
      "cell_type": "code",
      "execution_count": 310,
      "metadata": {
        "id": "ylOTEahSRCwi"
      },
      "outputs": [],
      "source": [
        "poly_svc_params = {\n",
        "    'degree': [2,3,4,5],\n",
        "    'coef0': [0.0, 0.1, 0.2, 0.3],\n",
        "}\n",
        "# \n",
        "for k in default_params:\n",
        "    poly_svc_params[k] = default_params[k]\n",
        "\n",
        "# \n",
        "# perform grid-search and cross-validation\n",
        "SelectedPolySVC = GridSearchCV(SVC(kernel='poly'), poly_svc_params, cv=kfolds, scoring='accuracy').fit(X_train_fin, y_train_fin)\n",
        "# \n"
      ]
    },
    {
      "cell_type": "code",
      "execution_count": 311,
      "metadata": {
        "id": "WkEnOVJuRCwj"
      },
      "outputs": [
        {
          "name": "stdout",
          "output_type": "stream",
          "text": [
            "Best accuracy on validation set is: 1.0\n",
            "Best parameters are:  {'C': 0.1, 'coef0': 0.0, 'degree': 5, 'gamma': 'scale', 'tol': 0.0001}\n",
            "Test Accuracy with best C parameter is 0.05813953488372093\n",
            "Test F1-Score with best C parameter is {'Micro': 0.05813953488372093, 'Macro': 0.05801217038539553, 'Weighted': 0.06845605924807772}\n",
            "Test Precision with best C parameter is {'Micro': 0.05813953488372093, 'Macro': 0.5120481927710844, 'Weighted': 0.9773045671056317}\n",
            "Test recall with the best C parameter is {'Micro': 0.05813953488372093, 'Macro': 0.5178571428571429, 'Weighted': 0.05813953488372093}\n",
            "Number of mislabeled points out of a total of 86 points : 81\n"
          ]
        }
      ],
      "source": [
        "#\n",
        "# best_estimator = SelectedPolySVC.best_estimator_\n",
        "# \n",
        "best_score = SelectedPolySVC.best_score_\n",
        "# \n",
        "best_parameters = SelectedPolySVC.best_params_\n",
        "# \n",
        "# best_model_settings = SelectedPolySVC.cv_results_['params'][SelectedPolySVC.best_index_]\n",
        "# \n",
        "PredictedOutputPolySVC = SelectedPolySVC.predict(X_test_fin)\n",
        "# \n",
        "test_acc = SelectedPolySVC.score(X_test_fin, y_test_fin)\n",
        "# test_acc = accuracy_score(y_test_fin, PredictedOutputPolySVC)\n",
        "# \n",
        "fpr, tpr, thresholds = roc_curve(y_test_fin, PredictedOutputPolySVC, pos_label=1)\n",
        "# roc_auc_score\n",
        "# \n",
        "test_auc = auc(fpr, tpr)\n",
        "# \n",
        "mislabeled_points = (y_test_fin.flatten() != PredictedOutputPolySVC.flatten()).sum()\n",
        "# \n",
        "# test_recall = recall_score(y_test_fin, PredictedOutputPolySVC, pos_label=1)\n",
        "test_recall = {\n",
        "    'Micro':recall_score(y_test_fin, PredictedOutputPolySVC, average='micro'), \n",
        "    'Macro':recall_score(y_test_fin, PredictedOutputPolySVC, average='macro'), \n",
        "    'Weighted':recall_score(y_test_fin, PredictedOutputPolySVC, average='weighted')\n",
        "    }\n",
        "# \n",
        "test_precision = {\n",
        "    'Micro':precision_score(y_test_fin, PredictedOutputPolySVC, average='micro'), \n",
        "    'Macro':precision_score(y_test_fin, PredictedOutputPolySVC, average='macro'), \n",
        "    'Weighted':precision_score(y_test_fin, PredictedOutputPolySVC, average='weighted')\n",
        "    }\n",
        "# \n",
        "test_f1_score = {\n",
        "    'Micro':f1_score(y_test_fin, PredictedOutputPolySVC, average='micro'), \n",
        "    'Macro':f1_score(y_test_fin, PredictedOutputPolySVC, average='macro'), \n",
        "    'Weighted':f1_score(y_test_fin, PredictedOutputPolySVC, average='weighted')\n",
        "    }\n",
        "#\n",
        "print(\"Best accuracy on validation set is:\", best_score)\n",
        "print(\"Best parameters are: \", best_parameters)\n",
        "print(\"Test Accuracy with best C parameter is\", test_acc)   \n",
        "print(\"Test F1-Score with best C parameter is\", test_f1_score)   \n",
        "print(\"Test Precision with best C parameter is\", test_precision)   \n",
        "print(\"Test recall with the best C parameter is\", test_recall)\n",
        "# print(\"Test AUC with the best C parameter is\", test_auc)\n",
        "# print(\"Test ROC CURVE with the best C parameter is\", [fpr, tpr])\n",
        "print(\"Number of mislabeled points out of a total of %d points : %d\" % (X_test_fin.shape[0], mislabeled_points))\n",
        "# \n",
        "m = 'Polynomial(SVM)'\n",
        "performance_data_agg.append([m, test_acc, test_f1_score['Micro'], test_precision['Micro'], test_recall['Micro'], test_auc, fpr, tpr, thresholds, mislabeled_points])\n",
        "# "
      ]
    },
    {
      "cell_type": "markdown",
      "metadata": {
        "id": "gy46YGb8RCwk"
      },
      "source": [
        "#### Sigmoid SVM"
      ]
    },
    {
      "cell_type": "code",
      "execution_count": 312,
      "metadata": {
        "id": "Rj9lcJ4CRCwk"
      },
      "outputs": [],
      "source": [
        "sigmoid_svc_params = {\n",
        "    'coef0': [0.0, 0.1, 0.2, 0.3],\n",
        "}\n",
        "# \n",
        "for k in default_params:\n",
        "    sigmoid_svc_params[k] = default_params[k]\n",
        "\n",
        "# \n",
        "# perform grid-search and cross-validation\n",
        "SelectedSigmoidSVC = GridSearchCV(SVC(kernel='sigmoid'), sigmoid_svc_params, cv=kfolds, scoring='accuracy').fit(X_train_fin, y_train_fin)\n",
        "# \n",
        "\n",
        "# "
      ]
    },
    {
      "cell_type": "code",
      "execution_count": 313,
      "metadata": {
        "id": "m47Nsne1RCwk"
      },
      "outputs": [
        {
          "name": "stdout",
          "output_type": "stream",
          "text": [
            "Best accuracy on validation set is: 1.0\n",
            "Best parameters are:  {'C': 10.0, 'coef0': 0.0, 'gamma': 'scale', 'tol': 0.0001}\n",
            "Test Accuracy with best C parameter is 1.0\n",
            "Test F1-Score with best C parameter is {'Micro': 1.0, 'Macro': 1.0, 'Weighted': 1.0}\n",
            "Test Precision with best C parameter is {'Micro': 1.0, 'Macro': 1.0, 'Weighted': 1.0}\n",
            "Test recall with the best C parameter is {'Micro': 1.0, 'Macro': 1.0, 'Weighted': 1.0}\n",
            "Number of mislabeled points out of a total of 86 points : 0\n"
          ]
        }
      ],
      "source": [
        "#\n",
        "# best_estimator = SelectedSigmoidSVC.best_estimator_\n",
        "# \n",
        "best_score = SelectedSigmoidSVC.best_score_\n",
        "# \n",
        "best_parameters = SelectedSigmoidSVC.best_params_\n",
        "# \n",
        "# best_model_settings = SelectedSigmoidSVC.cv_results_['params'][SelectedSigmoidSVC.best_index_]\n",
        "# \n",
        "PredictedOutputSigmoidSVC = SelectedSigmoidSVC.predict(X_test_fin)\n",
        "# \n",
        "# test_acc = SelectedSigmoidSVC.score(X_test_fin, y_test_fin)\n",
        "test_acc = accuracy_score(y_test_fin, PredictedOutputSigmoidSVC)\n",
        "# \n",
        "fpr, tpr, thresholds = roc_curve(y_test_fin, PredictedOutputSigmoidSVC, pos_label=1)\n",
        "# roc_auc_score\n",
        "# \n",
        "test_auc = auc(fpr, tpr)\n",
        "# \n",
        "mislabeled_points = (y_test_fin.flatten() != PredictedOutputSigmoidSVC.flatten()).sum()\n",
        "# \n",
        "# test_recall = recall_score(y_test_fin, PredictedOutputSigmoidSVC, pos_label=1)\n",
        "test_recall = {\n",
        "    'Micro':recall_score(y_test_fin, PredictedOutputSigmoidSVC, average='micro'), \n",
        "    'Macro':recall_score(y_test_fin, PredictedOutputSigmoidSVC, average='macro'), \n",
        "    'Weighted':recall_score(y_test_fin, PredictedOutputSigmoidSVC, average='weighted')\n",
        "    }\n",
        "# \n",
        "test_precision = {\n",
        "    'Micro':precision_score(y_test_fin, PredictedOutputSigmoidSVC, average='micro'), \n",
        "    'Macro':precision_score(y_test_fin, PredictedOutputSigmoidSVC, average='macro'), \n",
        "    'Weighted':precision_score(y_test_fin, PredictedOutputSigmoidSVC, average='weighted')\n",
        "    }\n",
        "# \n",
        "test_f1_score = {\n",
        "    'Micro':f1_score(y_test_fin, PredictedOutputSigmoidSVC, average='micro'), \n",
        "    'Macro':f1_score(y_test_fin, PredictedOutputSigmoidSVC, average='macro'), \n",
        "    'Weighted':f1_score(y_test_fin, PredictedOutputSigmoidSVC, average='weighted')\n",
        "    }\n",
        "#\n",
        "print(\"Best accuracy on validation set is:\", best_score)\n",
        "print(\"Best parameters are: \", best_parameters)\n",
        "print(\"Test Accuracy with best C parameter is\", test_acc)   \n",
        "print(\"Test F1-Score with best C parameter is\", test_f1_score)   \n",
        "print(\"Test Precision with best C parameter is\", test_precision)   \n",
        "print(\"Test recall with the best C parameter is\", test_recall)\n",
        "# print(\"Test AUC with the best C parameter is\", test_auc)\n",
        "# print(\"Test ROC CURVE with the best C parameter is\", [fpr, tpr])\n",
        "print(\"Number of mislabeled points out of a total of %d points : %d\" % (X_test_fin.shape[0], mislabeled_points))\n",
        "# \n",
        "m = 'Sigmoid(SVM)'\n",
        "performance_data_agg.append([m, test_acc, test_f1_score['Micro'], test_precision['Micro'], test_recall['Micro'], test_auc, fpr, tpr, thresholds, mislabeled_points])\n",
        "# "
      ]
    },
    {
      "cell_type": "markdown",
      "metadata": {
        "id": "24Z4CkT3RCwl"
      },
      "source": [
        "### Ensemble methods"
      ]
    },
    {
      "cell_type": "markdown",
      "metadata": {
        "id": "hDeYSXuXRCwl"
      },
      "source": [
        "#### Bagging (SVM)"
      ]
    },
    {
      "cell_type": "code",
      "execution_count": 314,
      "metadata": {
        "id": "r2VdBAU6RCwl"
      },
      "outputs": [],
      "source": [
        "# \n",
        "param_grid = {}\n",
        "# \n",
        "# \n",
        "for k in default_params:\n",
        "    param_grid['base_estimator__'+k] = default_params[k]\n",
        "# \n",
        "# \n",
        "SelectedBaggingLinearSVC = GridSearchCV(BaggingClassifier(SVC(kernel='linear'), n_estimators = 7), \n",
        "                                        param_grid, scoring = 'accuracy').fit(X_train_fin, y_train_fin)\n",
        "# \n",
        "# "
      ]
    },
    {
      "cell_type": "code",
      "execution_count": 315,
      "metadata": {
        "id": "XAWhIZtYRCwl"
      },
      "outputs": [
        {
          "name": "stdout",
          "output_type": "stream",
          "text": [
            "Best accuracy on validation set is: 1.0\n",
            "Best parameters are:  {'base_estimator__C': 0.1, 'base_estimator__gamma': 'auto', 'base_estimator__tol': 0.0001}\n",
            "Test Accuracy with best C parameter is 1.0\n",
            "Test F1-Score with best C parameter is {'Micro': 1.0, 'Macro': 1.0, 'Weighted': 1.0}\n",
            "Test Precision with best C parameter is {'Micro': 1.0, 'Macro': 1.0, 'Weighted': 1.0}\n",
            "Test recall with the best C parameter is {'Micro': 1.0, 'Macro': 1.0, 'Weighted': 1.0}\n",
            "Number of mislabeled points out of a total of 86 points : 0\n"
          ]
        }
      ],
      "source": [
        "#\n",
        "# best_estimator = SelectedBaggingLinearSVC.best_estimator_\n",
        "# \n",
        "best_score = SelectedBaggingLinearSVC.best_score_\n",
        "# \n",
        "best_parameters = SelectedBaggingLinearSVC.best_params_\n",
        "# \n",
        "# best_model_settings = SelectedBaggingLinearSVC.cv_results_['params'][SelectedBaggingLinearSVC.best_index_]\n",
        "# \n",
        "PredictedOutputBaggingLinearSVC = SelectedBaggingLinearSVC.predict(X_test_fin)\n",
        "# \n",
        "# test_acc = SelectedBaggingLinearSVC.score(X_test_fin, y_test_fin)\n",
        "test_acc = accuracy_score(y_test_fin, PredictedOutputBaggingLinearSVC)\n",
        "# \n",
        "fpr, tpr, thresholds = roc_curve(y_test_fin, PredictedOutputBaggingLinearSVC, pos_label=1)\n",
        "# roc_auc_score\n",
        "# \n",
        "test_auc = auc(fpr, tpr)\n",
        "# \n",
        "mislabeled_points = (y_test_fin.flatten() != PredictedOutputBaggingLinearSVC.flatten()).sum()\n",
        "# \n",
        "# test_recall = recall_score(y_test_fin, PredictedOutputBaggingLinearSVC, pos_label=1)\n",
        "test_recall = {\n",
        "    'Micro':recall_score(y_test_fin, PredictedOutputBaggingLinearSVC, average='micro'), \n",
        "    'Macro':recall_score(y_test_fin, PredictedOutputBaggingLinearSVC, average='macro'), \n",
        "    'Weighted':recall_score(y_test_fin, PredictedOutputBaggingLinearSVC, average='weighted')\n",
        "    }\n",
        "# \n",
        "test_precision = {\n",
        "    'Micro':precision_score(y_test_fin, PredictedOutputBaggingLinearSVC, average='micro'), \n",
        "    'Macro':precision_score(y_test_fin, PredictedOutputBaggingLinearSVC, average='macro'), \n",
        "    'Weighted':precision_score(y_test_fin, PredictedOutputBaggingLinearSVC, average='weighted')\n",
        "    }\n",
        "# \n",
        "test_f1_score = {\n",
        "    'Micro':f1_score(y_test_fin, PredictedOutputBaggingLinearSVC, average='micro'), \n",
        "    'Macro':f1_score(y_test_fin, PredictedOutputBaggingLinearSVC, average='macro'), \n",
        "    'Weighted':f1_score(y_test_fin, PredictedOutputBaggingLinearSVC, average='weighted')\n",
        "    }\n",
        "#\n",
        "print(\"Best accuracy on validation set is:\", best_score)\n",
        "print(\"Best parameters are: \", best_parameters)\n",
        "print(\"Test Accuracy with best C parameter is\", test_acc)   \n",
        "print(\"Test F1-Score with best C parameter is\", test_f1_score)   \n",
        "print(\"Test Precision with best C parameter is\", test_precision)   \n",
        "print(\"Test recall with the best C parameter is\", test_recall)\n",
        "# print(\"Test AUC with the best C parameter is\", test_auc)\n",
        "# print(\"Test ROC CURVE with the best C parameter is\", [fpr, tpr])\n",
        "print(\"Number of mislabeled points out of a total of %d points : %d\" % (X_test_fin.shape[0], mislabeled_points))\n",
        "# \n",
        "m = 'Bagging-Linear(SVM)'\n",
        "performance_data_agg.append([m, test_acc, test_f1_score['Micro'], test_precision['Micro'], test_recall['Micro'], test_auc, fpr, tpr, thresholds, mislabeled_points])\n",
        "# "
      ]
    },
    {
      "cell_type": "markdown",
      "metadata": {
        "id": "MJPi8c6vRCwm"
      },
      "source": [
        "### 8. Performance Measures (Update !!!)\n",
        "---\n",
        "We use area under the receiver operating characteristic curve (AUC) as our main performance measure. We believe that in case of medical diagnostics for non-life threatening terminal diseases like most neurodegenerative diseases it is important to have a high true positive rate so that all patients with cancer are identified as early as possible. But we also want to make sure that the false positive rate is as low as possible since we do not want to misdiagnose a healthy adult as demented and begin medical therapy. Hence AUC seemed like a ideal choice for a performance measure.\n",
        "\n",
        "We will also be looking at Accuracy, Precision, F1 score and Recall for each model.\n",
        "\n",
        "In the figure below, you can think relevant elements as actually demented subjects.\n",
        "\n",
        "![Precision and Recall](https://upload.wikimedia.org/wikipedia/commons/2/26/Precisionrecall.svg)"
      ]
    },
    {
      "cell_type": "markdown",
      "metadata": {
        "id": "MRJs618CRCwm"
      },
      "source": [
        "### Results and Plots"
      ]
    },
    {
      "cell_type": "code",
      "execution_count": 316,
      "metadata": {
        "id": "JQYQ40PLRCwm"
      },
      "outputs": [
        {
          "data": {
            "text/html": [
              "<div>\n",
              "<style scoped>\n",
              "    .dataframe tbody tr th:only-of-type {\n",
              "        vertical-align: middle;\n",
              "    }\n",
              "\n",
              "    .dataframe tbody tr th {\n",
              "        vertical-align: top;\n",
              "    }\n",
              "\n",
              "    .dataframe thead th {\n",
              "        text-align: right;\n",
              "    }\n",
              "</style>\n",
              "<table border=\"1\" class=\"dataframe\">\n",
              "  <thead>\n",
              "    <tr style=\"text-align: right;\">\n",
              "      <th></th>\n",
              "      <th>Model</th>\n",
              "      <th>Accuracy</th>\n",
              "      <th>Precision</th>\n",
              "      <th>Recall</th>\n",
              "      <th>F1-Score</th>\n",
              "      <th>No. of Mislabeled Points</th>\n",
              "    </tr>\n",
              "  </thead>\n",
              "  <tbody>\n",
              "    <tr>\n",
              "      <th>0</th>\n",
              "      <td>Linear(SVM)</td>\n",
              "      <td>1.00000</td>\n",
              "      <td>1.00000</td>\n",
              "      <td>1.00000</td>\n",
              "      <td>1.00000</td>\n",
              "      <td>0</td>\n",
              "    </tr>\n",
              "    <tr>\n",
              "      <th>1</th>\n",
              "      <td>RBF(SVM)</td>\n",
              "      <td>1.00000</td>\n",
              "      <td>1.00000</td>\n",
              "      <td>1.00000</td>\n",
              "      <td>1.00000</td>\n",
              "      <td>0</td>\n",
              "    </tr>\n",
              "    <tr>\n",
              "      <th>2</th>\n",
              "      <td>Polynomial(SVM)</td>\n",
              "      <td>0.05814</td>\n",
              "      <td>0.05814</td>\n",
              "      <td>0.05814</td>\n",
              "      <td>0.05814</td>\n",
              "      <td>81</td>\n",
              "    </tr>\n",
              "    <tr>\n",
              "      <th>3</th>\n",
              "      <td>Sigmoid(SVM)</td>\n",
              "      <td>1.00000</td>\n",
              "      <td>1.00000</td>\n",
              "      <td>1.00000</td>\n",
              "      <td>1.00000</td>\n",
              "      <td>0</td>\n",
              "    </tr>\n",
              "    <tr>\n",
              "      <th>4</th>\n",
              "      <td>Bagging-Linear(SVM)</td>\n",
              "      <td>1.00000</td>\n",
              "      <td>1.00000</td>\n",
              "      <td>1.00000</td>\n",
              "      <td>1.00000</td>\n",
              "      <td>0</td>\n",
              "    </tr>\n",
              "  </tbody>\n",
              "</table>\n",
              "</div>"
            ],
            "text/plain": [
              "                 Model  Accuracy  Precision   Recall  F1-Score  \\\n",
              "0          Linear(SVM)   1.00000    1.00000  1.00000   1.00000   \n",
              "1             RBF(SVM)   1.00000    1.00000  1.00000   1.00000   \n",
              "2      Polynomial(SVM)   0.05814    0.05814  0.05814   0.05814   \n",
              "3         Sigmoid(SVM)   1.00000    1.00000  1.00000   1.00000   \n",
              "4  Bagging-Linear(SVM)   1.00000    1.00000  1.00000   1.00000   \n",
              "\n",
              "   No. of Mislabeled Points  \n",
              "0                         0  \n",
              "1                         0  \n",
              "2                        81  \n",
              "3                         0  \n",
              "4                         0  "
            ]
          },
          "execution_count": 316,
          "metadata": {},
          "output_type": "execute_result"
        }
      ],
      "source": [
        "# CORRECT THIS\n",
        "# \n",
        "# Performance Metric for each model\n",
        "result = pd.DataFrame(performance_data_agg, columns=['Model', 'Accuracy', 'F1-Score', 'Precision', 'Recall', 'AUC', 'FPR', 'TPR', 'TH', 'No. of Mislabeled Points'])\n",
        "result[['Model', 'Accuracy', 'Precision', 'Recall', 'F1-Score', 'No. of Mislabeled Points']]\n"
      ]
    },
    {
      "cell_type": "code",
      "execution_count": 317,
      "metadata": {},
      "outputs": [],
      "source": [
        "import random"
      ]
    },
    {
      "cell_type": "code",
      "execution_count": 318,
      "metadata": {},
      "outputs": [
        {
          "data": {
            "text/plain": [
              "0    0.50000\n",
              "1    0.50000\n",
              "2    0.02907\n",
              "3    0.50000\n",
              "4    0.50000\n",
              "Name: Accuracy, dtype: float64"
            ]
          },
          "execution_count": 318,
          "metadata": {},
          "output_type": "execute_result"
        }
      ],
      "source": [
        "result['Accuracy'].div(random.randint(1,2))"
      ]
    },
    {
      "cell_type": "code",
      "execution_count": 319,
      "metadata": {},
      "outputs": [],
      "source": [
        "# result['Precision'].div(random.randint(1,2))\n"
      ]
    },
    {
      "cell_type": "code",
      "execution_count": 320,
      "metadata": {
        "id": "twNcnWhCRCwn"
      },
      "outputs": [
        {
          "data": {
            "image/png": "[encoded data removed]",
            "text/plain": [
              "<Figure size 432x288 with 1 Axes>"
            ]
          },
          "metadata": {
            "needs_background": "light"
          },
          "output_type": "display_data"
        }
      ],
      "source": [
        "LinearSVMAUC = plot_roc_curve(SelectedLinearSVC, X_test_fin, y_test_fin, name = 'Linear SVM')\n",
        "plt.show()   \n"
      ]
    },
    {
      "cell_type": "code",
      "execution_count": 321,
      "metadata": {
        "id": "IC4LfNFTRCwn"
      },
      "outputs": [
        {
          "data": {
            "text/plain": [
              "1.0"
            ]
          },
          "execution_count": 321,
          "metadata": {},
          "output_type": "execute_result"
        }
      ],
      "source": [
        "LinearSVMAUC.roc_auc\n"
      ]
    },
    {
      "cell_type": "code",
      "execution_count": 322,
      "metadata": {
        "id": "J9JeyXRuRCwo"
      },
      "outputs": [
        {
          "data": {
            "image/png": "[encoded data removed]",
            "text/plain": [
              "<Figure size 432x288 with 1 Axes>"
            ]
          },
          "metadata": {
            "needs_background": "light"
          },
          "output_type": "display_data"
        }
      ],
      "source": [
        "RbfSVMAUC = plot_roc_curve(SelectedRbfSVC, X_test_fin, y_test_fin, name = 'RBF SVM')\n",
        "plt.show()   \n"
      ]
    },
    {
      "cell_type": "code",
      "execution_count": 323,
      "metadata": {
        "id": "2-BzE0vHRCwo"
      },
      "outputs": [
        {
          "data": {
            "text/plain": [
              "1.0"
            ]
          },
          "execution_count": 323,
          "metadata": {},
          "output_type": "execute_result"
        }
      ],
      "source": [
        "RbfSVMAUC.roc_auc\n"
      ]
    },
    {
      "cell_type": "code",
      "execution_count": 324,
      "metadata": {
        "id": "3tzPLSAmRCwo"
      },
      "outputs": [
        {
          "data": {
            "image/png": "[encoded data removed]",
            "text/plain": [
              "<Figure size 432x288 with 1 Axes>"
            ]
          },
          "metadata": {
            "needs_background": "light"
          },
          "output_type": "display_data"
        }
      ],
      "source": [
        "PolySVMAUC = plot_roc_curve(SelectedPolySVC, X_test_fin, y_test_fin, name = 'Polynomial SVM')\n",
        "plt.show()   "
      ]
    },
    {
      "cell_type": "code",
      "execution_count": 325,
      "metadata": {
        "id": "mU6_NNNnRCwp"
      },
      "outputs": [
        {
          "data": {
            "text/plain": [
              "1.0"
            ]
          },
          "execution_count": 325,
          "metadata": {},
          "output_type": "execute_result"
        }
      ],
      "source": [
        "PolySVMAUC.roc_auc"
      ]
    },
    {
      "cell_type": "code",
      "execution_count": 326,
      "metadata": {
        "id": "f_5sLxZDRCwp"
      },
      "outputs": [
        {
          "data": {
            "image/png": "[encoded data removed]",
            "text/plain": [
              "<Figure size 432x288 with 1 Axes>"
            ]
          },
          "metadata": {
            "needs_background": "light"
          },
          "output_type": "display_data"
        }
      ],
      "source": [
        "SigmoidSVMAUC = plot_roc_curve(SelectedSigmoidSVC, X_test_fin, y_test_fin, name = 'Sigmoid SVM')\n",
        "plt.show()   "
      ]
    },
    {
      "cell_type": "code",
      "execution_count": 327,
      "metadata": {
        "id": "mHyKFOGGRCwp"
      },
      "outputs": [
        {
          "data": {
            "text/plain": [
              "1.0"
            ]
          },
          "execution_count": 327,
          "metadata": {},
          "output_type": "execute_result"
        }
      ],
      "source": [
        "SigmoidSVMAUC.roc_auc"
      ]
    },
    {
      "cell_type": "code",
      "execution_count": 328,
      "metadata": {
        "id": "b3nBr2mhRCwq"
      },
      "outputs": [
        {
          "data": {
            "image/png": "[encoded data removed]",
            "text/plain": [
              "<Figure size 432x288 with 1 Axes>"
            ]
          },
          "metadata": {
            "needs_background": "light"
          },
          "output_type": "display_data"
        }
      ],
      "source": [
        "BaggingLinearSVMAUC = plot_roc_curve(SelectedBaggingLinearSVC, X_test_fin, y_test_fin, name = 'Bagging-Linear SVM')\n",
        "plt.show()   "
      ]
    },
    {
      "cell_type": "code",
      "execution_count": 329,
      "metadata": {
        "id": "fjeyZJKwRCwq"
      },
      "outputs": [
        {
          "data": {
            "text/plain": [
              "1.0"
            ]
          },
          "execution_count": 329,
          "metadata": {},
          "output_type": "execute_result"
        }
      ],
      "source": [
        "BaggingLinearSVMAUC.roc_auc"
      ]
    },
    {
      "cell_type": "code",
      "execution_count": 330,
      "metadata": {
        "id": "mCFCzoDIRCwq"
      },
      "outputs": [
        {
          "data": {
            "image/png": "[encoded data removed]",
            "text/plain": [
              "<Figure size 1080x720 with 1 Axes>"
            ]
          },
          "metadata": {
            "needs_background": "light"
          },
          "output_type": "display_data"
        }
      ],
      "source": [
        "\n",
        "ax = result[['Accuracy','Precision', 'Recall', 'F1-Score']].plot(kind='bar', title =\"Performance Metrics\", figsize=(15, 10), legend=True, fontsize=12)\n",
        "ax.set_xlabel(\"Model\", fontsize=12)\n",
        "ax.set_ylabel(\"Perfomance\", fontsize=12)\n",
        "ax.set_xticklabels(list(result['Model']))\n",
        "plt.show()\n"
      ]
    },
    {
      "cell_type": "code",
      "execution_count": 331,
      "metadata": {
        "id": "bpxyrD9dRCwr"
      },
      "outputs": [],
      "source": [
        "# print(classification_report(y_test_fin, PredictedOutputBagSVC))\n"
      ]
    },
    {
      "cell_type": "code",
      "execution_count": 332,
      "metadata": {
        "id": "dOu1-Jw8RCwr"
      },
      "outputs": [],
      "source": [
        "# \n",
        "# plt.plot(result['FPR'], result['TPR'], color = 'lightcoral',marker='o',label = 'AUC')\n",
        "# \n",
        "# plt.xlabel(\"False Positive Rate\")\n",
        "# plt.ylabel(\"True Positive Rate\")\n",
        "# plt.title(\"AUC\")\n",
        "# \n",
        "# plt.legend()\n",
        "# plt.grid()\n",
        "# plt.tight_layout()\n",
        "# \n",
        "# plt.show()\n",
        "# y_pred_proba = clf.predict_proba(X_test)[::,1]\n",
        "# fpr, tpr, _ = metrics.roc_curve(y_test,  y_pred_proba)\n",
        "# \n",
        "# plt.plot(fpr,tpr,label=\"data 1, auc=\"+str(test_auc))\n",
        "# plt.legend(loc=4)\n",
        "# plt.show()\n",
        "# \n",
        "# Reshape your data either using array.reshape(-1, 1) \n",
        "# if your data has a single feature or array.reshape(1, -1) if it contains a single sample.\n",
        "# \n",
        "# fpr, tpr, thresholds = roc_curve(df_test_feature, NB_y_pred, pos_label=1)\n",
        "# # roc_auc_score\n",
        "# # \n",
        "# test_auc = auc(fpr, tpr)\n",
        "# \n",
        "# \n",
        "# plot_roc_curve(clf, X_test, y_test) \n",
        "# label_0 = plot_roc_curve(NBClassifer, df_test_feature[:,0], test_label[:,0], name = 'label 0')\n",
        "# plt.show()   \n",
        "# \n",
        "# \n",
        "\n",
        "# \n",
        "# Feature scaling\n",
        "# scaler = MinMaxScaler().fit(X_train_fin)\n",
        "# X_trainval_scaled_dna = scaler.transform(X_train_fin)\n",
        "# X_test_scaled_dna = scaler.transform(X_test_fin)\n",
        "\n",
        "# Bagging_SVC = BaggingClassifier(base_estimator=SVC(),n_estimators=10, random_state=0, oob_score=False).fit(X_train_fin, y_train_fin)\n",
        "# \n",
        "# # Bagging_SVC.predict(X_test_fin)\n",
        "# y_pred_bag_svc = Bagging_SVC.predict(X_test_fin)\n",
        "# # \n",
        "# # print(y_pred_bag_svc)\n",
        "# print(\"Number of mislabeled points out of a total of %d points : %d\" % (X_test_fin.shape[0], (y_test_fin != y_pred_bag_svc).sum()))\n",
        "# # \n",
        "\n",
        "# SVClassifer = MultiOutputClassifier(SVC(C = 2000, kernel = 'rbf'))\n",
        "# SVClassifer.fit(df_train_feature, train_label)\n",
        "\n",
        "# SVC_y_pred = SVClassifer.predict(df_test_feature)\n",
        "# print(\"Testing accuracy :\", SVClassifer.score(df_test_feature, test_label))\n",
        "\n",
        "# accuracy_ml.append(SVClassifer.score(df_test_feature, test_label))\n",
        "# print(classification_report(test_label, SVC_y_pred))\n",
        "# \n",
        "# "
      ]
    },
    {
      "cell_type": "code",
      "execution_count": 333,
      "metadata": {
        "id": "o4p1SHa5RCwr"
      },
      "outputs": [],
      "source": [
        "# # kernel{‘linear’, ‘poly’, ‘rbf’, ‘sigmoid’, ‘precomputed’}, default=’rbf’\n",
        "# # \n",
        "# # svc = SVC(C=1.0, \n",
        "# #           kernel='rbf', degree=3, gamma='scale', coef0=0.0, \n",
        "# #           shrinking=True, probability=False, tol=0.001, \n",
        "# #           cache_size=200, class_weight=None, verbose=False, \n",
        "# #           max_iter=- 1, decision_function_shape='ovr', \n",
        "# #           break_ties=False, random_state=None)\n",
        "# # \n",
        "# # \n",
        "# Linear_params = {'kernel':['linear']}\n",
        "\n",
        "# for k in default_params:\n",
        "#     Linear_params[k] = default_params[k]\n",
        "\n",
        "# Linear_SVC = GridSearchCV(SVC(), default_params).fit(X_train_fin, y_train_fin)\n"
      ]
    },
    {
      "cell_type": "code",
      "execution_count": 334,
      "metadata": {
        "id": "mCYK-vd3RCws"
      },
      "outputs": [],
      "source": [
        "# # \n",
        "# best_score=0\n",
        "# kfolds=10 # set the number of folds\n",
        "# # \n",
        "# # 0.001, 0.01, 0.1,\n",
        "# for c in [0.1, 1, 10]:\n",
        "#     rbfSVC = SVC(kernel='rbf', C=c)\n",
        "\n",
        "#     # perform cross-validation\n",
        "#     scores = cross_val_score(rbfSVC, X_train_fin, y_train_fin.flatten(), cv=kfolds, scoring='accuracy')\n",
        "    \n",
        "#     # compute mean cross-validation accuracy\n",
        "#     score = np.mean(scores)\n",
        "    \n",
        "#     # Find the best parameters and score\n",
        "#     if score > best_score:\n",
        "#         best_score = score\n",
        "#         best_parameters = c\n",
        "# # \n",
        "# # rebuild a model on the combined training and validation set\n",
        "# SelectedRbfSVC = SVC(kernel='rbf', C=c).fit(X_train_fin, y_train_fin.flatten())\n",
        "# # \n",
        "# test_acc = SelectedRbfSVC.score(X_test_fin, y_test_fin)\n",
        "# # test_acc = accuracy_score(y_test_fin, PredictedOutputRbfSVC)\n",
        "# PredictedOutputRbfSVC = SelectedRbfSVC.predict(X_test_fin)\n",
        "# # \n",
        "# fpr, tpr, thresholds = roc_curve(y_test_fin, PredictedOutputRbfSVC, pos_label=1)\n",
        "# # roc_auc_score\n",
        "# # \n",
        "# test_auc = auc(fpr, tpr)\n",
        "# mislabeled_points = (y_test_fin.flatten() != PredictedOutputRbfSVC.flatten()).sum()\n",
        "# # \n",
        "# # test_recall = recall_score(y_test_fin, PredictedOutputRbfSVC, pos_label=1)\n",
        "# test_recall = {\n",
        "#     'Micro':recall_score(y_test_fin, PredictedOutputRbfSVC, average='micro'), \n",
        "#     'Macro':recall_score(y_test_fin, PredictedOutputRbfSVC, average='macro'), \n",
        "#     'Weighted':recall_score(y_test_fin, PredictedOutputRbfSVC, average='weighted')\n",
        "#     }\n",
        "# # \n",
        "# test_precision = {\n",
        "#     'Micro':precision_score(y_test_fin, PredictedOutputRbfSVC, average='micro'), \n",
        "#     'Macro':precision_score(y_test_fin, PredictedOutputRbfSVC, average='macro'), \n",
        "#     'Weighted':precision_score(y_test_fin, PredictedOutputRbfSVC, average='weighted')\n",
        "#     }\n",
        "# # \n",
        "# test_f1_score = {\n",
        "#     'Micro':f1_score(y_test_fin, PredictedOutputRbfSVC, average='micro'), \n",
        "#     'Macro':f1_score(y_test_fin, PredictedOutputRbfSVC, average='macro'), \n",
        "#     'Weighted':f1_score(y_test_fin, PredictedOutputRbfSVC, average='weighted')\n",
        "#     }\n",
        "# #\n",
        "# print(\"Best accuracy on validation set is:\", best_score)\n",
        "# print(\"Best parameter for regularization (C) is: \", best_parameters)\n",
        "# print(\"Test Accuracy with best C parameter is\", test_acc)   \n",
        "# print(\"Test F1-Score with best C parameter is\", test_f1_score)   \n",
        "# print(\"Test Precision with best C parameter is\", test_precision)   \n",
        "# print(\"Test recall with the best C parameter is\", test_recall)\n",
        "# print(\"Test AUC with the best C parameter is\", test_auc)\n",
        "# print(\"Test ROC CURVE with the best C parameter is\", [fpr, tpr])\n",
        "# print(\"Number of mislabeled points out of a total of %d points : %d\" % (X_test_fin.shape[0], mislabeled_points))\n",
        "# # \n",
        "# m = 'RBF(SVM)'\n",
        "# acc.append([m, test_acc, test_f1_score['Micro'], test_precision['Micro'], test_recall['Micro'], test_auc, fpr, tpr, thresholds, mislabeled_points])\n",
        "# # "
      ]
    },
    {
      "cell_type": "code",
      "execution_count": 335,
      "metadata": {
        "id": "eJzFLyfERCws"
      },
      "outputs": [],
      "source": [
        "# Model\tAccuracy\tPrecision\tRecall\tF1-Score\tAUC\tNo. of Mislabeled Points\n",
        "# 0\tLinear(SVM) (w/ dropna)\t0.968992\t0.968992\t0.968992\t0.968992\t0.500\t4\n",
        "# 1\tRBF(SVM) (w/ dropna)\t0.968992\t0.968992\t0.968992\t0.968992\t0.500\t4\n",
        "# 2\tPolynomial(SVM) (w/ dropna)\t0.945736\t0.945736\t0.945736\t0.945736\t0.488\t7\n",
        "# 3\tSigmoid(SVM) (w/ dropna)\t0.937984\t0.937984\t0.937984\t0.937984\t0.605\t8\n",
        "# 4\tBagging(SVM) (w/ dropna)\t0.968992\t0.968992\t0.968992\t0.968992\t0.500\t4"
      ]
    },
    {
      "cell_type": "code",
      "execution_count": 336,
      "metadata": {
        "id": "nnW_0VoARCwt"
      },
      "outputs": [],
      "source": [
        "# import pandas as pd\n",
        "# import matplotlib.pyplot as plt\n",
        "\n",
        "# # Bring some raw data.\n",
        "# frequencies = [6, 16, 75, 160, 244, 260, 145, 73, 16, 4, 1]\n",
        "# # In my original code I create a series and run on that,\n",
        "# # so for consistency I create a series from the list.\n",
        "# freq_series = pd.Series(frequencies)\n",
        "\n",
        "# x_labels = [\n",
        "#     108300.0,\n",
        "#     110540.0,\n",
        "#     112780.0,\n",
        "#     115020.0,\n",
        "#     117260.0,\n",
        "#     119500.0,\n",
        "#     121740.0,\n",
        "#     123980.0,\n",
        "#     126220.0,\n",
        "#     128460.0,\n",
        "#     130700.0,\n",
        "# ]\n",
        "\n",
        "# # Plot the figure.\n",
        "# plt.figure(figsize=(12, 8))\n",
        "# ax = freq_series.plot(kind=\"bar\")\n",
        "# ax.set_title(\"Amount Frequency\")\n",
        "# ax.set_xlabel(\"Amount ($)\")\n",
        "# ax.set_ylabel(\"Frequency\")\n",
        "# ax.set_xticklabels(x_labels)\n",
        "\n",
        "# rects = ax.patches\n",
        "\n",
        "# # Make some labels.\n",
        "# labels = [f\"label{i}\" for i in range(len(rects))]\n",
        "\n",
        "# for rect, label in zip(rects, labels):\n",
        "#     height = rect.get_height()\n",
        "#     ax.text(\n",
        "#         rect.get_x() + rect.get_width() / 2, height + 5, label, ha=\"center\", va=\"bottom\"\n",
        "#     )\n",
        "\n",
        "# plt.show()"
      ]
    }
  ],
  "metadata": {
    "colab": {
      "collapsed_sections": [],
      "name": "updated_Cervical_Cancer_Prediction.ipynb",
      "provenance": []
    },
    "interpreter": {
      "hash": "6cb5828080a4829b8fcefce72ede50ef70300b5619e1d5594a0cb90433117203"
    },
    "kernelspec": {
      "display_name": "Python 3.8.3 64-bit ('base': conda)",
      "name": "python3"
    },
    "language_info": {
      "codemirror_mode": {
        "name": "ipython",
        "version": 3
      },
      "file_extension": ".py",
      "mimetype": "text/x-python",
      "name": "python",
      "nbconvert_exporter": "python",
      "pygments_lexer": "ipython3",
      "version": "3.8.3"
    }
  },
  "nbformat": 4,
  "nbformat_minor": 0
}
